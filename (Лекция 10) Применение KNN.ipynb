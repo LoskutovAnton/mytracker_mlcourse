{
 "cells": [
  {
   "cell_type": "code",
   "execution_count": null,
   "id": "382004f3",
   "metadata": {},
   "outputs": [],
   "source": [
    "import numpy as np\n",
    "import cv2\n",
    "import os\n",
    "from sklearn.neighbors import KNeighborsClassifier"
   ]
  },
  {
   "cell_type": "code",
   "execution_count": null,
   "id": "65e3bd60",
   "metadata": {},
   "outputs": [],
   "source": [
    "!curl -o haarcascade_frontalface_alt.xml  https://github.com/opencv/opencv/blob/master/data/haarcascades/haarcascade_frontalface_alt.xml "
   ]
  },
  {
   "cell_type": "code",
   "execution_count": null,
   "id": "4e6dd99c",
   "metadata": {},
   "outputs": [],
   "source": [
    "#Init Camera\n",
    "cap = cv2.VideoCapture(0)\n",
    "\n",
    "# Face Detection\n",
    "face_cascade = cv2.CascadeClassifier(\"haarcascade_frontalface_alt.xml\")"
   ]
  },
  {
   "cell_type": "code",
   "execution_count": null,
   "id": "cd4227d5",
   "metadata": {},
   "outputs": [],
   "source": [
    "skip = 0\n",
    "face_data = []\n",
    "dataset_path = './data/'\n",
    "os.makedirs(dataset_path, exist_ok=True)"
   ]
  },
  {
   "cell_type": "code",
   "execution_count": null,
   "id": "2b8ca209",
   "metadata": {},
   "outputs": [],
   "source": [
    "file_name = input(\"Enter the name of the person : \")\n",
    "while True:\n",
    "    ret,frame = cap.read()\n",
    "\n",
    "    if ret==False:\n",
    "        continue\n",
    "\n",
    "    gray_frame = cv2.cvtColor(frame,cv2.COLOR_BGR2GRAY)\n",
    "\n",
    "\n",
    "    faces = face_cascade.detectMultiScale(frame,1.3,5)\n",
    "    if len(faces)==0:\n",
    "        continue\n",
    "\n",
    "    faces = sorted(faces,key=lambda f:f[2]*f[3])\n",
    "\n",
    "    # Pick the last face (because it is the largest face acc to area(f[2]*f[3]))\n",
    "    for face in faces[-1:]:\n",
    "        x,y,w,h = face\n",
    "        cv2.rectangle(frame,(x,y),(x+w,y+h),(0,255,255),2)\n",
    "\n",
    "        #Extract (Crop out the required face) : Region of Interest\n",
    "        offset = 10\n",
    "        face_section = frame[y-offset:y+h+offset,x-offset:x+w+offset]\n",
    "        face_section = cv2.resize(face_section,(100,100))\n",
    "\n",
    "        skip += 1\n",
    "        if skip%10==0:\n",
    "            face_data.append(face_section)\n",
    "            print(len(face_data))\n",
    "\n",
    "\n",
    "    cv2.imshow(\"Frame\",frame)\n",
    "    cv2.imshow(\"Face Section\",face_section)\n",
    "\n",
    "    key_pressed = cv2.waitKey(1) & 0xFF\n",
    "    if key_pressed == ord('q'):\n",
    "        break\n",
    "\n",
    "# Convert our face list array into a numpy array\n",
    "face_data = np.asarray(face_data)\n",
    "face_data = face_data.reshape((face_data.shape[0],-1))\n",
    "print(face_data.shape)\n",
    "\n",
    "# Save this data into file system\n",
    "np.save(os.path.join(dataset_path, file_name+'.npy'),face_data)\n",
    "print(\"Data Successfully save at \"+dataset_path+file_name+'.npy')\n",
    "\n",
    "cap.release()\n",
    "cv2.destroyAllWindows()"
   ]
  },
  {
   "cell_type": "code",
   "execution_count": null,
   "id": "1ebd8049",
   "metadata": {},
   "outputs": [],
   "source": []
  },
  {
   "cell_type": "code",
   "execution_count": null,
   "id": "7b9eac7c",
   "metadata": {},
   "outputs": [],
   "source": [
    "#Init Camera\n",
    "cap = cv2.VideoCapture(0)\n",
    "\n",
    "# Face Detection\n",
    "face_cascade = cv2.CascadeClassifier(\"haarcascade_frontalface_alt.xml\")"
   ]
  },
  {
   "cell_type": "code",
   "execution_count": null,
   "id": "b5112401",
   "metadata": {},
   "outputs": [],
   "source": [
    "skip = 0\n",
    "dataset_path = './data/'"
   ]
  },
  {
   "cell_type": "code",
   "execution_count": null,
   "id": "88505877",
   "metadata": {},
   "outputs": [],
   "source": [
    "face_data = [] \n",
    "labels = []"
   ]
  },
  {
   "cell_type": "code",
   "execution_count": null,
   "id": "6bc8920b",
   "metadata": {},
   "outputs": [],
   "source": [
    "class_id = 0\n",
    "names = {}"
   ]
  },
  {
   "cell_type": "code",
   "execution_count": null,
   "id": "37391dda",
   "metadata": {},
   "outputs": [],
   "source": [
    "# Data Preparation\n",
    "for fx in os.listdir(dataset_path):\n",
    "    if fx.endswith('.npy'):\n",
    "        #Create a mapping btw class_id and name\n",
    "        names[class_id] = fx[:-4]\n",
    "        print(\"Loaded \"+fx)\n",
    "        data_item = np.load(dataset_path+fx)\n",
    "        face_data.append(data_item)\n",
    "\n",
    "        #Create Labels for the class\n",
    "        target = class_id*np.ones((data_item.shape[0],))\n",
    "        class_id += 1\n",
    "        labels.append(target)"
   ]
  },
  {
   "cell_type": "code",
   "execution_count": null,
   "id": "ea086f4f",
   "metadata": {},
   "outputs": [],
   "source": [
    "face_dataset = np.concatenate(face_data,axis=0)\n",
    "face_labels = np.concatenate(labels,axis=0)#.reshape((-1,1))"
   ]
  },
  {
   "cell_type": "code",
   "execution_count": null,
   "id": "b761cd1a",
   "metadata": {},
   "outputs": [],
   "source": [
    "print(face_dataset.shape)\n",
    "print(face_labels.shape)"
   ]
  },
  {
   "cell_type": "code",
   "execution_count": null,
   "id": "b302a971",
   "metadata": {},
   "outputs": [],
   "source": [
    "clf = KNeighborsClassifier(n_neighbors=5)"
   ]
  },
  {
   "cell_type": "code",
   "execution_count": null,
   "id": "c3206c23",
   "metadata": {},
   "outputs": [],
   "source": [
    "clf.fit(face_dataset, face_labels)"
   ]
  },
  {
   "cell_type": "code",
   "execution_count": null,
   "id": "a1a4d488",
   "metadata": {},
   "outputs": [],
   "source": [
    "while True:\n",
    "    ret,frame = cap.read()\n",
    "    if ret == False:\n",
    "        continue\n",
    "\n",
    "    faces = face_cascade.detectMultiScale(frame,1.3,5)\n",
    "    if(len(faces)==0):\n",
    "        continue\n",
    "\n",
    "    for face in faces:\n",
    "        x,y,w,h = face\n",
    "\n",
    "        offset = 10\n",
    "        face_section = frame[y-offset:y+h+offset,x-offset:x+w+offset]\n",
    "        face_section = cv2.resize(face_section,(100,100))\n",
    "\n",
    "        out = clf.predict(face_section.reshape(1,-1))\n",
    "        dist = clf.kneighbors(face_section.reshape(1,-1))[0][0][0]\n",
    "\n",
    "        pred_name = f'{names[int(out)]} {dist:.0f}'\n",
    "        cv2.putText(frame,pred_name,(x,y-10),cv2.FONT_HERSHEY_SIMPLEX,1,(255,0,0),2,cv2.LINE_AA)\n",
    "        cv2.rectangle(frame,(x,y),(x+w,y+h),(0,255,255),2)\n",
    "\n",
    "    cv2.imshow(\"Faces\",frame)\n",
    "\n",
    "    key = cv2.waitKey(1) & 0xFF\n",
    "    if key==ord('q'):\n",
    "        break\n",
    "\n",
    "cap.release()\n",
    "cv2.destroyAllWindows()"
   ]
  },
  {
   "cell_type": "code",
   "execution_count": null,
   "id": "46a4713f",
   "metadata": {},
   "outputs": [],
   "source": []
  },
  {
   "cell_type": "code",
   "execution_count": null,
   "id": "2d91a739",
   "metadata": {},
   "outputs": [],
   "source": [
    "import numpy as np\n",
    "import pandas as pd\n",
    "from sklearn.feature_extraction.text import TfidfVectorizer\n",
    "from sklearn.neighbors import NearestNeighbors"
   ]
  },
  {
   "cell_type": "markdown",
   "id": "8706e7bf",
   "metadata": {},
   "source": [
    "https://www.kaggle.com/devendra45/movies-similarity"
   ]
  },
  {
   "cell_type": "code",
   "execution_count": null,
   "id": "d392061d",
   "metadata": {},
   "outputs": [],
   "source": [
    "df_movies = pd.read_csv('movies.csv')\n",
    "df_movies.head()"
   ]
  },
  {
   "cell_type": "code",
   "execution_count": null,
   "id": "44ea1296",
   "metadata": {},
   "outputs": [],
   "source": [
    "df_movies.shape"
   ]
  },
  {
   "cell_type": "code",
   "execution_count": null,
   "id": "139d6d3a",
   "metadata": {},
   "outputs": [],
   "source": [
    "vect = TfidfVectorizer()"
   ]
  },
  {
   "cell_type": "code",
   "execution_count": null,
   "id": "cb362e54",
   "metadata": {},
   "outputs": [],
   "source": [
    "nn = NearestNeighbors(n_neighbors=5)"
   ]
  },
  {
   "cell_type": "code",
   "execution_count": null,
   "id": "d6a0071b",
   "metadata": {},
   "outputs": [],
   "source": [
    "nn.fit(vect.fit_transform(df_movies['wiki_plot']))"
   ]
  },
  {
   "cell_type": "code",
   "execution_count": null,
   "id": "c7ee399b",
   "metadata": {},
   "outputs": [],
   "source": [
    "def get_top_films(text):\n",
    "    vec = vect.transform([text])\n",
    "    \n",
    "    dist, neigh = nn.kneighbors(vec)\n",
    "    print(neigh)\n",
    "    res = df_movies.loc[neigh[0]]\n",
    "    return res[['title', 'genre']]"
   ]
  },
  {
   "cell_type": "code",
   "execution_count": null,
   "id": "8ee9b3e1",
   "metadata": {},
   "outputs": [],
   "source": [
    "get_top_films('crime and drugs')"
   ]
  },
  {
   "cell_type": "code",
   "execution_count": null,
   "id": "8e43b1fc",
   "metadata": {},
   "outputs": [],
   "source": [
    "get_top_films('violence protest march')"
   ]
  },
  {
   "cell_type": "code",
   "execution_count": null,
   "id": "c51f0e14",
   "metadata": {},
   "outputs": [],
   "source": [
    "get_top_films('love affair hate')"
   ]
  },
  {
   "cell_type": "code",
   "execution_count": null,
   "id": "6f04d936",
   "metadata": {},
   "outputs": [],
   "source": [
    "get_top_films('fight action')"
   ]
  },
  {
   "cell_type": "code",
   "execution_count": null,
   "id": "40894c51",
   "metadata": {},
   "outputs": [],
   "source": []
  },
  {
   "cell_type": "code",
   "execution_count": null,
   "id": "efdc2a1c",
   "metadata": {},
   "outputs": [],
   "source": []
  }
 ],
 "metadata": {
  "kernelspec": {
   "display_name": "Python 3",
   "language": "python",
   "name": "python3"
  },
  "language_info": {
   "codemirror_mode": {
    "name": "ipython",
    "version": 3
   },
   "file_extension": ".py",
   "mimetype": "text/x-python",
   "name": "python",
   "nbconvert_exporter": "python",
   "pygments_lexer": "ipython3",
   "version": "3.9.6"
  }
 },
 "nbformat": 4,
 "nbformat_minor": 5
}
