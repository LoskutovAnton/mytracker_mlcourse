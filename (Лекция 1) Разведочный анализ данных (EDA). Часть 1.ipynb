{
 "cells": [
  {
   "cell_type": "markdown",
   "metadata": {},
   "source": [
    "# <center>Разведочный анализ данных (EDA). Часть 1</center>"
   ]
  },
  {
   "cell_type": "markdown",
   "metadata": {},
   "source": [
    "Данный ноутбук построен на основе гайда от разработчиков `pandas`, который можно найти по ссылке https://pandas.pydata.org/docs/user_guide/10min.html \\\n",
    "Сразу предупрежу что по этой ссылке можно застрять надолго. Поэтому советую сначала прочитать ноутбук ниже и ознакомиться с ссылками из него, а потом перейти к гайду от разработчиков и ознакомиться с ним."
   ]
  },
  {
   "cell_type": "markdown",
   "metadata": {},
   "source": [
    "Для начала импортируем библиотеки, которые нам понадобятся в этом ноутбуке.\n",
    "Советую все импорты выносить в начало ноутбука, а не раскидывать по разным частям =)"
   ]
  },
  {
   "cell_type": "code",
   "execution_count": 1,
   "metadata": {
    "scrolled": true
   },
   "outputs": [],
   "source": [
    "import os\n",
    "import numpy as np\n",
    "import pandas as pd"
   ]
  },
  {
   "cell_type": "code",
   "execution_count": 2,
   "metadata": {},
   "outputs": [
    {
     "data": {
      "text/plain": [
       "'1.2.4'"
      ]
     },
     "execution_count": 2,
     "metadata": {},
     "output_type": "execute_result"
    }
   ],
   "source": [
    "pd.__version__"
   ]
  },
  {
   "cell_type": "markdown",
   "metadata": {},
   "source": [
    "## Установка Anaconda\n",
    "1. Перейти на сайт Anaconda: https://www.anaconda.com/download/\n",
    "2. Выбрать операционную систему, которая стоит у вас на компьютере (Windows, Linux или MacOS)\n",
    "3. Скачать соответствующий разрядности Вашего процессора (32 бит или 64 бит) вариант Anaconda\n",
    "4. Для установки библиотеки jupyter: conda install jupyter\n",
    "5. Запустить ноутбук: jupyter notebook\n",
    "\n",
    "#### Список базовых команд для работы с anaconda:\n",
    "- Создать новое окружение:\n",
    "`conda create --name test_env python=3.6`\n",
    "- Посмотреть уже созданные окружения:\n",
    "`conda info --envs`\n",
    "- Активировать окружение:\n",
    "`conda activate test_env`\n",
    "- Выйти из окружения в изначальное (базовое):\n",
    "`conda activate`\n",
    "- Установить новый пакет:\n",
    "`conda install beautifulsoup4`\n",
    "- Посмотреть все установленные пакеты:\n",
    "`conda list`\n",
    "- Обновить пакет:\n",
    "`conda update beautifulsoup4`"
   ]
  },
  {
   "cell_type": "markdown",
   "metadata": {},
   "source": [
    "## Работа с Series"
   ]
  },
  {
   "cell_type": "markdown",
   "metadata": {},
   "source": [
    "`pd.Series` - это индексированный массив данных. \\\n",
    "У этой структуры есть индекс элементов, который может являться любой хешируемый объект и элементы, которыми может являться любой объект (даже другой `pd.Series`). \\\n",
    "`pd.Series` очень похож на словарь из стандартных структур Python, но в дополнение к этому обладает множеством методов для обработки. Большинство этих методов написаны так, что вам будет проще работать с `pd.Series`, если вы будете его воспринимать как массив элементов с индексом."
   ]
  },
  {
   "cell_type": "markdown",
   "metadata": {},
   "source": [
    "Для начала определим простой `pd.Series` с названием apples, у которого индексом будут строки, а элементами будут целые числа. На его примере разберемся с простыми методами, которые доступны нам \"из коробки\"."
   ]
  },
  {
   "cell_type": "code",
   "execution_count": 80,
   "metadata": {},
   "outputs": [
    {
     "data": {
      "text/plain": [
       "Alise      10\n",
       "Andrew     30\n",
       "Bob        20\n",
       "Matt       25\n",
       "Charles     4\n",
       "Ann         0\n",
       "dtype: int64"
      ]
     },
     "execution_count": 80,
     "metadata": {},
     "output_type": "execute_result"
    }
   ],
   "source": [
    "apples = pd.Series([10, 30, 20, 25, 4, 0], \n",
    "                   index = ['Alise', 'Andrew', 'Bob', 'Matt', 'Charles', 'Ann']) \n",
    "apples"
   ]
  },
  {
   "cell_type": "markdown",
   "metadata": {},
   "source": [
    "Для `pd.Series` доступны методы получение максимального, минимального, среднего, медианного и тп элементов."
   ]
  },
  {
   "cell_type": "code",
   "execution_count": 4,
   "metadata": {},
   "outputs": [
    {
     "data": {
      "text/plain": [
       "(30, 0, 14.833333333333334, 15.0)"
      ]
     },
     "execution_count": 4,
     "metadata": {},
     "output_type": "execute_result"
    }
   ],
   "source": [
    "apples.max(), apples.min(), apples.mean(), apples.median()"
   ]
  },
  {
   "cell_type": "markdown",
   "metadata": {},
   "source": [
    "Индексирование элементов доступно по индексам этих элементов. Если индекс - это строка, то есть 2 вида обращения к элементу."
   ]
  },
  {
   "cell_type": "code",
   "execution_count": 5,
   "metadata": {},
   "outputs": [
    {
     "data": {
      "text/plain": [
       "(30, 30)"
      ]
     },
     "execution_count": 5,
     "metadata": {},
     "output_type": "execute_result"
    }
   ],
   "source": [
    "apples['Andrew'], apples.Andrew"
   ]
  },
  {
   "cell_type": "markdown",
   "metadata": {},
   "source": [
    "Также обращаться можно по \"нумерному\" индексу, как в стандартном списке."
   ]
  },
  {
   "cell_type": "code",
   "execution_count": 6,
   "metadata": {},
   "outputs": [
    {
     "data": {
      "text/plain": [
       "30"
      ]
     },
     "execution_count": 6,
     "metadata": {},
     "output_type": "execute_result"
    }
   ],
   "source": [
    "apples[1]"
   ]
  },
  {
   "cell_type": "markdown",
   "metadata": {},
   "source": [
    "Также для `pd.Series` есть понятие среза, которые работают аналогично срезам в стандартном списке."
   ]
  },
  {
   "cell_type": "code",
   "execution_count": 84,
   "metadata": {},
   "outputs": [
    {
     "data": {
      "text/plain": [
       "Alise      10\n",
       "Andrew     30\n",
       "Bob        20\n",
       "Matt       25\n",
       "Charles     4\n",
       "Ann         0\n",
       "dtype: int64"
      ]
     },
     "execution_count": 84,
     "metadata": {},
     "output_type": "execute_result"
    }
   ],
   "source": [
    "apples[:]"
   ]
  },
  {
   "cell_type": "markdown",
   "metadata": {},
   "source": [
    "Можно пользоваться фильтрацией элементов через удобный `numpy` синтаксис.\\\n",
    "Фактически алгоритм работы такой:\n",
    "1. Строим булеву маску (apples > 15) элементов `pd.Series`, которая будет содержать `True` на месте элемента, для которого выполняется условие и `False` на месте элементов, для которых не выполняется условие.\n",
    "2. Индексируемся по булевой маске, оставляя только те элементы `pd.Series`, для которых булева маска содержит `True` на месте элемента."
   ]
  },
  {
   "cell_type": "code",
   "execution_count": 8,
   "metadata": {},
   "outputs": [
    {
     "data": {
      "text/plain": [
       "Alise      False\n",
       "Andrew      True\n",
       "Bob         True\n",
       "Matt        True\n",
       "Charles    False\n",
       "Ann        False\n",
       "dtype: bool"
      ]
     },
     "execution_count": 8,
     "metadata": {},
     "output_type": "execute_result"
    }
   ],
   "source": [
    "mask = apples > 15\n",
    "mask"
   ]
  },
  {
   "cell_type": "code",
   "execution_count": 88,
   "metadata": {},
   "outputs": [
    {
     "data": {
      "text/plain": [
       "Andrew    30\n",
       "Bob       20\n",
       "Matt      25\n",
       "dtype: int64"
      ]
     },
     "execution_count": 88,
     "metadata": {},
     "output_type": "execute_result"
    }
   ],
   "source": [
    "apples[mask]"
   ]
  },
  {
   "cell_type": "code",
   "execution_count": 10,
   "metadata": {},
   "outputs": [
    {
     "data": {
      "text/plain": [
       "Andrew    30\n",
       "Bob       20\n",
       "Matt      25\n",
       "dtype: int64"
      ]
     },
     "execution_count": 10,
     "metadata": {},
     "output_type": "execute_result"
    }
   ],
   "source": [
    "apples[apples > 15]"
   ]
  },
  {
   "cell_type": "markdown",
   "metadata": {},
   "source": [
    "Фильтрацию можно делать на основе нескольких булевых масок и объединяются они не логическими, а битовыми операциями (например, битовое И, которое в Python обозначается в виде `&`)"
   ]
  },
  {
   "cell_type": "code",
   "execution_count": 94,
   "metadata": {},
   "outputs": [
    {
     "data": {
      "text/plain": [
       "Bob     20\n",
       "Matt    25\n",
       "dtype: int64"
      ]
     },
     "execution_count": 94,
     "metadata": {},
     "output_type": "execute_result"
    }
   ],
   "source": [
    "apples[(apples > 15) & (apples < 30)]"
   ]
  },
  {
   "cell_type": "markdown",
   "metadata": {},
   "source": [
    "Бекенд библиотеки `pandas` был построен с использованием библиотеки `numpy`, про которую мы вам расскажем в следующий раз. И во многом `pandas` полагается и многое отнаследовал от библиотеки `numpy`. В том числе свой \"математический\" `np.nan`, в отличие от \"объектного\" `None` из Python. \\\n",
    "Спустя несколько лет и версию `pandas` 1.0 появился новый None, но теперь свой встроенный (`pd.NA`)."
   ]
  },
  {
   "cell_type": "code",
   "execution_count": 12,
   "metadata": {},
   "outputs": [
    {
     "data": {
      "text/plain": [
       "(<NA>, None, nan)"
      ]
     },
     "execution_count": 12,
     "metadata": {},
     "output_type": "execute_result"
    }
   ],
   "source": [
    "pd.NA, None, np.nan"
   ]
  },
  {
   "cell_type": "markdown",
   "metadata": {},
   "source": [
    "Давайте разберемся как работать с неполными данными и как нам может помочь `pandas`."
   ]
  },
  {
   "cell_type": "code",
   "execution_count": 131,
   "metadata": {},
   "outputs": [
    {
     "data": {
      "text/plain": [
       "Alise        10\n",
       "Andrew       30\n",
       "Bob          20\n",
       "Matt         25\n",
       "Charles       4\n",
       "Ann           0\n",
       "Carl       <NA>\n",
       "dtype: object"
      ]
     },
     "execution_count": 131,
     "metadata": {},
     "output_type": "execute_result"
    }
   ],
   "source": [
    "apples['Carl'] = pd.NA\n",
    "apples"
   ]
  },
  {
   "cell_type": "markdown",
   "metadata": {},
   "source": [
    "Если мы понимаем \"природу данных\" или как они были получены, то можем заполнить эти значения (с помощью метода `pd.fillna`).\\\n",
    "Например, мы можем заполнить пропущенные данные числом, которое передали сами, или числом, которое было вычисленно на остальных данных (например, медиана)."
   ]
  },
  {
   "cell_type": "code",
   "execution_count": 127,
   "metadata": {},
   "outputs": [
    {
     "data": {
      "text/plain": [
       "Alise       10\n",
       "Andrew      30\n",
       "Bob         20\n",
       "Matt        25\n",
       "Charles      4\n",
       "Ann          0\n",
       "Carl      -999\n",
       "dtype: int64"
      ]
     },
     "execution_count": 127,
     "metadata": {},
     "output_type": "execute_result"
    }
   ],
   "source": [
    "apples.fillna(-999)"
   ]
  },
  {
   "cell_type": "code",
   "execution_count": 132,
   "metadata": {},
   "outputs": [
    {
     "data": {
      "text/plain": [
       "Alise      10.0\n",
       "Andrew     30.0\n",
       "Bob        20.0\n",
       "Matt       25.0\n",
       "Charles     4.0\n",
       "Ann         0.0\n",
       "Carl       15.0\n",
       "dtype: float64"
      ]
     },
     "execution_count": 132,
     "metadata": {},
     "output_type": "execute_result"
    }
   ],
   "source": [
    "apples.fillna(apples.median())"
   ]
  },
  {
   "cell_type": "markdown",
   "metadata": {},
   "source": [
    "Можно заметить, что при заполнении пропущенного значения медианой наш `pd.Series` поменял свой тип с `int64` на `float64`. А если посмотреть чуть выше, то можно заметить, что `pd.Series`, содержащий `pd.NA`, был типа `object`.\\\n",
    "Это связано с тем, что `pd.Series` умеет сам определять тип данный и менять тип элементов, если этого требует его модификация.\\\n",
    "Мы можем поменять тип сами, если это возможно. Для этого надо использовать метод `pd.astype`."
   ]
  },
  {
   "cell_type": "code",
   "execution_count": 133,
   "metadata": {},
   "outputs": [
    {
     "data": {
      "text/plain": [
       "Alise      10\n",
       "Andrew     30\n",
       "Bob        20\n",
       "Matt       25\n",
       "Charles     4\n",
       "Ann         0\n",
       "Carl       15\n",
       "dtype: int64"
      ]
     },
     "execution_count": 133,
     "metadata": {},
     "output_type": "execute_result"
    }
   ],
   "source": [
    "apples.fillna(apples.median().astype(int))"
   ]
  },
  {
   "cell_type": "markdown",
   "metadata": {},
   "source": [
    "Теперь давайте познакомимся с аргументом `inplace`, который часто встречается в методах `pandas`. Этот аргумент \"меняет\" принцип работы метода.\n",
    "- Если `inplace=False` (по умолчанию), то метод возвращает модифицированный `pd.Series`.\n",
    "- Если `inplace=True`, то метод изменяет переданный `pd.Series` и возвращает `None`."
   ]
  },
  {
   "cell_type": "code",
   "execution_count": 17,
   "metadata": {},
   "outputs": [
    {
     "data": {
      "text/plain": [
       "Alise      10.0\n",
       "Andrew     30.0\n",
       "Bob        20.0\n",
       "Matt       25.0\n",
       "Charles     4.0\n",
       "Ann         0.0\n",
       "Carl       15.0\n",
       "dtype: float64"
      ]
     },
     "execution_count": 17,
     "metadata": {},
     "output_type": "execute_result"
    }
   ],
   "source": [
    "apples.fillna(apples.median(), inplace=True)\n",
    "apples"
   ]
  },
  {
   "cell_type": "markdown",
   "metadata": {},
   "source": [
    "Небольшая помарка относительно типов данных. В `pandas` их достаточно много и это может сильно путать в самом начале.\\\n",
    "Простой пример ниже, мы используем тип `Int64`, который отличается от типа, использованного выше `int64`.\\\n",
    "Более подробно про типы можно прочитать в документации, если не боитесь английского и много букв: https://pandas.pydata.org/pandas-docs/stable/user_guide/basics.html#basics-dtypes"
   ]
  },
  {
   "cell_type": "code",
   "execution_count": 18,
   "metadata": {},
   "outputs": [
    {
     "data": {
      "text/plain": [
       "Alise      10\n",
       "Andrew     30\n",
       "Bob        20\n",
       "Matt       25\n",
       "Charles     4\n",
       "Ann         0\n",
       "Carl       15\n",
       "dtype: Int64"
      ]
     },
     "execution_count": 18,
     "metadata": {},
     "output_type": "execute_result"
    }
   ],
   "source": [
    "apples.astype('Int64')"
   ]
  },
  {
   "cell_type": "markdown",
   "metadata": {},
   "source": [
    "Размер `pd.Series` можно узнать стандартной для Python функции `len` или с помощью метода `pd.shape`. В первом случае вернется целое число, во втором tuple из 1 элемента."
   ]
  },
  {
   "cell_type": "code",
   "execution_count": 19,
   "metadata": {},
   "outputs": [
    {
     "data": {
      "text/plain": [
       "3"
      ]
     },
     "execution_count": 19,
     "metadata": {},
     "output_type": "execute_result"
    }
   ],
   "source": [
    "len(apples[apples > 15])"
   ]
  },
  {
   "cell_type": "code",
   "execution_count": 139,
   "metadata": {},
   "outputs": [
    {
     "data": {
      "text/plain": [
       "7"
      ]
     },
     "execution_count": 139,
     "metadata": {},
     "output_type": "execute_result"
    }
   ],
   "source": [
    "apples.shape"
   ]
  },
  {
   "cell_type": "markdown",
   "metadata": {},
   "source": [
    "## Работа с DataFrame"
   ]
  },
  {
   "cell_type": "markdown",
   "metadata": {},
   "source": [
    "`pd.DataFrame` - основной тип данных, который нам предоставляет библиотека `pandas`.\\\n",
    "`pd.DataFrame` - это таблица, например, как в Excel, или как набор `pd.Series` со сквозным индексов для элементов и своим именем (название столбца).\\\n",
    "Бекенд `pd.DataFrame` представляет из себя набор `pd.Series` с парой индексов."
   ]
  },
  {
   "cell_type": "markdown",
   "metadata": {},
   "source": [
    "Сначала разберемся с тем как можно создавать `pd.DataFrame`. Для этого есть 2 основных подхода:\n",
    "1. Отдельно указывать матрицу с данными и 2 индекса строк и колонок."
   ]
  },
  {
   "cell_type": "code",
   "execution_count": 186,
   "metadata": {},
   "outputs": [
    {
     "data": {
      "text/html": [
       "<div>\n",
       "<style scoped>\n",
       "    .dataframe tbody tr th:only-of-type {\n",
       "        vertical-align: middle;\n",
       "    }\n",
       "\n",
       "    .dataframe tbody tr th {\n",
       "        vertical-align: top;\n",
       "    }\n",
       "\n",
       "    .dataframe thead th {\n",
       "        text-align: right;\n",
       "    }\n",
       "</style>\n",
       "<table border=\"1\" class=\"dataframe\">\n",
       "  <thead>\n",
       "    <tr style=\"text-align: right;\">\n",
       "      <th></th>\n",
       "      <th>f1</th>\n",
       "      <th>f2</th>\n",
       "      <th>f3</th>\n",
       "    </tr>\n",
       "  </thead>\n",
       "  <tbody>\n",
       "    <tr>\n",
       "      <th>o1</th>\n",
       "      <td>-2.185236</td>\n",
       "      <td>-0.549955</td>\n",
       "      <td>-0.849877</td>\n",
       "    </tr>\n",
       "    <tr>\n",
       "      <th>o2</th>\n",
       "      <td>-0.375494</td>\n",
       "      <td>0.094652</td>\n",
       "      <td>0.710512</td>\n",
       "    </tr>\n",
       "    <tr>\n",
       "      <th>o3</th>\n",
       "      <td>-0.040600</td>\n",
       "      <td>0.198146</td>\n",
       "      <td>-0.836793</td>\n",
       "    </tr>\n",
       "    <tr>\n",
       "      <th>o4</th>\n",
       "      <td>-0.053404</td>\n",
       "      <td>-0.602549</td>\n",
       "      <td>-1.212883</td>\n",
       "    </tr>\n",
       "    <tr>\n",
       "      <th>o5</th>\n",
       "      <td>-1.339325</td>\n",
       "      <td>1.363126</td>\n",
       "      <td>-1.482896</td>\n",
       "    </tr>\n",
       "  </tbody>\n",
       "</table>\n",
       "</div>"
      ],
      "text/plain": [
       "          f1        f2        f3\n",
       "o1 -2.185236 -0.549955 -0.849877\n",
       "o2 -0.375494  0.094652  0.710512\n",
       "o3 -0.040600  0.198146 -0.836793\n",
       "o4 -0.053404 -0.602549 -1.212883\n",
       "o5 -1.339325  1.363126 -1.482896"
      ]
     },
     "execution_count": 186,
     "metadata": {},
     "output_type": "execute_result"
    }
   ],
   "source": [
    "df1 = pd.DataFrame(np.random.randn(5, 3), \n",
    "                   index=['o1', 'o2', 'o3', 'o4', 'o5'], \n",
    "                   columns=['f1', 'f2', 'f3'])\n",
    "df1"
   ]
  },
  {
   "cell_type": "markdown",
   "metadata": {},
   "source": [
    "2. Задавать `pd.DataFrame` в виде словаря. То есть каждую колонку оформлять в виде элемента словаря, а ключ - это название индекса колонки."
   ]
  },
  {
   "cell_type": "code",
   "execution_count": 187,
   "metadata": {
    "scrolled": true
   },
   "outputs": [
    {
     "data": {
      "text/html": [
       "<div>\n",
       "<style scoped>\n",
       "    .dataframe tbody tr th:only-of-type {\n",
       "        vertical-align: middle;\n",
       "    }\n",
       "\n",
       "    .dataframe tbody tr th {\n",
       "        vertical-align: top;\n",
       "    }\n",
       "\n",
       "    .dataframe thead th {\n",
       "        text-align: right;\n",
       "    }\n",
       "</style>\n",
       "<table border=\"1\" class=\"dataframe\">\n",
       "  <thead>\n",
       "    <tr style=\"text-align: right;\">\n",
       "      <th></th>\n",
       "      <th>A</th>\n",
       "      <th>B</th>\n",
       "      <th>C</th>\n",
       "    </tr>\n",
       "  </thead>\n",
       "  <tbody>\n",
       "    <tr>\n",
       "      <th>0</th>\n",
       "      <td>0.139940</td>\n",
       "      <td>a</td>\n",
       "      <td>False</td>\n",
       "    </tr>\n",
       "    <tr>\n",
       "      <th>1</th>\n",
       "      <td>0.423570</td>\n",
       "      <td>b</td>\n",
       "      <td>False</td>\n",
       "    </tr>\n",
       "    <tr>\n",
       "      <th>2</th>\n",
       "      <td>0.819828</td>\n",
       "      <td>c</td>\n",
       "      <td>False</td>\n",
       "    </tr>\n",
       "    <tr>\n",
       "      <th>3</th>\n",
       "      <td>0.782679</td>\n",
       "      <td>d</td>\n",
       "      <td>True</td>\n",
       "    </tr>\n",
       "    <tr>\n",
       "      <th>4</th>\n",
       "      <td>0.670449</td>\n",
       "      <td>e</td>\n",
       "      <td>True</td>\n",
       "    </tr>\n",
       "  </tbody>\n",
       "</table>\n",
       "</div>"
      ],
      "text/plain": [
       "          A  B      C\n",
       "0  0.139940  a  False\n",
       "1  0.423570  b  False\n",
       "2  0.819828  c  False\n",
       "3  0.782679  d   True\n",
       "4  0.670449  e   True"
      ]
     },
     "execution_count": 187,
     "metadata": {},
     "output_type": "execute_result"
    }
   ],
   "source": [
    "df2 = pd.DataFrame({'A': np.random.random(5), \n",
    "                    'B': ['a', 'b', 'c', 'd', 'e'], \n",
    "                    'C': np.arange(5) > 2})\n",
    "df2"
   ]
  },
  {
   "cell_type": "markdown",
   "metadata": {},
   "source": [
    "Обращаться к элементам в `pd.DataFrame` можно разнообразными способами, каждый из которых имеет свою плюсы и минусы.\\\n",
    "Основные проблемы связаны с получением \"ссылки на элемент\" (View) или копии элемента (Copy). В документации есть большой документ проясняющий принцип работы: http://pandas-docs.github.io/pandas-docs-travis/user_guide/indexing.html\n",
    "1. Выбирать колонку или элемент с помощью оператора квадратных скобок"
   ]
  },
  {
   "cell_type": "code",
   "execution_count": 154,
   "metadata": {},
   "outputs": [
    {
     "data": {
      "text/plain": [
       "-0.2496569010143646"
      ]
     },
     "execution_count": 154,
     "metadata": {},
     "output_type": "execute_result"
    }
   ],
   "source": [
    "df1['f1']['o2']"
   ]
  },
  {
   "cell_type": "code",
   "execution_count": 156,
   "metadata": {},
   "outputs": [
    {
     "data": {
      "text/plain": [
       "o1    1.006918\n",
       "o2    0.484246\n",
       "o3    0.006049\n",
       "o4    3.322487\n",
       "o5    1.160741\n",
       "Name: f3, dtype: float64"
      ]
     },
     "execution_count": 156,
     "metadata": {},
     "output_type": "execute_result"
    }
   ],
   "source": [
    "df1['f3']"
   ]
  },
  {
   "cell_type": "markdown",
   "metadata": {},
   "source": [
    "В этом случае вы делаете 2 последовательных вызова (Chained Indexing), сначала выбраете колонку (`pd.Series`), а потом в нем обращаетесь к элементу.\\\n",
    "В этом случае вы не знаете что получили по итогу: копию элемента или \"ссылку на элемент\".\\\n",
    "Это не проблема при просмотре значений, но может стать проблемой при присваивании."
   ]
  },
  {
   "cell_type": "markdown",
   "metadata": {},
   "source": [
    "2. Выбирать элемент с помощью оператора `pd.at`"
   ]
  },
  {
   "cell_type": "code",
   "execution_count": 157,
   "metadata": {},
   "outputs": [
    {
     "data": {
      "text/plain": [
       "-1.1698654702337619"
      ]
     },
     "execution_count": 157,
     "metadata": {},
     "output_type": "execute_result"
    }
   ],
   "source": [
    "df1.at['o3', 'f1']"
   ]
  },
  {
   "cell_type": "markdown",
   "metadata": {},
   "source": [
    "Можно выбрать только один элемент, но всегда возвращает \"ссылку на элемент\"."
   ]
  },
  {
   "cell_type": "markdown",
   "metadata": {},
   "source": [
    "3. Выбирать элемент с помощью оператора `pd.iat`"
   ]
  },
  {
   "cell_type": "code",
   "execution_count": 160,
   "metadata": {},
   "outputs": [
    {
     "data": {
      "text/plain": [
       "-1.1698654702337619"
      ]
     },
     "execution_count": 160,
     "metadata": {},
     "output_type": "execute_result"
    }
   ],
   "source": [
    "df1.iat[2, 0]"
   ]
  },
  {
   "cell_type": "markdown",
   "metadata": {},
   "source": [
    "Работает аналогично `pd.at`, но подаются 2 целочисленных индекса, когда в `pd.at` должны подаваться имена индексов."
   ]
  },
  {
   "cell_type": "markdown",
   "metadata": {},
   "source": [
    "4. Выбирать подмножество элементов с помощью операторов `pd.loc` или `pd.iloc`.\\\n",
    "Разница в операторах аналогично разнице `pd.at` / `pd.iat`.\\\n",
    "В отличие от `pd.at` оператор `pd.loc` позволяет выбрать подмножество элементов (датафрейм на основе старого, колонку или элемент).\\\n",
    "Если вы передаете в `pd.loc` не список элементов для одной из осей, то всегда возвращаются \"ссылки на элементы\"."
   ]
  },
  {
   "cell_type": "code",
   "execution_count": 27,
   "metadata": {},
   "outputs": [
    {
     "data": {
      "text/plain": [
       "'d'"
      ]
     },
     "execution_count": 27,
     "metadata": {},
     "output_type": "execute_result"
    }
   ],
   "source": [
    "df2.loc[3, 'B']"
   ]
  },
  {
   "cell_type": "code",
   "execution_count": 163,
   "metadata": {},
   "outputs": [
    {
     "data": {
      "text/html": [
       "<div>\n",
       "<style scoped>\n",
       "    .dataframe tbody tr th:only-of-type {\n",
       "        vertical-align: middle;\n",
       "    }\n",
       "\n",
       "    .dataframe tbody tr th {\n",
       "        vertical-align: top;\n",
       "    }\n",
       "\n",
       "    .dataframe thead th {\n",
       "        text-align: right;\n",
       "    }\n",
       "</style>\n",
       "<table border=\"1\" class=\"dataframe\">\n",
       "  <thead>\n",
       "    <tr style=\"text-align: right;\">\n",
       "      <th></th>\n",
       "      <th>B</th>\n",
       "      <th>C</th>\n",
       "    </tr>\n",
       "  </thead>\n",
       "  <tbody>\n",
       "    <tr>\n",
       "      <th>1</th>\n",
       "      <td>b</td>\n",
       "      <td>False</td>\n",
       "    </tr>\n",
       "    <tr>\n",
       "      <th>2</th>\n",
       "      <td>c</td>\n",
       "      <td>False</td>\n",
       "    </tr>\n",
       "    <tr>\n",
       "      <th>3</th>\n",
       "      <td>d</td>\n",
       "      <td>True</td>\n",
       "    </tr>\n",
       "  </tbody>\n",
       "</table>\n",
       "</div>"
      ],
      "text/plain": [
       "   B      C\n",
       "1  b  False\n",
       "2  c  False\n",
       "3  d   True"
      ]
     },
     "execution_count": 163,
     "metadata": {},
     "output_type": "execute_result"
    }
   ],
   "source": [
    "df2.loc[1:3, ['B', 'C']]"
   ]
  },
  {
   "cell_type": "markdown",
   "metadata": {},
   "source": [
    "Теперь перейдем к некоторым примерам как можно изменять `pd.DataFrame`. Некоторые из них всегда работают, а некоторые нет в зависимости от правил, описанных выше."
   ]
  },
  {
   "cell_type": "code",
   "execution_count": 29,
   "metadata": {},
   "outputs": [
    {
     "data": {
      "text/html": [
       "<div>\n",
       "<style scoped>\n",
       "    .dataframe tbody tr th:only-of-type {\n",
       "        vertical-align: middle;\n",
       "    }\n",
       "\n",
       "    .dataframe tbody tr th {\n",
       "        vertical-align: top;\n",
       "    }\n",
       "\n",
       "    .dataframe thead th {\n",
       "        text-align: right;\n",
       "    }\n",
       "</style>\n",
       "<table border=\"1\" class=\"dataframe\">\n",
       "  <thead>\n",
       "    <tr style=\"text-align: right;\">\n",
       "      <th></th>\n",
       "      <th>A</th>\n",
       "      <th>B</th>\n",
       "      <th>C</th>\n",
       "    </tr>\n",
       "  </thead>\n",
       "  <tbody>\n",
       "    <tr>\n",
       "      <th>0</th>\n",
       "      <td>0.567910</td>\n",
       "      <td>a</td>\n",
       "      <td>False</td>\n",
       "    </tr>\n",
       "    <tr>\n",
       "      <th>1</th>\n",
       "      <td>0.518998</td>\n",
       "      <td>b</td>\n",
       "      <td>False</td>\n",
       "    </tr>\n",
       "    <tr>\n",
       "      <th>2</th>\n",
       "      <td>0.209409</td>\n",
       "      <td>F</td>\n",
       "      <td>False</td>\n",
       "    </tr>\n",
       "    <tr>\n",
       "      <th>3</th>\n",
       "      <td>0.814364</td>\n",
       "      <td>d</td>\n",
       "      <td>True</td>\n",
       "    </tr>\n",
       "    <tr>\n",
       "      <th>4</th>\n",
       "      <td>0.739334</td>\n",
       "      <td>e</td>\n",
       "      <td>True</td>\n",
       "    </tr>\n",
       "  </tbody>\n",
       "</table>\n",
       "</div>"
      ],
      "text/plain": [
       "          A  B      C\n",
       "0  0.567910  a  False\n",
       "1  0.518998  b  False\n",
       "2  0.209409  F  False\n",
       "3  0.814364  d   True\n",
       "4  0.739334  e   True"
      ]
     },
     "execution_count": 29,
     "metadata": {},
     "output_type": "execute_result"
    }
   ],
   "source": [
    "df2.at[2, 'B'] = 'F'\n",
    "df2"
   ]
  },
  {
   "cell_type": "markdown",
   "metadata": {},
   "source": [
    "В данном примере хочется отметить, что мы слева от присваивания стоит множетсво из 2 элементов, а справа мы передаем только 1 элемент. Но все работает.\\\n",
    "Это связано с умением `pandas` уравнивать оси, если это необходимо. Более подробно мы об этом поговорим на следующей занятии по `numpy` и тут это работает полностью аналогично."
   ]
  },
  {
   "cell_type": "code",
   "execution_count": 168,
   "metadata": {},
   "outputs": [
    {
     "name": "stderr",
     "output_type": "stream",
     "text": [
      "/Users/an.loskutov/Documents/anaconda3/lib/python3.7/site-packages/ipykernel_launcher.py:1: FutureWarning: Slicing a positional slice with .loc is not supported, and will raise TypeError in a future version.  Use .loc with labels or .iloc with positions instead.\n",
      "  \"\"\"Entry point for launching an IPython kernel.\n"
     ]
    },
    {
     "data": {
      "text/html": [
       "<div>\n",
       "<style scoped>\n",
       "    .dataframe tbody tr th:only-of-type {\n",
       "        vertical-align: middle;\n",
       "    }\n",
       "\n",
       "    .dataframe tbody tr th {\n",
       "        vertical-align: top;\n",
       "    }\n",
       "\n",
       "    .dataframe thead th {\n",
       "        text-align: right;\n",
       "    }\n",
       "</style>\n",
       "<table border=\"1\" class=\"dataframe\">\n",
       "  <thead>\n",
       "    <tr style=\"text-align: right;\">\n",
       "      <th></th>\n",
       "      <th>f1</th>\n",
       "      <th>f2</th>\n",
       "      <th>f3</th>\n",
       "      <th>B</th>\n",
       "    </tr>\n",
       "  </thead>\n",
       "  <tbody>\n",
       "    <tr>\n",
       "      <th>o1</th>\n",
       "      <td>QQQ</td>\n",
       "      <td>-0.107039</td>\n",
       "      <td>1.006918</td>\n",
       "      <td>QQQ</td>\n",
       "    </tr>\n",
       "    <tr>\n",
       "      <th>o2</th>\n",
       "      <td>QQQ</td>\n",
       "      <td>-0.604688</td>\n",
       "      <td>0.484246</td>\n",
       "      <td>QQQ</td>\n",
       "    </tr>\n",
       "    <tr>\n",
       "      <th>o3</th>\n",
       "      <td>QQQ</td>\n",
       "      <td>1.553039</td>\n",
       "      <td>0.006049</td>\n",
       "      <td>QQQ</td>\n",
       "    </tr>\n",
       "    <tr>\n",
       "      <th>o4</th>\n",
       "      <td>FFF</td>\n",
       "      <td>-0.201414</td>\n",
       "      <td>3.322487</td>\n",
       "      <td>QQQ</td>\n",
       "    </tr>\n",
       "    <tr>\n",
       "      <th>o5</th>\n",
       "      <td>FFF</td>\n",
       "      <td>-1.148296</td>\n",
       "      <td>1.160741</td>\n",
       "      <td>QQQ</td>\n",
       "    </tr>\n",
       "  </tbody>\n",
       "</table>\n",
       "</div>"
      ],
      "text/plain": [
       "     f1        f2        f3    B\n",
       "o1  QQQ -0.107039  1.006918  QQQ\n",
       "o2  QQQ -0.604688  0.484246  QQQ\n",
       "o3  QQQ  1.553039  0.006049  QQQ\n",
       "o4  FFF -0.201414  3.322487  QQQ\n",
       "o5  FFF -1.148296  1.160741  QQQ"
      ]
     },
     "execution_count": 168,
     "metadata": {},
     "output_type": "execute_result"
    }
   ],
   "source": [
    "df1.loc[3:5, 'f1'] = 'FFF'\n",
    "df1"
   ]
  },
  {
   "cell_type": "markdown",
   "metadata": {},
   "source": [
    "То же самое `pandas` умеет делать и для пары `pd.Series`. Также тут можно заметить, что `pandas` сам подставляет необходимые типы и тут мы без ошибок можем их смешивать или заменять."
   ]
  },
  {
   "cell_type": "code",
   "execution_count": 177,
   "metadata": {},
   "outputs": [
    {
     "data": {
      "text/html": [
       "<div>\n",
       "<style scoped>\n",
       "    .dataframe tbody tr th:only-of-type {\n",
       "        vertical-align: middle;\n",
       "    }\n",
       "\n",
       "    .dataframe tbody tr th {\n",
       "        vertical-align: top;\n",
       "    }\n",
       "\n",
       "    .dataframe thead th {\n",
       "        text-align: right;\n",
       "    }\n",
       "</style>\n",
       "<table border=\"1\" class=\"dataframe\">\n",
       "  <thead>\n",
       "    <tr style=\"text-align: right;\">\n",
       "      <th></th>\n",
       "      <th>A</th>\n",
       "      <th>B</th>\n",
       "      <th>C</th>\n",
       "    </tr>\n",
       "  </thead>\n",
       "  <tbody>\n",
       "    <tr>\n",
       "      <th>0</th>\n",
       "      <td>0.667063</td>\n",
       "      <td>4</td>\n",
       "      <td>4</td>\n",
       "    </tr>\n",
       "    <tr>\n",
       "      <th>1</th>\n",
       "      <td>0.403631</td>\n",
       "      <td>4</td>\n",
       "      <td>4</td>\n",
       "    </tr>\n",
       "    <tr>\n",
       "      <th>2</th>\n",
       "      <td>0.686152</td>\n",
       "      <td>4</td>\n",
       "      <td>4</td>\n",
       "    </tr>\n",
       "    <tr>\n",
       "      <th>3</th>\n",
       "      <td>0.474066</td>\n",
       "      <td>4</td>\n",
       "      <td>4</td>\n",
       "    </tr>\n",
       "    <tr>\n",
       "      <th>4</th>\n",
       "      <td>0.145718</td>\n",
       "      <td>4</td>\n",
       "      <td>4</td>\n",
       "    </tr>\n",
       "  </tbody>\n",
       "</table>\n",
       "</div>"
      ],
      "text/plain": [
       "          A  B  C\n",
       "0  0.667063  4  4\n",
       "1  0.403631  4  4\n",
       "2  0.686152  4  4\n",
       "3  0.474066  4  4\n",
       "4  0.145718  4  4"
      ]
     },
     "execution_count": 177,
     "metadata": {},
     "output_type": "execute_result"
    }
   ],
   "source": [
    "df2[['B', 'C']] = 4\n",
    "df2"
   ]
  },
  {
   "cell_type": "code",
   "execution_count": 172,
   "metadata": {},
   "outputs": [
    {
     "data": {
      "text/html": [
       "<div>\n",
       "<style scoped>\n",
       "    .dataframe tbody tr th:only-of-type {\n",
       "        vertical-align: middle;\n",
       "    }\n",
       "\n",
       "    .dataframe tbody tr th {\n",
       "        vertical-align: top;\n",
       "    }\n",
       "\n",
       "    .dataframe thead th {\n",
       "        text-align: right;\n",
       "    }\n",
       "</style>\n",
       "<table border=\"1\" class=\"dataframe\">\n",
       "  <thead>\n",
       "    <tr style=\"text-align: right;\">\n",
       "      <th></th>\n",
       "      <th>A</th>\n",
       "      <th>B</th>\n",
       "      <th>C</th>\n",
       "    </tr>\n",
       "  </thead>\n",
       "  <tbody>\n",
       "    <tr>\n",
       "      <th>0</th>\n",
       "      <td>0.667063</td>\n",
       "      <td>1</td>\n",
       "      <td>False</td>\n",
       "    </tr>\n",
       "    <tr>\n",
       "      <th>1</th>\n",
       "      <td>0.403631</td>\n",
       "      <td>2</td>\n",
       "      <td>False</td>\n",
       "    </tr>\n",
       "    <tr>\n",
       "      <th>2</th>\n",
       "      <td>0.686152</td>\n",
       "      <td>3</td>\n",
       "      <td>False</td>\n",
       "    </tr>\n",
       "    <tr>\n",
       "      <th>3</th>\n",
       "      <td>0.474066</td>\n",
       "      <td>4</td>\n",
       "      <td>True</td>\n",
       "    </tr>\n",
       "    <tr>\n",
       "      <th>4</th>\n",
       "      <td>0.145718</td>\n",
       "      <td>e</td>\n",
       "      <td>True</td>\n",
       "    </tr>\n",
       "  </tbody>\n",
       "</table>\n",
       "</div>"
      ],
      "text/plain": [
       "          A  B      C\n",
       "0  0.667063  1  False\n",
       "1  0.403631  2  False\n",
       "2  0.686152  3  False\n",
       "3  0.474066  4   True\n",
       "4  0.145718  e   True"
      ]
     },
     "execution_count": 172,
     "metadata": {},
     "output_type": "execute_result"
    }
   ],
   "source": [
    "df2.loc[df2.A > 0.3, 'B'] = [1, 2, 3, 4]\n",
    "df2"
   ]
  },
  {
   "cell_type": "code",
   "execution_count": 181,
   "metadata": {},
   "outputs": [
    {
     "data": {
      "text/html": [
       "<div>\n",
       "<style scoped>\n",
       "    .dataframe tbody tr th:only-of-type {\n",
       "        vertical-align: middle;\n",
       "    }\n",
       "\n",
       "    .dataframe tbody tr th {\n",
       "        vertical-align: top;\n",
       "    }\n",
       "\n",
       "    .dataframe thead th {\n",
       "        text-align: right;\n",
       "    }\n",
       "</style>\n",
       "<table border=\"1\" class=\"dataframe\">\n",
       "  <thead>\n",
       "    <tr style=\"text-align: right;\">\n",
       "      <th></th>\n",
       "      <th>AAAAA</th>\n",
       "      <th>B</th>\n",
       "      <th>C</th>\n",
       "    </tr>\n",
       "  </thead>\n",
       "  <tbody>\n",
       "    <tr>\n",
       "      <th>0</th>\n",
       "      <td>0.667063</td>\n",
       "      <td>F</td>\n",
       "      <td>4.0000</td>\n",
       "    </tr>\n",
       "    <tr>\n",
       "      <th>1</th>\n",
       "      <td>0.403631</td>\n",
       "      <td>F</td>\n",
       "      <td>4.0000</td>\n",
       "    </tr>\n",
       "    <tr>\n",
       "      <th>2</th>\n",
       "      <td>0.686152</td>\n",
       "      <td>F</td>\n",
       "      <td>4.0000</td>\n",
       "    </tr>\n",
       "    <tr>\n",
       "      <th>3</th>\n",
       "      <td>0.474066</td>\n",
       "      <td>F</td>\n",
       "      <td>4.0000</td>\n",
       "    </tr>\n",
       "    <tr>\n",
       "      <th>4</th>\n",
       "      <td>0.145718</td>\n",
       "      <td>F</td>\n",
       "      <td>4.0000</td>\n",
       "    </tr>\n",
       "    <tr>\n",
       "      <th>5</th>\n",
       "      <td>3.141500</td>\n",
       "      <td>3.1415</td>\n",
       "      <td>3.1415</td>\n",
       "    </tr>\n",
       "  </tbody>\n",
       "</table>\n",
       "</div>"
      ],
      "text/plain": [
       "      AAAAA       B       C\n",
       "0  0.667063       F  4.0000\n",
       "1  0.403631       F  4.0000\n",
       "2  0.686152       F  4.0000\n",
       "3  0.474066       F  4.0000\n",
       "4  0.145718       F  4.0000\n",
       "5  3.141500  3.1415  3.1415"
      ]
     },
     "execution_count": 181,
     "metadata": {},
     "output_type": "execute_result"
    }
   ],
   "source": [
    "df2.loc[:, 'B'] = 'F'\n",
    "df2.loc[5, :] = 3.1415\n",
    "df2"
   ]
  },
  {
   "cell_type": "code",
   "execution_count": 34,
   "metadata": {},
   "outputs": [
    {
     "data": {
      "text/html": [
       "<div>\n",
       "<style scoped>\n",
       "    .dataframe tbody tr th:only-of-type {\n",
       "        vertical-align: middle;\n",
       "    }\n",
       "\n",
       "    .dataframe tbody tr th {\n",
       "        vertical-align: top;\n",
       "    }\n",
       "\n",
       "    .dataframe thead th {\n",
       "        text-align: right;\n",
       "    }\n",
       "</style>\n",
       "<table border=\"1\" class=\"dataframe\">\n",
       "  <thead>\n",
       "    <tr style=\"text-align: right;\">\n",
       "      <th></th>\n",
       "      <th>A</th>\n",
       "      <th>B</th>\n",
       "      <th>C</th>\n",
       "    </tr>\n",
       "  </thead>\n",
       "  <tbody>\n",
       "    <tr>\n",
       "      <th>0</th>\n",
       "      <td>0.567910</td>\n",
       "      <td>3.0000</td>\n",
       "      <td>4.0000</td>\n",
       "    </tr>\n",
       "    <tr>\n",
       "      <th>1</th>\n",
       "      <td>0.518998</td>\n",
       "      <td>3.0000</td>\n",
       "      <td>4.0000</td>\n",
       "    </tr>\n",
       "    <tr>\n",
       "      <th>2</th>\n",
       "      <td>14.310000</td>\n",
       "      <td>4.0000</td>\n",
       "      <td>4.0000</td>\n",
       "    </tr>\n",
       "    <tr>\n",
       "      <th>3</th>\n",
       "      <td>0.814364</td>\n",
       "      <td>3.0000</td>\n",
       "      <td>4.0000</td>\n",
       "    </tr>\n",
       "    <tr>\n",
       "      <th>4</th>\n",
       "      <td>0.739334</td>\n",
       "      <td>3.0000</td>\n",
       "      <td>4.0000</td>\n",
       "    </tr>\n",
       "    <tr>\n",
       "      <th>5</th>\n",
       "      <td>3.141500</td>\n",
       "      <td>3.1415</td>\n",
       "      <td>3.1415</td>\n",
       "    </tr>\n",
       "  </tbody>\n",
       "</table>\n",
       "</div>"
      ],
      "text/plain": [
       "           A       B       C\n",
       "0   0.567910  3.0000  4.0000\n",
       "1   0.518998  3.0000  4.0000\n",
       "2  14.310000  4.0000  4.0000\n",
       "3   0.814364  3.0000  4.0000\n",
       "4   0.739334  3.0000  4.0000\n",
       "5   3.141500  3.1415  3.1415"
      ]
     },
     "execution_count": 34,
     "metadata": {},
     "output_type": "execute_result"
    }
   ],
   "source": [
    "df2.iloc[2, 0] = 14.31\n",
    "df2"
   ]
  },
  {
   "cell_type": "markdown",
   "metadata": {},
   "source": [
    "Теперь перейдем к тому как можно менять название индексов у строк или колонок. Для этого есть метод `pd.rename`, который я и советую использовать."
   ]
  },
  {
   "cell_type": "code",
   "execution_count": 35,
   "metadata": {},
   "outputs": [
    {
     "name": "stdout",
     "output_type": "stream",
     "text": [
      "Row mapping: {'o1': 'column1', 'o2': 'column2', 'o3': 'column3', 'o4': 'column4', 'o5': 'column5'}\n"
     ]
    },
    {
     "data": {
      "text/html": [
       "<div>\n",
       "<style scoped>\n",
       "    .dataframe tbody tr th:only-of-type {\n",
       "        vertical-align: middle;\n",
       "    }\n",
       "\n",
       "    .dataframe tbody tr th {\n",
       "        vertical-align: top;\n",
       "    }\n",
       "\n",
       "    .dataframe thead th {\n",
       "        text-align: right;\n",
       "    }\n",
       "</style>\n",
       "<table border=\"1\" class=\"dataframe\">\n",
       "  <thead>\n",
       "    <tr style=\"text-align: right;\">\n",
       "      <th></th>\n",
       "      <th>f1</th>\n",
       "      <th>f2</th>\n",
       "      <th>f3</th>\n",
       "    </tr>\n",
       "  </thead>\n",
       "  <tbody>\n",
       "    <tr>\n",
       "      <th>column1</th>\n",
       "      <td>-1.046866</td>\n",
       "      <td>0.687201</td>\n",
       "      <td>-0.728417</td>\n",
       "    </tr>\n",
       "    <tr>\n",
       "      <th>column2</th>\n",
       "      <td>-1.143862</td>\n",
       "      <td>0.494658</td>\n",
       "      <td>0.856795</td>\n",
       "    </tr>\n",
       "    <tr>\n",
       "      <th>column3</th>\n",
       "      <td>-0.022745</td>\n",
       "      <td>-0.275290</td>\n",
       "      <td>-0.135069</td>\n",
       "    </tr>\n",
       "    <tr>\n",
       "      <th>column4</th>\n",
       "      <td>-0.141896</td>\n",
       "      <td>-1.738494</td>\n",
       "      <td>-0.064064</td>\n",
       "    </tr>\n",
       "    <tr>\n",
       "      <th>column5</th>\n",
       "      <td>0.211241</td>\n",
       "      <td>-1.505141</td>\n",
       "      <td>-0.527437</td>\n",
       "    </tr>\n",
       "  </tbody>\n",
       "</table>\n",
       "</div>"
      ],
      "text/plain": [
       "               f1        f2        f3\n",
       "column1 -1.046866  0.687201 -0.728417\n",
       "column2 -1.143862  0.494658  0.856795\n",
       "column3 -0.022745 -0.275290 -0.135069\n",
       "column4 -0.141896 -1.738494 -0.064064\n",
       "column5  0.211241 -1.505141 -0.527437"
      ]
     },
     "execution_count": 35,
     "metadata": {},
     "output_type": "execute_result"
    }
   ],
   "source": [
    "row_mapping = {x: f\"column{idx}\" for idx, x in enumerate(df1.index, 1)}\n",
    "print(f\"Row mapping: {row_mapping}\")\n",
    "df1.rename(row_mapping)"
   ]
  },
  {
   "cell_type": "markdown",
   "metadata": {},
   "source": [
    "Для того, чтобы контролировать что вы переименовываете (индекс колонок или строк) надо изменять аргумент `axis`."
   ]
  },
  {
   "cell_type": "code",
   "execution_count": 36,
   "metadata": {},
   "outputs": [
    {
     "data": {
      "text/html": [
       "<div>\n",
       "<style scoped>\n",
       "    .dataframe tbody tr th:only-of-type {\n",
       "        vertical-align: middle;\n",
       "    }\n",
       "\n",
       "    .dataframe tbody tr th {\n",
       "        vertical-align: top;\n",
       "    }\n",
       "\n",
       "    .dataframe thead th {\n",
       "        text-align: right;\n",
       "    }\n",
       "</style>\n",
       "<table border=\"1\" class=\"dataframe\">\n",
       "  <thead>\n",
       "    <tr style=\"text-align: right;\">\n",
       "      <th></th>\n",
       "      <th>A</th>\n",
       "      <th>BBBBB</th>\n",
       "      <th>CCCCC</th>\n",
       "    </tr>\n",
       "  </thead>\n",
       "  <tbody>\n",
       "    <tr>\n",
       "      <th>0</th>\n",
       "      <td>0.567910</td>\n",
       "      <td>3.0000</td>\n",
       "      <td>4.0000</td>\n",
       "    </tr>\n",
       "    <tr>\n",
       "      <th>1</th>\n",
       "      <td>0.518998</td>\n",
       "      <td>3.0000</td>\n",
       "      <td>4.0000</td>\n",
       "    </tr>\n",
       "    <tr>\n",
       "      <th>2</th>\n",
       "      <td>14.310000</td>\n",
       "      <td>4.0000</td>\n",
       "      <td>4.0000</td>\n",
       "    </tr>\n",
       "    <tr>\n",
       "      <th>3</th>\n",
       "      <td>0.814364</td>\n",
       "      <td>3.0000</td>\n",
       "      <td>4.0000</td>\n",
       "    </tr>\n",
       "    <tr>\n",
       "      <th>4</th>\n",
       "      <td>0.739334</td>\n",
       "      <td>3.0000</td>\n",
       "      <td>4.0000</td>\n",
       "    </tr>\n",
       "    <tr>\n",
       "      <th>5</th>\n",
       "      <td>3.141500</td>\n",
       "      <td>3.1415</td>\n",
       "      <td>3.1415</td>\n",
       "    </tr>\n",
       "  </tbody>\n",
       "</table>\n",
       "</div>"
      ],
      "text/plain": [
       "           A   BBBBB   CCCCC\n",
       "0   0.567910  3.0000  4.0000\n",
       "1   0.518998  3.0000  4.0000\n",
       "2  14.310000  4.0000  4.0000\n",
       "3   0.814364  3.0000  4.0000\n",
       "4   0.739334  3.0000  4.0000\n",
       "5   3.141500  3.1415  3.1415"
      ]
     },
     "execution_count": 36,
     "metadata": {},
     "output_type": "execute_result"
    }
   ],
   "source": [
    "df2 = df2.rename({'B': 'BBBBB', 'C': 'CCCCC'}, axis=1)\n",
    "df2"
   ]
  },
  {
   "cell_type": "markdown",
   "metadata": {},
   "source": [
    "Если еще один способ изменить название колонок, можно это сделать напрямую поменял поле в `pd.DataFrame`, которое за это отвечает."
   ]
  },
  {
   "cell_type": "code",
   "execution_count": 180,
   "metadata": {},
   "outputs": [
    {
     "data": {
      "text/html": [
       "<div>\n",
       "<style scoped>\n",
       "    .dataframe tbody tr th:only-of-type {\n",
       "        vertical-align: middle;\n",
       "    }\n",
       "\n",
       "    .dataframe tbody tr th {\n",
       "        vertical-align: top;\n",
       "    }\n",
       "\n",
       "    .dataframe thead th {\n",
       "        text-align: right;\n",
       "    }\n",
       "</style>\n",
       "<table border=\"1\" class=\"dataframe\">\n",
       "  <thead>\n",
       "    <tr style=\"text-align: right;\">\n",
       "      <th></th>\n",
       "      <th>AAAAA</th>\n",
       "      <th>B</th>\n",
       "      <th>C</th>\n",
       "    </tr>\n",
       "  </thead>\n",
       "  <tbody>\n",
       "    <tr>\n",
       "      <th>0</th>\n",
       "      <td>0.667063</td>\n",
       "      <td>4.0000</td>\n",
       "      <td>4.0000</td>\n",
       "    </tr>\n",
       "    <tr>\n",
       "      <th>1</th>\n",
       "      <td>0.403631</td>\n",
       "      <td>4.0000</td>\n",
       "      <td>4.0000</td>\n",
       "    </tr>\n",
       "    <tr>\n",
       "      <th>2</th>\n",
       "      <td>0.686152</td>\n",
       "      <td>4.0000</td>\n",
       "      <td>4.0000</td>\n",
       "    </tr>\n",
       "    <tr>\n",
       "      <th>3</th>\n",
       "      <td>0.474066</td>\n",
       "      <td>4.0000</td>\n",
       "      <td>4.0000</td>\n",
       "    </tr>\n",
       "    <tr>\n",
       "      <th>4</th>\n",
       "      <td>0.145718</td>\n",
       "      <td>4.0000</td>\n",
       "      <td>4.0000</td>\n",
       "    </tr>\n",
       "    <tr>\n",
       "      <th>5</th>\n",
       "      <td>3.141500</td>\n",
       "      <td>3.1415</td>\n",
       "      <td>3.1415</td>\n",
       "    </tr>\n",
       "  </tbody>\n",
       "</table>\n",
       "</div>"
      ],
      "text/plain": [
       "      AAAAA       B       C\n",
       "0  0.667063  4.0000  4.0000\n",
       "1  0.403631  4.0000  4.0000\n",
       "2  0.686152  4.0000  4.0000\n",
       "3  0.474066  4.0000  4.0000\n",
       "4  0.145718  4.0000  4.0000\n",
       "5  3.141500  3.1415  3.1415"
      ]
     },
     "execution_count": 180,
     "metadata": {},
     "output_type": "execute_result"
    }
   ],
   "source": [
    "df2.columns = ['AAAAA', 'B', 'C']\n",
    "df2"
   ]
  },
  {
   "cell_type": "markdown",
   "metadata": {},
   "source": [
    "Ниже на примерах разберем несколько полезных методов для работы с `pd.DataFrame`"
   ]
  },
  {
   "cell_type": "code",
   "execution_count": 188,
   "metadata": {},
   "outputs": [
    {
     "data": {
      "text/html": [
       "<div>\n",
       "<style scoped>\n",
       "    .dataframe tbody tr th:only-of-type {\n",
       "        vertical-align: middle;\n",
       "    }\n",
       "\n",
       "    .dataframe tbody tr th {\n",
       "        vertical-align: top;\n",
       "    }\n",
       "\n",
       "    .dataframe thead th {\n",
       "        text-align: right;\n",
       "    }\n",
       "</style>\n",
       "<table border=\"1\" class=\"dataframe\">\n",
       "  <thead>\n",
       "    <tr style=\"text-align: right;\">\n",
       "      <th></th>\n",
       "      <th>A</th>\n",
       "      <th>B</th>\n",
       "      <th>C</th>\n",
       "    </tr>\n",
       "  </thead>\n",
       "  <tbody>\n",
       "    <tr>\n",
       "      <th>o1</th>\n",
       "      <td>-2.185236</td>\n",
       "      <td>-0.549955</td>\n",
       "      <td>-0.849877</td>\n",
       "    </tr>\n",
       "    <tr>\n",
       "      <th>o2</th>\n",
       "      <td>-0.375494</td>\n",
       "      <td>0.094652</td>\n",
       "      <td>0.710512</td>\n",
       "    </tr>\n",
       "    <tr>\n",
       "      <th>o3</th>\n",
       "      <td>-0.040600</td>\n",
       "      <td>0.198146</td>\n",
       "      <td>-0.836793</td>\n",
       "    </tr>\n",
       "    <tr>\n",
       "      <th>o4</th>\n",
       "      <td>-0.053404</td>\n",
       "      <td>-0.602549</td>\n",
       "      <td>-1.212883</td>\n",
       "    </tr>\n",
       "    <tr>\n",
       "      <th>o5</th>\n",
       "      <td>-1.339325</td>\n",
       "      <td>1.363126</td>\n",
       "      <td>-1.482896</td>\n",
       "    </tr>\n",
       "    <tr>\n",
       "      <th>0</th>\n",
       "      <td>0.139940</td>\n",
       "      <td>a</td>\n",
       "      <td>0.000000</td>\n",
       "    </tr>\n",
       "    <tr>\n",
       "      <th>1</th>\n",
       "      <td>0.423570</td>\n",
       "      <td>b</td>\n",
       "      <td>0.000000</td>\n",
       "    </tr>\n",
       "    <tr>\n",
       "      <th>2</th>\n",
       "      <td>0.819828</td>\n",
       "      <td>c</td>\n",
       "      <td>0.000000</td>\n",
       "    </tr>\n",
       "    <tr>\n",
       "      <th>3</th>\n",
       "      <td>0.782679</td>\n",
       "      <td>d</td>\n",
       "      <td>1.000000</td>\n",
       "    </tr>\n",
       "    <tr>\n",
       "      <th>4</th>\n",
       "      <td>0.670449</td>\n",
       "      <td>e</td>\n",
       "      <td>1.000000</td>\n",
       "    </tr>\n",
       "  </tbody>\n",
       "</table>\n",
       "</div>"
      ],
      "text/plain": [
       "           A         B         C\n",
       "o1 -2.185236 -0.549955 -0.849877\n",
       "o2 -0.375494  0.094652  0.710512\n",
       "o3 -0.040600  0.198146 -0.836793\n",
       "o4 -0.053404 -0.602549 -1.212883\n",
       "o5 -1.339325  1.363126 -1.482896\n",
       "0   0.139940         a  0.000000\n",
       "1   0.423570         b  0.000000\n",
       "2   0.819828         c  0.000000\n",
       "3   0.782679         d  1.000000\n",
       "4   0.670449         e  1.000000"
      ]
     },
     "execution_count": 188,
     "metadata": {},
     "output_type": "execute_result"
    }
   ],
   "source": [
    "df1.columns = ['A', 'B', 'C']\n",
    "df3 = df1.append(df2, sort=False)\n",
    "df3"
   ]
  },
  {
   "cell_type": "code",
   "execution_count": 189,
   "metadata": {},
   "outputs": [
    {
     "data": {
      "text/html": [
       "<div>\n",
       "<style scoped>\n",
       "    .dataframe tbody tr th:only-of-type {\n",
       "        vertical-align: middle;\n",
       "    }\n",
       "\n",
       "    .dataframe tbody tr th {\n",
       "        vertical-align: top;\n",
       "    }\n",
       "\n",
       "    .dataframe thead th {\n",
       "        text-align: right;\n",
       "    }\n",
       "</style>\n",
       "<table border=\"1\" class=\"dataframe\">\n",
       "  <thead>\n",
       "    <tr style=\"text-align: right;\">\n",
       "      <th></th>\n",
       "      <th>A</th>\n",
       "      <th>B</th>\n",
       "      <th>C</th>\n",
       "    </tr>\n",
       "  </thead>\n",
       "  <tbody>\n",
       "    <tr>\n",
       "      <th>o1</th>\n",
       "      <td>-2.185236</td>\n",
       "      <td>-0.549955</td>\n",
       "      <td>-0.849877</td>\n",
       "    </tr>\n",
       "    <tr>\n",
       "      <th>o2</th>\n",
       "      <td>NaN</td>\n",
       "      <td>0.094652</td>\n",
       "      <td>0.710512</td>\n",
       "    </tr>\n",
       "    <tr>\n",
       "      <th>o3</th>\n",
       "      <td>-0.040600</td>\n",
       "      <td>0.198146</td>\n",
       "      <td>-0.836793</td>\n",
       "    </tr>\n",
       "    <tr>\n",
       "      <th>o4</th>\n",
       "      <td>-0.053404</td>\n",
       "      <td>-0.602549</td>\n",
       "      <td>NaN</td>\n",
       "    </tr>\n",
       "    <tr>\n",
       "      <th>o5</th>\n",
       "      <td>-1.339325</td>\n",
       "      <td>1.363126</td>\n",
       "      <td>-1.482896</td>\n",
       "    </tr>\n",
       "  </tbody>\n",
       "</table>\n",
       "</div>"
      ],
      "text/plain": [
       "           A         B         C\n",
       "o1 -2.185236 -0.549955 -0.849877\n",
       "o2       NaN  0.094652  0.710512\n",
       "o3 -0.040600  0.198146 -0.836793\n",
       "o4 -0.053404 -0.602549       NaN\n",
       "o5 -1.339325  1.363126 -1.482896"
      ]
     },
     "execution_count": 189,
     "metadata": {},
     "output_type": "execute_result"
    }
   ],
   "source": [
    "df1.at['o2', 'A'] = np.nan\n",
    "df1.at['o4', 'C'] = np.nan\n",
    "df1"
   ]
  },
  {
   "cell_type": "code",
   "execution_count": 40,
   "metadata": {},
   "outputs": [
    {
     "data": {
      "text/html": [
       "<div>\n",
       "<style scoped>\n",
       "    .dataframe tbody tr th:only-of-type {\n",
       "        vertical-align: middle;\n",
       "    }\n",
       "\n",
       "    .dataframe tbody tr th {\n",
       "        vertical-align: top;\n",
       "    }\n",
       "\n",
       "    .dataframe thead th {\n",
       "        text-align: right;\n",
       "    }\n",
       "</style>\n",
       "<table border=\"1\" class=\"dataframe\">\n",
       "  <thead>\n",
       "    <tr style=\"text-align: right;\">\n",
       "      <th></th>\n",
       "      <th>A</th>\n",
       "      <th>B</th>\n",
       "      <th>C</th>\n",
       "    </tr>\n",
       "  </thead>\n",
       "  <tbody>\n",
       "    <tr>\n",
       "      <th>o1</th>\n",
       "      <td>False</td>\n",
       "      <td>False</td>\n",
       "      <td>False</td>\n",
       "    </tr>\n",
       "    <tr>\n",
       "      <th>o2</th>\n",
       "      <td>True</td>\n",
       "      <td>False</td>\n",
       "      <td>False</td>\n",
       "    </tr>\n",
       "    <tr>\n",
       "      <th>o3</th>\n",
       "      <td>False</td>\n",
       "      <td>False</td>\n",
       "      <td>False</td>\n",
       "    </tr>\n",
       "    <tr>\n",
       "      <th>o4</th>\n",
       "      <td>False</td>\n",
       "      <td>False</td>\n",
       "      <td>True</td>\n",
       "    </tr>\n",
       "    <tr>\n",
       "      <th>o5</th>\n",
       "      <td>False</td>\n",
       "      <td>False</td>\n",
       "      <td>False</td>\n",
       "    </tr>\n",
       "  </tbody>\n",
       "</table>\n",
       "</div>"
      ],
      "text/plain": [
       "        A      B      C\n",
       "o1  False  False  False\n",
       "o2   True  False  False\n",
       "o3  False  False  False\n",
       "o4  False  False   True\n",
       "o5  False  False  False"
      ]
     },
     "execution_count": 40,
     "metadata": {},
     "output_type": "execute_result"
    }
   ],
   "source": [
    "pd.isnull(df1)"
   ]
  },
  {
   "cell_type": "code",
   "execution_count": 191,
   "metadata": {},
   "outputs": [
    {
     "data": {
      "text/html": [
       "<div>\n",
       "<style scoped>\n",
       "    .dataframe tbody tr th:only-of-type {\n",
       "        vertical-align: middle;\n",
       "    }\n",
       "\n",
       "    .dataframe tbody tr th {\n",
       "        vertical-align: top;\n",
       "    }\n",
       "\n",
       "    .dataframe thead th {\n",
       "        text-align: right;\n",
       "    }\n",
       "</style>\n",
       "<table border=\"1\" class=\"dataframe\">\n",
       "  <thead>\n",
       "    <tr style=\"text-align: right;\">\n",
       "      <th></th>\n",
       "      <th>A</th>\n",
       "      <th>B</th>\n",
       "      <th>C</th>\n",
       "    </tr>\n",
       "  </thead>\n",
       "  <tbody>\n",
       "    <tr>\n",
       "      <th>o1</th>\n",
       "      <td>-2.185236</td>\n",
       "      <td>-0.549955</td>\n",
       "      <td>-0.849877</td>\n",
       "    </tr>\n",
       "    <tr>\n",
       "      <th>o3</th>\n",
       "      <td>-0.040600</td>\n",
       "      <td>0.198146</td>\n",
       "      <td>-0.836793</td>\n",
       "    </tr>\n",
       "    <tr>\n",
       "      <th>o5</th>\n",
       "      <td>-1.339325</td>\n",
       "      <td>1.363126</td>\n",
       "      <td>-1.482896</td>\n",
       "    </tr>\n",
       "  </tbody>\n",
       "</table>\n",
       "</div>"
      ],
      "text/plain": [
       "           A         B         C\n",
       "o1 -2.185236 -0.549955 -0.849877\n",
       "o3 -0.040600  0.198146 -0.836793\n",
       "o5 -1.339325  1.363126 -1.482896"
      ]
     },
     "execution_count": 191,
     "metadata": {},
     "output_type": "execute_result"
    }
   ],
   "source": [
    "df1.dropna(how='any')"
   ]
  },
  {
   "cell_type": "code",
   "execution_count": 196,
   "metadata": {},
   "outputs": [
    {
     "data": {
      "text/html": [
       "<div>\n",
       "<style scoped>\n",
       "    .dataframe tbody tr th:only-of-type {\n",
       "        vertical-align: middle;\n",
       "    }\n",
       "\n",
       "    .dataframe tbody tr th {\n",
       "        vertical-align: top;\n",
       "    }\n",
       "\n",
       "    .dataframe thead th {\n",
       "        text-align: right;\n",
       "    }\n",
       "</style>\n",
       "<table border=\"1\" class=\"dataframe\">\n",
       "  <thead>\n",
       "    <tr style=\"text-align: right;\">\n",
       "      <th></th>\n",
       "      <th>A</th>\n",
       "      <th>B</th>\n",
       "      <th>C</th>\n",
       "    </tr>\n",
       "  </thead>\n",
       "  <tbody>\n",
       "    <tr>\n",
       "      <th>o1</th>\n",
       "      <td>-2.185236</td>\n",
       "      <td>-0.549955</td>\n",
       "      <td>-0.849877</td>\n",
       "    </tr>\n",
       "    <tr>\n",
       "      <th>o2</th>\n",
       "      <td>-0.696365</td>\n",
       "      <td>0.094652</td>\n",
       "      <td>0.710512</td>\n",
       "    </tr>\n",
       "    <tr>\n",
       "      <th>o3</th>\n",
       "      <td>-0.040600</td>\n",
       "      <td>0.198146</td>\n",
       "      <td>-0.836793</td>\n",
       "    </tr>\n",
       "    <tr>\n",
       "      <th>o4</th>\n",
       "      <td>-0.053404</td>\n",
       "      <td>-0.602549</td>\n",
       "      <td>-0.843335</td>\n",
       "    </tr>\n",
       "    <tr>\n",
       "      <th>o5</th>\n",
       "      <td>-1.339325</td>\n",
       "      <td>1.363126</td>\n",
       "      <td>-1.482896</td>\n",
       "    </tr>\n",
       "  </tbody>\n",
       "</table>\n",
       "</div>"
      ],
      "text/plain": [
       "           A         B         C\n",
       "o1 -2.185236 -0.549955 -0.849877\n",
       "o2 -0.696365  0.094652  0.710512\n",
       "o3 -0.040600  0.198146 -0.836793\n",
       "o4 -0.053404 -0.602549 -0.843335\n",
       "o5 -1.339325  1.363126 -1.482896"
      ]
     },
     "execution_count": 196,
     "metadata": {},
     "output_type": "execute_result"
    }
   ],
   "source": [
    "df1.fillna(df1.median())"
   ]
  },
  {
   "cell_type": "markdown",
   "metadata": {},
   "source": [
    "## Примеры базового анализа"
   ]
  },
  {
   "cell_type": "markdown",
   "metadata": {},
   "source": [
    "В данном блоке попробуем загрузить данные и потом их немного проанализировать.\\\n",
    "Как можно заметить, если обратиться к документации (https://pandas.pydata.org/docs/user_guide/io.html) `pandas` поддерживает достаточно много вариантов \"считать откуда-то данные\".\\\n",
    "На примере снизу представлен пример \"скраппинга сайта\" или считывание данных из файла, если их уже кто-то достал."
   ]
  },
  {
   "cell_type": "code",
   "execution_count": 200,
   "metadata": {},
   "outputs": [
    {
     "data": {
      "text/html": [
       "<div>\n",
       "<style scoped>\n",
       "    .dataframe tbody tr th:only-of-type {\n",
       "        vertical-align: middle;\n",
       "    }\n",
       "\n",
       "    .dataframe tbody tr th {\n",
       "        vertical-align: top;\n",
       "    }\n",
       "\n",
       "    .dataframe thead th {\n",
       "        text-align: right;\n",
       "    }\n",
       "</style>\n",
       "<table border=\"1\" class=\"dataframe\">\n",
       "  <thead>\n",
       "    <tr style=\"text-align: right;\">\n",
       "      <th></th>\n",
       "      <th>Unnamed: 0</th>\n",
       "      <th>Date</th>\n",
       "      <th>Start (ET)</th>\n",
       "      <th>Visitor/Neutral</th>\n",
       "      <th>PTS</th>\n",
       "      <th>Home/Neutral</th>\n",
       "      <th>PTS.1</th>\n",
       "      <th>Unnamed: 6</th>\n",
       "      <th>Unnamed: 7</th>\n",
       "      <th>Attend.</th>\n",
       "      <th>Notes</th>\n",
       "    </tr>\n",
       "  </thead>\n",
       "  <tbody>\n",
       "    <tr>\n",
       "      <th>0</th>\n",
       "      <td>0</td>\n",
       "      <td>Tue, Oct 27, 2015</td>\n",
       "      <td>8:00p</td>\n",
       "      <td>Cleveland Cavaliers</td>\n",
       "      <td>95</td>\n",
       "      <td>Chicago Bulls</td>\n",
       "      <td>97</td>\n",
       "      <td>Box Score</td>\n",
       "      <td>NaN</td>\n",
       "      <td>21957</td>\n",
       "      <td>NaN</td>\n",
       "    </tr>\n",
       "    <tr>\n",
       "      <th>1</th>\n",
       "      <td>1</td>\n",
       "      <td>Tue, Oct 27, 2015</td>\n",
       "      <td>8:00p</td>\n",
       "      <td>Detroit Pistons</td>\n",
       "      <td>106</td>\n",
       "      <td>Atlanta Hawks</td>\n",
       "      <td>94</td>\n",
       "      <td>Box Score</td>\n",
       "      <td>NaN</td>\n",
       "      <td>19187</td>\n",
       "      <td>NaN</td>\n",
       "    </tr>\n",
       "    <tr>\n",
       "      <th>2</th>\n",
       "      <td>2</td>\n",
       "      <td>Tue, Oct 27, 2015</td>\n",
       "      <td>10:30p</td>\n",
       "      <td>New Orleans Pelicans</td>\n",
       "      <td>95</td>\n",
       "      <td>Golden State Warriors</td>\n",
       "      <td>111</td>\n",
       "      <td>Box Score</td>\n",
       "      <td>NaN</td>\n",
       "      <td>19596</td>\n",
       "      <td>NaN</td>\n",
       "    </tr>\n",
       "    <tr>\n",
       "      <th>3</th>\n",
       "      <td>3</td>\n",
       "      <td>Wed, Oct 28, 2015</td>\n",
       "      <td>7:00p</td>\n",
       "      <td>Washington Wizards</td>\n",
       "      <td>88</td>\n",
       "      <td>Orlando Magic</td>\n",
       "      <td>87</td>\n",
       "      <td>Box Score</td>\n",
       "      <td>NaN</td>\n",
       "      <td>18846</td>\n",
       "      <td>NaN</td>\n",
       "    </tr>\n",
       "    <tr>\n",
       "      <th>4</th>\n",
       "      <td>4</td>\n",
       "      <td>Wed, Oct 28, 2015</td>\n",
       "      <td>7:30p</td>\n",
       "      <td>Philadelphia 76ers</td>\n",
       "      <td>95</td>\n",
       "      <td>Boston Celtics</td>\n",
       "      <td>112</td>\n",
       "      <td>Box Score</td>\n",
       "      <td>NaN</td>\n",
       "      <td>18624</td>\n",
       "      <td>NaN</td>\n",
       "    </tr>\n",
       "  </tbody>\n",
       "</table>\n",
       "</div>"
      ],
      "text/plain": [
       "   Unnamed: 0               Date Start (ET)       Visitor/Neutral  PTS  \\\n",
       "0           0  Tue, Oct 27, 2015      8:00p   Cleveland Cavaliers   95   \n",
       "1           1  Tue, Oct 27, 2015      8:00p       Detroit Pistons  106   \n",
       "2           2  Tue, Oct 27, 2015     10:30p  New Orleans Pelicans   95   \n",
       "3           3  Wed, Oct 28, 2015      7:00p    Washington Wizards   88   \n",
       "4           4  Wed, Oct 28, 2015      7:30p    Philadelphia 76ers   95   \n",
       "\n",
       "            Home/Neutral  PTS.1 Unnamed: 6 Unnamed: 7  Attend.  Notes  \n",
       "0          Chicago Bulls     97  Box Score        NaN    21957    NaN  \n",
       "1          Atlanta Hawks     94  Box Score        NaN    19187    NaN  \n",
       "2  Golden State Warriors    111  Box Score        NaN    19596    NaN  \n",
       "3          Orlando Magic     87  Box Score        NaN    18846    NaN  \n",
       "4         Boston Celtics    112  Box Score        NaN    18624    NaN  "
      ]
     },
     "execution_count": 200,
     "metadata": {},
     "output_type": "execute_result"
    }
   ],
   "source": [
    "filename = 'nba.csv'\n",
    "\n",
    "if not os.path.exists(filename):\n",
    "    tables = pd.read_html(\"http://www.basketball-reference.com/leagues/NBA_2016_games.html\")\n",
    "    games = tables[0]\n",
    "    games.to_csv(filename)\n",
    "else:\n",
    "    games = pd.read_csv(filename)\n",
    "games.head()"
   ]
  },
  {
   "cell_type": "markdown",
   "metadata": {},
   "source": [
    "Для начала переименуем часть колонок, чтобы было проще работать с `pd.DataFrame`."
   ]
  },
  {
   "cell_type": "code",
   "execution_count": 201,
   "metadata": {},
   "outputs": [
    {
     "data": {
      "text/html": [
       "<div>\n",
       "<style scoped>\n",
       "    .dataframe tbody tr th:only-of-type {\n",
       "        vertical-align: middle;\n",
       "    }\n",
       "\n",
       "    .dataframe tbody tr th {\n",
       "        vertical-align: top;\n",
       "    }\n",
       "\n",
       "    .dataframe thead th {\n",
       "        text-align: right;\n",
       "    }\n",
       "</style>\n",
       "<table border=\"1\" class=\"dataframe\">\n",
       "  <thead>\n",
       "    <tr style=\"text-align: right;\">\n",
       "      <th></th>\n",
       "      <th>Unnamed: 0</th>\n",
       "      <th>date</th>\n",
       "      <th>start</th>\n",
       "      <th>away_team</th>\n",
       "      <th>away_points</th>\n",
       "      <th>home_team</th>\n",
       "      <th>home_points</th>\n",
       "      <th>Unnamed: 6</th>\n",
       "      <th>Unnamed: 7</th>\n",
       "      <th>Attend.</th>\n",
       "      <th>Notes</th>\n",
       "    </tr>\n",
       "  </thead>\n",
       "  <tbody>\n",
       "    <tr>\n",
       "      <th>0</th>\n",
       "      <td>0</td>\n",
       "      <td>Tue, Oct 27, 2015</td>\n",
       "      <td>8:00p</td>\n",
       "      <td>Cleveland Cavaliers</td>\n",
       "      <td>95</td>\n",
       "      <td>Chicago Bulls</td>\n",
       "      <td>97</td>\n",
       "      <td>Box Score</td>\n",
       "      <td>NaN</td>\n",
       "      <td>21957</td>\n",
       "      <td>NaN</td>\n",
       "    </tr>\n",
       "    <tr>\n",
       "      <th>1</th>\n",
       "      <td>1</td>\n",
       "      <td>Tue, Oct 27, 2015</td>\n",
       "      <td>8:00p</td>\n",
       "      <td>Detroit Pistons</td>\n",
       "      <td>106</td>\n",
       "      <td>Atlanta Hawks</td>\n",
       "      <td>94</td>\n",
       "      <td>Box Score</td>\n",
       "      <td>NaN</td>\n",
       "      <td>19187</td>\n",
       "      <td>NaN</td>\n",
       "    </tr>\n",
       "    <tr>\n",
       "      <th>2</th>\n",
       "      <td>2</td>\n",
       "      <td>Tue, Oct 27, 2015</td>\n",
       "      <td>10:30p</td>\n",
       "      <td>New Orleans Pelicans</td>\n",
       "      <td>95</td>\n",
       "      <td>Golden State Warriors</td>\n",
       "      <td>111</td>\n",
       "      <td>Box Score</td>\n",
       "      <td>NaN</td>\n",
       "      <td>19596</td>\n",
       "      <td>NaN</td>\n",
       "    </tr>\n",
       "    <tr>\n",
       "      <th>3</th>\n",
       "      <td>3</td>\n",
       "      <td>Wed, Oct 28, 2015</td>\n",
       "      <td>7:00p</td>\n",
       "      <td>Washington Wizards</td>\n",
       "      <td>88</td>\n",
       "      <td>Orlando Magic</td>\n",
       "      <td>87</td>\n",
       "      <td>Box Score</td>\n",
       "      <td>NaN</td>\n",
       "      <td>18846</td>\n",
       "      <td>NaN</td>\n",
       "    </tr>\n",
       "    <tr>\n",
       "      <th>4</th>\n",
       "      <td>4</td>\n",
       "      <td>Wed, Oct 28, 2015</td>\n",
       "      <td>7:30p</td>\n",
       "      <td>Philadelphia 76ers</td>\n",
       "      <td>95</td>\n",
       "      <td>Boston Celtics</td>\n",
       "      <td>112</td>\n",
       "      <td>Box Score</td>\n",
       "      <td>NaN</td>\n",
       "      <td>18624</td>\n",
       "      <td>NaN</td>\n",
       "    </tr>\n",
       "  </tbody>\n",
       "</table>\n",
       "</div>"
      ],
      "text/plain": [
       "   Unnamed: 0               date   start             away_team  away_points  \\\n",
       "0           0  Tue, Oct 27, 2015   8:00p   Cleveland Cavaliers           95   \n",
       "1           1  Tue, Oct 27, 2015   8:00p       Detroit Pistons          106   \n",
       "2           2  Tue, Oct 27, 2015  10:30p  New Orleans Pelicans           95   \n",
       "3           3  Wed, Oct 28, 2015   7:00p    Washington Wizards           88   \n",
       "4           4  Wed, Oct 28, 2015   7:30p    Philadelphia 76ers           95   \n",
       "\n",
       "               home_team  home_points Unnamed: 6 Unnamed: 7  Attend.  Notes  \n",
       "0          Chicago Bulls           97  Box Score        NaN    21957    NaN  \n",
       "1          Atlanta Hawks           94  Box Score        NaN    19187    NaN  \n",
       "2  Golden State Warriors          111  Box Score        NaN    19596    NaN  \n",
       "3          Orlando Magic           87  Box Score        NaN    18846    NaN  \n",
       "4         Boston Celtics          112  Box Score        NaN    18624    NaN  "
      ]
     },
     "execution_count": 201,
     "metadata": {},
     "output_type": "execute_result"
    }
   ],
   "source": [
    "column_names = {'Date': 'date', 'Start (ET)': 'start',\n",
    "                'Unamed: 2': 'box', 'Visitor/Neutral': 'away_team', \n",
    "                'PTS': 'away_points', 'Home/Neutral': 'home_team',\n",
    "                'PTS.1': 'home_points', 'Unamed: 7': 'n_ot'}\n",
    "\n",
    "games = games.rename(columns=column_names)\n",
    "games.head()"
   ]
  },
  {
   "cell_type": "markdown",
   "metadata": {},
   "source": [
    "Теперь оставим только некоторые колонки, с которыми будем работать, и выкинем те строки, где число известных значений не менее 4 (аргумент `thresh` у метода `pd.dropna`)."
   ]
  },
  {
   "cell_type": "code",
   "execution_count": 202,
   "metadata": {},
   "outputs": [
    {
     "data": {
      "text/html": [
       "<div>\n",
       "<style scoped>\n",
       "    .dataframe tbody tr th:only-of-type {\n",
       "        vertical-align: middle;\n",
       "    }\n",
       "\n",
       "    .dataframe tbody tr th {\n",
       "        vertical-align: top;\n",
       "    }\n",
       "\n",
       "    .dataframe thead th {\n",
       "        text-align: right;\n",
       "    }\n",
       "</style>\n",
       "<table border=\"1\" class=\"dataframe\">\n",
       "  <thead>\n",
       "    <tr style=\"text-align: right;\">\n",
       "      <th></th>\n",
       "      <th>date</th>\n",
       "      <th>away_team</th>\n",
       "      <th>away_points</th>\n",
       "      <th>home_team</th>\n",
       "      <th>home_points</th>\n",
       "      <th>Attend.</th>\n",
       "    </tr>\n",
       "  </thead>\n",
       "  <tbody>\n",
       "    <tr>\n",
       "      <th>0</th>\n",
       "      <td>Tue, Oct 27, 2015</td>\n",
       "      <td>Cleveland Cavaliers</td>\n",
       "      <td>95</td>\n",
       "      <td>Chicago Bulls</td>\n",
       "      <td>97</td>\n",
       "      <td>21957</td>\n",
       "    </tr>\n",
       "    <tr>\n",
       "      <th>1</th>\n",
       "      <td>Tue, Oct 27, 2015</td>\n",
       "      <td>Detroit Pistons</td>\n",
       "      <td>106</td>\n",
       "      <td>Atlanta Hawks</td>\n",
       "      <td>94</td>\n",
       "      <td>19187</td>\n",
       "    </tr>\n",
       "    <tr>\n",
       "      <th>2</th>\n",
       "      <td>Tue, Oct 27, 2015</td>\n",
       "      <td>New Orleans Pelicans</td>\n",
       "      <td>95</td>\n",
       "      <td>Golden State Warriors</td>\n",
       "      <td>111</td>\n",
       "      <td>19596</td>\n",
       "    </tr>\n",
       "    <tr>\n",
       "      <th>3</th>\n",
       "      <td>Wed, Oct 28, 2015</td>\n",
       "      <td>Washington Wizards</td>\n",
       "      <td>88</td>\n",
       "      <td>Orlando Magic</td>\n",
       "      <td>87</td>\n",
       "      <td>18846</td>\n",
       "    </tr>\n",
       "    <tr>\n",
       "      <th>4</th>\n",
       "      <td>Wed, Oct 28, 2015</td>\n",
       "      <td>Philadelphia 76ers</td>\n",
       "      <td>95</td>\n",
       "      <td>Boston Celtics</td>\n",
       "      <td>112</td>\n",
       "      <td>18624</td>\n",
       "    </tr>\n",
       "    <tr>\n",
       "      <th>5</th>\n",
       "      <td>Wed, Oct 28, 2015</td>\n",
       "      <td>Chicago Bulls</td>\n",
       "      <td>115</td>\n",
       "      <td>Brooklyn Nets</td>\n",
       "      <td>100</td>\n",
       "      <td>17732</td>\n",
       "    </tr>\n",
       "    <tr>\n",
       "      <th>6</th>\n",
       "      <td>Wed, Oct 28, 2015</td>\n",
       "      <td>Utah Jazz</td>\n",
       "      <td>87</td>\n",
       "      <td>Detroit Pistons</td>\n",
       "      <td>92</td>\n",
       "      <td>18434</td>\n",
       "    </tr>\n",
       "    <tr>\n",
       "      <th>7</th>\n",
       "      <td>Wed, Oct 28, 2015</td>\n",
       "      <td>Indiana Pacers</td>\n",
       "      <td>99</td>\n",
       "      <td>Toronto Raptors</td>\n",
       "      <td>106</td>\n",
       "      <td>19800</td>\n",
       "    </tr>\n",
       "    <tr>\n",
       "      <th>8</th>\n",
       "      <td>Wed, Oct 28, 2015</td>\n",
       "      <td>Charlotte Hornets</td>\n",
       "      <td>94</td>\n",
       "      <td>Miami Heat</td>\n",
       "      <td>104</td>\n",
       "      <td>19724</td>\n",
       "    </tr>\n",
       "  </tbody>\n",
       "</table>\n",
       "</div>"
      ],
      "text/plain": [
       "                date             away_team  away_points  \\\n",
       "0  Tue, Oct 27, 2015   Cleveland Cavaliers           95   \n",
       "1  Tue, Oct 27, 2015       Detroit Pistons          106   \n",
       "2  Tue, Oct 27, 2015  New Orleans Pelicans           95   \n",
       "3  Wed, Oct 28, 2015    Washington Wizards           88   \n",
       "4  Wed, Oct 28, 2015    Philadelphia 76ers           95   \n",
       "5  Wed, Oct 28, 2015         Chicago Bulls          115   \n",
       "6  Wed, Oct 28, 2015             Utah Jazz           87   \n",
       "7  Wed, Oct 28, 2015        Indiana Pacers           99   \n",
       "8  Wed, Oct 28, 2015     Charlotte Hornets           94   \n",
       "\n",
       "               home_team  home_points  Attend.  \n",
       "0          Chicago Bulls           97    21957  \n",
       "1          Atlanta Hawks           94    19187  \n",
       "2  Golden State Warriors          111    19596  \n",
       "3          Orlando Magic           87    18846  \n",
       "4         Boston Celtics          112    18624  \n",
       "5          Brooklyn Nets          100    17732  \n",
       "6        Detroit Pistons           92    18434  \n",
       "7        Toronto Raptors          106    19800  \n",
       "8             Miami Heat          104    19724  "
      ]
     },
     "execution_count": 202,
     "metadata": {},
     "output_type": "execute_result"
    }
   ],
   "source": [
    "games = games.dropna(thresh=4)[['date', 'away_team', 'away_points', 'home_team', 'home_points', 'Attend.']]\n",
    "games.head(9)"
   ]
  },
  {
   "cell_type": "markdown",
   "metadata": {},
   "source": [
    "`pd.DataFrame` умеет работать не только со стандартными типами данных, но и с datetime, например.\\\n",
    "Для того чтобы воспользоваться этим функционалом приведем колонку `date` к нужному типу.\\\n",
    "На данном курсы мы затронем даннный тип данных немного поверхностно, но если вы много работаете со временем у себя в данных, то советую ознакомиться с возможностями `pandas` по ссылке https://pandas.pydata.org/docs/user_guide/timeseries.html#timeseries"
   ]
  },
  {
   "cell_type": "code",
   "execution_count": 205,
   "metadata": {},
   "outputs": [
    {
     "data": {
      "text/html": [
       "<div>\n",
       "<style scoped>\n",
       "    .dataframe tbody tr th:only-of-type {\n",
       "        vertical-align: middle;\n",
       "    }\n",
       "\n",
       "    .dataframe tbody tr th {\n",
       "        vertical-align: top;\n",
       "    }\n",
       "\n",
       "    .dataframe thead th {\n",
       "        text-align: right;\n",
       "    }\n",
       "</style>\n",
       "<table border=\"1\" class=\"dataframe\">\n",
       "  <thead>\n",
       "    <tr style=\"text-align: right;\">\n",
       "      <th></th>\n",
       "      <th>date</th>\n",
       "      <th>away_team</th>\n",
       "      <th>away_points</th>\n",
       "      <th>home_team</th>\n",
       "      <th>home_points</th>\n",
       "      <th>Attend.</th>\n",
       "    </tr>\n",
       "  </thead>\n",
       "  <tbody>\n",
       "    <tr>\n",
       "      <th>0</th>\n",
       "      <td>2015-10-27</td>\n",
       "      <td>Cleveland Cavaliers</td>\n",
       "      <td>95</td>\n",
       "      <td>Chicago Bulls</td>\n",
       "      <td>97</td>\n",
       "      <td>21957</td>\n",
       "    </tr>\n",
       "    <tr>\n",
       "      <th>1</th>\n",
       "      <td>2015-10-27</td>\n",
       "      <td>Detroit Pistons</td>\n",
       "      <td>106</td>\n",
       "      <td>Atlanta Hawks</td>\n",
       "      <td>94</td>\n",
       "      <td>19187</td>\n",
       "    </tr>\n",
       "    <tr>\n",
       "      <th>2</th>\n",
       "      <td>2015-10-27</td>\n",
       "      <td>New Orleans Pelicans</td>\n",
       "      <td>95</td>\n",
       "      <td>Golden State Warriors</td>\n",
       "      <td>111</td>\n",
       "      <td>19596</td>\n",
       "    </tr>\n",
       "  </tbody>\n",
       "</table>\n",
       "</div>"
      ],
      "text/plain": [
       "        date             away_team  away_points              home_team  \\\n",
       "0 2015-10-27   Cleveland Cavaliers           95          Chicago Bulls   \n",
       "1 2015-10-27       Detroit Pistons          106          Atlanta Hawks   \n",
       "2 2015-10-27  New Orleans Pelicans           95  Golden State Warriors   \n",
       "\n",
       "   home_points  Attend.  \n",
       "0           97    21957  \n",
       "1           94    19187  \n",
       "2          111    19596  "
      ]
     },
     "execution_count": 205,
     "metadata": {},
     "output_type": "execute_result"
    }
   ],
   "source": [
    "games.date = pd.to_datetime(games['date'], format='%a, %b %d, %Y')\n",
    "games.head(3)"
   ]
  },
  {
   "cell_type": "markdown",
   "metadata": {},
   "source": [
    "`pd.DataFrame` предоставляет прекрасные 2 метода для просмотра части данных: `pd.head` и `pd.tail`, которые отображают соответственно первые 5 строк или последние 5 строк. Число строк можно отдельно указать в параметрах.\\\n",
    "С помощью данных методов можно удобно смотреть на часть своих данных, проверяя проделанные манипуляции."
   ]
  },
  {
   "cell_type": "code",
   "execution_count": 206,
   "metadata": {},
   "outputs": [
    {
     "data": {
      "text/html": [
       "<div>\n",
       "<style scoped>\n",
       "    .dataframe tbody tr th:only-of-type {\n",
       "        vertical-align: middle;\n",
       "    }\n",
       "\n",
       "    .dataframe tbody tr th {\n",
       "        vertical-align: top;\n",
       "    }\n",
       "\n",
       "    .dataframe thead th {\n",
       "        text-align: right;\n",
       "    }\n",
       "</style>\n",
       "<table border=\"1\" class=\"dataframe\">\n",
       "  <thead>\n",
       "    <tr style=\"text-align: right;\">\n",
       "      <th></th>\n",
       "      <th>date</th>\n",
       "      <th>away_team</th>\n",
       "      <th>away_points</th>\n",
       "      <th>home_team</th>\n",
       "      <th>home_points</th>\n",
       "      <th>Attend.</th>\n",
       "    </tr>\n",
       "  </thead>\n",
       "  <tbody>\n",
       "    <tr>\n",
       "      <th>35</th>\n",
       "      <td>2015-10-31</td>\n",
       "      <td>Brooklyn Nets</td>\n",
       "      <td>91</td>\n",
       "      <td>Memphis Grizzlies</td>\n",
       "      <td>101</td>\n",
       "      <td>16013</td>\n",
       "    </tr>\n",
       "    <tr>\n",
       "      <th>36</th>\n",
       "      <td>2015-10-31</td>\n",
       "      <td>Phoenix Suns</td>\n",
       "      <td>101</td>\n",
       "      <td>Portland Trail Blazers</td>\n",
       "      <td>90</td>\n",
       "      <td>17906</td>\n",
       "    </tr>\n",
       "    <tr>\n",
       "      <th>37</th>\n",
       "      <td>2015-10-31</td>\n",
       "      <td>Sacramento Kings</td>\n",
       "      <td>109</td>\n",
       "      <td>Los Angeles Clippers</td>\n",
       "      <td>114</td>\n",
       "      <td>19060</td>\n",
       "    </tr>\n",
       "  </tbody>\n",
       "</table>\n",
       "</div>"
      ],
      "text/plain": [
       "         date         away_team  away_points               home_team  \\\n",
       "35 2015-10-31     Brooklyn Nets           91       Memphis Grizzlies   \n",
       "36 2015-10-31      Phoenix Suns          101  Portland Trail Blazers   \n",
       "37 2015-10-31  Sacramento Kings          109    Los Angeles Clippers   \n",
       "\n",
       "    home_points  Attend.  \n",
       "35          101    16013  \n",
       "36           90    17906  \n",
       "37          114    19060  "
      ]
     },
     "execution_count": 206,
     "metadata": {},
     "output_type": "execute_result"
    }
   ],
   "source": [
    "games.tail(3)"
   ]
  },
  {
   "cell_type": "markdown",
   "metadata": {},
   "source": [
    "Перед тем как перейти к анализу давайте посмотрим на то, как изучать размерность `pd.DataFrame`\\\n",
    "Для этого как и в `pd.Series` есть функция `len`, которая возвращает число строк и метод `pd.shape`, который возвращает кортеж из 2 элементов: число строк и число столбцов."
   ]
  },
  {
   "cell_type": "code",
   "execution_count": 208,
   "metadata": {},
   "outputs": [
    {
     "name": "stdout",
     "output_type": "stream",
     "text": [
      "(38, 6)\n",
      "38\n"
     ]
    }
   ],
   "source": [
    "print(games.shape)\n",
    "print(len(games))"
   ]
  },
  {
   "cell_type": "markdown",
   "metadata": {},
   "source": [
    "С помощью метода `pd.dtypes` можно посмотреть на типы колонок. Это бывает необходимо, когда вы пытаетесь понять что у вас за данных (если вы их только получили) или, например, для отладки проблем."
   ]
  },
  {
   "cell_type": "code",
   "execution_count": 49,
   "metadata": {},
   "outputs": [
    {
     "data": {
      "text/plain": [
       "date           datetime64[ns]\n",
       "away_team              object\n",
       "away_points             int64\n",
       "home_team              object\n",
       "home_points             int64\n",
       "Attend.                 int64\n",
       "dtype: object"
      ]
     },
     "execution_count": 49,
     "metadata": {},
     "output_type": "execute_result"
    }
   ],
   "source": [
    "games.dtypes"
   ]
  },
  {
   "cell_type": "markdown",
   "metadata": {},
   "source": [
    "С помощью метода `pd.describe` можно составить небольшой анализ данных, которые у нас есть."
   ]
  },
  {
   "cell_type": "code",
   "execution_count": 50,
   "metadata": {},
   "outputs": [
    {
     "data": {
      "text/html": [
       "<div>\n",
       "<style scoped>\n",
       "    .dataframe tbody tr th:only-of-type {\n",
       "        vertical-align: middle;\n",
       "    }\n",
       "\n",
       "    .dataframe tbody tr th {\n",
       "        vertical-align: top;\n",
       "    }\n",
       "\n",
       "    .dataframe thead th {\n",
       "        text-align: right;\n",
       "    }\n",
       "</style>\n",
       "<table border=\"1\" class=\"dataframe\">\n",
       "  <thead>\n",
       "    <tr style=\"text-align: right;\">\n",
       "      <th></th>\n",
       "      <th>away_points</th>\n",
       "      <th>home_points</th>\n",
       "      <th>Attend.</th>\n",
       "    </tr>\n",
       "  </thead>\n",
       "  <tbody>\n",
       "    <tr>\n",
       "      <th>count</th>\n",
       "      <td>38.000000</td>\n",
       "      <td>38.000000</td>\n",
       "      <td>38.000000</td>\n",
       "    </tr>\n",
       "    <tr>\n",
       "      <th>mean</th>\n",
       "      <td>103.657895</td>\n",
       "      <td>101.263158</td>\n",
       "      <td>18274.763158</td>\n",
       "    </tr>\n",
       "    <tr>\n",
       "      <th>std</th>\n",
       "      <td>13.187374</td>\n",
       "      <td>13.951042</td>\n",
       "      <td>1547.135163</td>\n",
       "    </tr>\n",
       "    <tr>\n",
       "      <th>min</th>\n",
       "      <td>75.000000</td>\n",
       "      <td>71.000000</td>\n",
       "      <td>13858.000000</td>\n",
       "    </tr>\n",
       "    <tr>\n",
       "      <th>25%</th>\n",
       "      <td>94.000000</td>\n",
       "      <td>94.250000</td>\n",
       "      <td>17678.000000</td>\n",
       "    </tr>\n",
       "    <tr>\n",
       "      <th>50%</th>\n",
       "      <td>103.000000</td>\n",
       "      <td>102.000000</td>\n",
       "      <td>18323.000000</td>\n",
       "    </tr>\n",
       "    <tr>\n",
       "      <th>75%</th>\n",
       "      <td>112.000000</td>\n",
       "      <td>110.750000</td>\n",
       "      <td>19155.250000</td>\n",
       "    </tr>\n",
       "    <tr>\n",
       "      <th>max</th>\n",
       "      <td>139.000000</td>\n",
       "      <td>136.000000</td>\n",
       "      <td>21957.000000</td>\n",
       "    </tr>\n",
       "  </tbody>\n",
       "</table>\n",
       "</div>"
      ],
      "text/plain": [
       "       away_points  home_points       Attend.\n",
       "count    38.000000    38.000000     38.000000\n",
       "mean    103.657895   101.263158  18274.763158\n",
       "std      13.187374    13.951042   1547.135163\n",
       "min      75.000000    71.000000  13858.000000\n",
       "25%      94.000000    94.250000  17678.000000\n",
       "50%     103.000000   102.000000  18323.000000\n",
       "75%     112.000000   110.750000  19155.250000\n",
       "max     139.000000   136.000000  21957.000000"
      ]
     },
     "execution_count": 50,
     "metadata": {},
     "output_type": "execute_result"
    }
   ],
   "source": [
    "games.describe()"
   ]
  },
  {
   "cell_type": "code",
   "execution_count": 51,
   "metadata": {},
   "outputs": [
    {
     "name": "stderr",
     "output_type": "stream",
     "text": [
      "/Users/an.loskutov/Documents/anaconda3/lib/python3.7/site-packages/ipykernel_launcher.py:1: FutureWarning: Treating datetime data as categorical rather than numeric in `.describe` is deprecated and will be removed in a future version of pandas. Specify `datetime_is_numeric=True` to silence this warning and adopt the future behavior now.\n",
      "  \"\"\"Entry point for launching an IPython kernel.\n"
     ]
    },
    {
     "data": {
      "text/html": [
       "<div>\n",
       "<style scoped>\n",
       "    .dataframe tbody tr th:only-of-type {\n",
       "        vertical-align: middle;\n",
       "    }\n",
       "\n",
       "    .dataframe tbody tr th {\n",
       "        vertical-align: top;\n",
       "    }\n",
       "\n",
       "    .dataframe thead th {\n",
       "        text-align: right;\n",
       "    }\n",
       "</style>\n",
       "<table border=\"1\" class=\"dataframe\">\n",
       "  <thead>\n",
       "    <tr style=\"text-align: right;\">\n",
       "      <th></th>\n",
       "      <th>date</th>\n",
       "      <th>away_team</th>\n",
       "      <th>home_team</th>\n",
       "    </tr>\n",
       "  </thead>\n",
       "  <tbody>\n",
       "    <tr>\n",
       "      <th>count</th>\n",
       "      <td>38</td>\n",
       "      <td>38</td>\n",
       "      <td>38</td>\n",
       "    </tr>\n",
       "    <tr>\n",
       "      <th>unique</th>\n",
       "      <td>5</td>\n",
       "      <td>26</td>\n",
       "      <td>26</td>\n",
       "    </tr>\n",
       "    <tr>\n",
       "      <th>top</th>\n",
       "      <td>2015-10-28 00:00:00</td>\n",
       "      <td>Utah Jazz</td>\n",
       "      <td>Phoenix Suns</td>\n",
       "    </tr>\n",
       "    <tr>\n",
       "      <th>freq</th>\n",
       "      <td>14</td>\n",
       "      <td>3</td>\n",
       "      <td>2</td>\n",
       "    </tr>\n",
       "    <tr>\n",
       "      <th>first</th>\n",
       "      <td>2015-10-27 00:00:00</td>\n",
       "      <td>NaN</td>\n",
       "      <td>NaN</td>\n",
       "    </tr>\n",
       "    <tr>\n",
       "      <th>last</th>\n",
       "      <td>2015-10-31 00:00:00</td>\n",
       "      <td>NaN</td>\n",
       "      <td>NaN</td>\n",
       "    </tr>\n",
       "  </tbody>\n",
       "</table>\n",
       "</div>"
      ],
      "text/plain": [
       "                       date  away_team     home_team\n",
       "count                    38         38            38\n",
       "unique                    5         26            26\n",
       "top     2015-10-28 00:00:00  Utah Jazz  Phoenix Suns\n",
       "freq                     14          3             2\n",
       "first   2015-10-27 00:00:00        NaN           NaN\n",
       "last    2015-10-31 00:00:00        NaN           NaN"
      ]
     },
     "execution_count": 51,
     "metadata": {},
     "output_type": "execute_result"
    }
   ],
   "source": [
    "games.describe(include=['object', 'datetime64[ns]'])"
   ]
  },
  {
   "cell_type": "code",
   "execution_count": 52,
   "metadata": {},
   "outputs": [
    {
     "data": {
      "text/html": [
       "<div>\n",
       "<style scoped>\n",
       "    .dataframe tbody tr th:only-of-type {\n",
       "        vertical-align: middle;\n",
       "    }\n",
       "\n",
       "    .dataframe tbody tr th {\n",
       "        vertical-align: top;\n",
       "    }\n",
       "\n",
       "    .dataframe thead th {\n",
       "        text-align: right;\n",
       "    }\n",
       "</style>\n",
       "<table border=\"1\" class=\"dataframe\">\n",
       "  <thead>\n",
       "    <tr style=\"text-align: right;\">\n",
       "      <th></th>\n",
       "      <th>away_points</th>\n",
       "      <th>home_points</th>\n",
       "      <th>Attend.</th>\n",
       "    </tr>\n",
       "  </thead>\n",
       "  <tbody>\n",
       "    <tr>\n",
       "      <th>count</th>\n",
       "      <td>38.000000</td>\n",
       "      <td>38.000000</td>\n",
       "      <td>38.000000</td>\n",
       "    </tr>\n",
       "    <tr>\n",
       "      <th>mean</th>\n",
       "      <td>103.657895</td>\n",
       "      <td>101.263158</td>\n",
       "      <td>18274.763158</td>\n",
       "    </tr>\n",
       "    <tr>\n",
       "      <th>std</th>\n",
       "      <td>13.187374</td>\n",
       "      <td>13.951042</td>\n",
       "      <td>1547.135163</td>\n",
       "    </tr>\n",
       "    <tr>\n",
       "      <th>min</th>\n",
       "      <td>75.000000</td>\n",
       "      <td>71.000000</td>\n",
       "      <td>13858.000000</td>\n",
       "    </tr>\n",
       "    <tr>\n",
       "      <th>10%</th>\n",
       "      <td>90.100000</td>\n",
       "      <td>82.900000</td>\n",
       "      <td>16639.100000</td>\n",
       "    </tr>\n",
       "    <tr>\n",
       "      <th>50%</th>\n",
       "      <td>103.000000</td>\n",
       "      <td>102.000000</td>\n",
       "      <td>18323.000000</td>\n",
       "    </tr>\n",
       "    <tr>\n",
       "      <th>90%</th>\n",
       "      <td>117.300000</td>\n",
       "      <td>113.300000</td>\n",
       "      <td>19803.600000</td>\n",
       "    </tr>\n",
       "    <tr>\n",
       "      <th>99.95%</th>\n",
       "      <td>138.907500</td>\n",
       "      <td>135.926000</td>\n",
       "      <td>21931.192500</td>\n",
       "    </tr>\n",
       "    <tr>\n",
       "      <th>max</th>\n",
       "      <td>139.000000</td>\n",
       "      <td>136.000000</td>\n",
       "      <td>21957.000000</td>\n",
       "    </tr>\n",
       "  </tbody>\n",
       "</table>\n",
       "</div>"
      ],
      "text/plain": [
       "        away_points  home_points       Attend.\n",
       "count     38.000000    38.000000     38.000000\n",
       "mean     103.657895   101.263158  18274.763158\n",
       "std       13.187374    13.951042   1547.135163\n",
       "min       75.000000    71.000000  13858.000000\n",
       "10%       90.100000    82.900000  16639.100000\n",
       "50%      103.000000   102.000000  18323.000000\n",
       "90%      117.300000   113.300000  19803.600000\n",
       "99.95%   138.907500   135.926000  21931.192500\n",
       "max      139.000000   136.000000  21957.000000"
      ]
     },
     "execution_count": 52,
     "metadata": {},
     "output_type": "execute_result"
    }
   ],
   "source": [
    "games.describe(percentiles=[0.1, 0.9, 0.9995])"
   ]
  },
  {
   "cell_type": "markdown",
   "metadata": {},
   "source": [
    "Также есть метод для сортировки значений `pd.sort_values`"
   ]
  },
  {
   "cell_type": "code",
   "execution_count": 53,
   "metadata": {},
   "outputs": [
    {
     "data": {
      "text/html": [
       "<div>\n",
       "<style scoped>\n",
       "    .dataframe tbody tr th:only-of-type {\n",
       "        vertical-align: middle;\n",
       "    }\n",
       "\n",
       "    .dataframe tbody tr th {\n",
       "        vertical-align: top;\n",
       "    }\n",
       "\n",
       "    .dataframe thead th {\n",
       "        text-align: right;\n",
       "    }\n",
       "</style>\n",
       "<table border=\"1\" class=\"dataframe\">\n",
       "  <thead>\n",
       "    <tr style=\"text-align: right;\">\n",
       "      <th></th>\n",
       "      <th>date</th>\n",
       "      <th>away_team</th>\n",
       "      <th>away_points</th>\n",
       "      <th>home_team</th>\n",
       "      <th>home_points</th>\n",
       "      <th>Attend.</th>\n",
       "    </tr>\n",
       "  </thead>\n",
       "  <tbody>\n",
       "    <tr>\n",
       "      <th>22</th>\n",
       "      <td>2015-10-30</td>\n",
       "      <td>Oklahoma City Thunder</td>\n",
       "      <td>139</td>\n",
       "      <td>Orlando Magic</td>\n",
       "      <td>136</td>\n",
       "      <td>18846</td>\n",
       "    </tr>\n",
       "    <tr>\n",
       "      <th>34</th>\n",
       "      <td>2015-10-31</td>\n",
       "      <td>Golden State Warriors</td>\n",
       "      <td>134</td>\n",
       "      <td>New Orleans Pelicans</td>\n",
       "      <td>120</td>\n",
       "      <td>18406</td>\n",
       "    </tr>\n",
       "    <tr>\n",
       "      <th>9</th>\n",
       "      <td>2015-10-28</td>\n",
       "      <td>New York Knicks</td>\n",
       "      <td>122</td>\n",
       "      <td>Milwaukee Bucks</td>\n",
       "      <td>97</td>\n",
       "      <td>18717</td>\n",
       "    </tr>\n",
       "    <tr>\n",
       "      <th>26</th>\n",
       "      <td>2015-10-30</td>\n",
       "      <td>Washington Wizards</td>\n",
       "      <td>118</td>\n",
       "      <td>Milwaukee Bucks</td>\n",
       "      <td>113</td>\n",
       "      <td>13858</td>\n",
       "    </tr>\n",
       "    <tr>\n",
       "      <th>33</th>\n",
       "      <td>2015-10-31</td>\n",
       "      <td>New York Knicks</td>\n",
       "      <td>117</td>\n",
       "      <td>Washington Wizards</td>\n",
       "      <td>110</td>\n",
       "      <td>20356</td>\n",
       "    </tr>\n",
       "  </tbody>\n",
       "</table>\n",
       "</div>"
      ],
      "text/plain": [
       "         date              away_team  away_points             home_team  \\\n",
       "22 2015-10-30  Oklahoma City Thunder          139         Orlando Magic   \n",
       "34 2015-10-31  Golden State Warriors          134  New Orleans Pelicans   \n",
       "9  2015-10-28        New York Knicks          122       Milwaukee Bucks   \n",
       "26 2015-10-30     Washington Wizards          118       Milwaukee Bucks   \n",
       "33 2015-10-31        New York Knicks          117    Washington Wizards   \n",
       "\n",
       "    home_points  Attend.  \n",
       "22          136    18846  \n",
       "34          120    18406  \n",
       "9            97    18717  \n",
       "26          113    13858  \n",
       "33          110    20356  "
      ]
     },
     "execution_count": 53,
     "metadata": {},
     "output_type": "execute_result"
    }
   ],
   "source": [
    "games.sort_values(by='away_points', ascending=False).head()"
   ]
  },
  {
   "cell_type": "code",
   "execution_count": 212,
   "metadata": {},
   "outputs": [
    {
     "data": {
      "text/html": [
       "<div>\n",
       "<style scoped>\n",
       "    .dataframe tbody tr th:only-of-type {\n",
       "        vertical-align: middle;\n",
       "    }\n",
       "\n",
       "    .dataframe tbody tr th {\n",
       "        vertical-align: top;\n",
       "    }\n",
       "\n",
       "    .dataframe thead th {\n",
       "        text-align: right;\n",
       "    }\n",
       "</style>\n",
       "<table border=\"1\" class=\"dataframe\">\n",
       "  <thead>\n",
       "    <tr style=\"text-align: right;\">\n",
       "      <th></th>\n",
       "      <th>date</th>\n",
       "      <th>away_team</th>\n",
       "      <th>away_points</th>\n",
       "      <th>home_team</th>\n",
       "      <th>home_points</th>\n",
       "      <th>Attend.</th>\n",
       "    </tr>\n",
       "  </thead>\n",
       "  <tbody>\n",
       "    <tr>\n",
       "      <th>27</th>\n",
       "      <td>2015-10-30</td>\n",
       "      <td>Brooklyn Nets</td>\n",
       "      <td>75</td>\n",
       "      <td>San Antonio Spurs</td>\n",
       "      <td>102</td>\n",
       "      <td>18418</td>\n",
       "    </tr>\n",
       "    <tr>\n",
       "      <th>6</th>\n",
       "      <td>2015-10-28</td>\n",
       "      <td>Utah Jazz</td>\n",
       "      <td>87</td>\n",
       "      <td>Detroit Pistons</td>\n",
       "      <td>92</td>\n",
       "      <td>18434</td>\n",
       "    </tr>\n",
       "    <tr>\n",
       "      <th>19</th>\n",
       "      <td>2015-10-29</td>\n",
       "      <td>Dallas Mavericks</td>\n",
       "      <td>88</td>\n",
       "      <td>Los Angeles Clippers</td>\n",
       "      <td>104</td>\n",
       "      <td>19218</td>\n",
       "    </tr>\n",
       "    <tr>\n",
       "      <th>3</th>\n",
       "      <td>2015-10-28</td>\n",
       "      <td>Washington Wizards</td>\n",
       "      <td>88</td>\n",
       "      <td>Orlando Magic</td>\n",
       "      <td>87</td>\n",
       "      <td>18846</td>\n",
       "    </tr>\n",
       "    <tr>\n",
       "      <th>35</th>\n",
       "      <td>2015-10-31</td>\n",
       "      <td>Brooklyn Nets</td>\n",
       "      <td>91</td>\n",
       "      <td>Memphis Grizzlies</td>\n",
       "      <td>101</td>\n",
       "      <td>16013</td>\n",
       "    </tr>\n",
       "  </tbody>\n",
       "</table>\n",
       "</div>"
      ],
      "text/plain": [
       "         date           away_team  away_points             home_team  \\\n",
       "27 2015-10-30       Brooklyn Nets           75     San Antonio Spurs   \n",
       "6  2015-10-28           Utah Jazz           87       Detroit Pistons   \n",
       "19 2015-10-29    Dallas Mavericks           88  Los Angeles Clippers   \n",
       "3  2015-10-28  Washington Wizards           88         Orlando Magic   \n",
       "35 2015-10-31       Brooklyn Nets           91     Memphis Grizzlies   \n",
       "\n",
       "    home_points  Attend.  \n",
       "27          102    18418  \n",
       "6            92    18434  \n",
       "19          104    19218  \n",
       "3            87    18846  \n",
       "35          101    16013  "
      ]
     },
     "execution_count": 212,
     "metadata": {},
     "output_type": "execute_result"
    }
   ],
   "source": [
    "games.sort_values(by=['away_points', 'home_points'], ascending=[True, False]).head()"
   ]
  },
  {
   "cell_type": "markdown",
   "metadata": {},
   "source": [
    "Теперь перейдем к некоторым методам аналитике данных. То есть попробуем использовать знания, которые были описаны выше и, комбинируя их, ответить на следующие вопросы:"
   ]
  },
  {
   "cell_type": "markdown",
   "metadata": {},
   "source": [
    "**Какой средний балл у команд, которые играли дома?**"
   ]
  },
  {
   "cell_type": "code",
   "execution_count": 55,
   "metadata": {},
   "outputs": [
    {
     "data": {
      "text/plain": [
       "101.26315789473684"
      ]
     },
     "execution_count": 55,
     "metadata": {},
     "output_type": "execute_result"
    }
   ],
   "source": [
    "games['home_points'].mean()"
   ]
  },
  {
   "cell_type": "markdown",
   "metadata": {},
   "source": [
    "**Какой максимальный балл у команд, которые играли на выезде 28 октября 2015?**"
   ]
  },
  {
   "cell_type": "code",
   "execution_count": 56,
   "metadata": {},
   "outputs": [
    {
     "data": {
      "text/html": [
       "<div>\n",
       "<style scoped>\n",
       "    .dataframe tbody tr th:only-of-type {\n",
       "        vertical-align: middle;\n",
       "    }\n",
       "\n",
       "    .dataframe tbody tr th {\n",
       "        vertical-align: top;\n",
       "    }\n",
       "\n",
       "    .dataframe thead th {\n",
       "        text-align: right;\n",
       "    }\n",
       "</style>\n",
       "<table border=\"1\" class=\"dataframe\">\n",
       "  <thead>\n",
       "    <tr style=\"text-align: right;\">\n",
       "      <th></th>\n",
       "      <th>date</th>\n",
       "      <th>away_team</th>\n",
       "      <th>away_points</th>\n",
       "      <th>home_team</th>\n",
       "      <th>home_points</th>\n",
       "      <th>Attend.</th>\n",
       "    </tr>\n",
       "  </thead>\n",
       "  <tbody>\n",
       "    <tr>\n",
       "      <th>3</th>\n",
       "      <td>2015-10-28</td>\n",
       "      <td>Washington Wizards</td>\n",
       "      <td>88</td>\n",
       "      <td>Orlando Magic</td>\n",
       "      <td>87</td>\n",
       "      <td>18846</td>\n",
       "    </tr>\n",
       "    <tr>\n",
       "      <th>4</th>\n",
       "      <td>2015-10-28</td>\n",
       "      <td>Philadelphia 76ers</td>\n",
       "      <td>95</td>\n",
       "      <td>Boston Celtics</td>\n",
       "      <td>112</td>\n",
       "      <td>18624</td>\n",
       "    </tr>\n",
       "    <tr>\n",
       "      <th>5</th>\n",
       "      <td>2015-10-28</td>\n",
       "      <td>Chicago Bulls</td>\n",
       "      <td>115</td>\n",
       "      <td>Brooklyn Nets</td>\n",
       "      <td>100</td>\n",
       "      <td>17732</td>\n",
       "    </tr>\n",
       "    <tr>\n",
       "      <th>6</th>\n",
       "      <td>2015-10-28</td>\n",
       "      <td>Utah Jazz</td>\n",
       "      <td>87</td>\n",
       "      <td>Detroit Pistons</td>\n",
       "      <td>92</td>\n",
       "      <td>18434</td>\n",
       "    </tr>\n",
       "    <tr>\n",
       "      <th>7</th>\n",
       "      <td>2015-10-28</td>\n",
       "      <td>Indiana Pacers</td>\n",
       "      <td>99</td>\n",
       "      <td>Toronto Raptors</td>\n",
       "      <td>106</td>\n",
       "      <td>19800</td>\n",
       "    </tr>\n",
       "  </tbody>\n",
       "</table>\n",
       "</div>"
      ],
      "text/plain": [
       "        date           away_team  away_points        home_team  home_points  \\\n",
       "3 2015-10-28  Washington Wizards           88    Orlando Magic           87   \n",
       "4 2015-10-28  Philadelphia 76ers           95   Boston Celtics          112   \n",
       "5 2015-10-28       Chicago Bulls          115    Brooklyn Nets          100   \n",
       "6 2015-10-28           Utah Jazz           87  Detroit Pistons           92   \n",
       "7 2015-10-28      Indiana Pacers           99  Toronto Raptors          106   \n",
       "\n",
       "   Attend.  \n",
       "3    18846  \n",
       "4    18624  \n",
       "5    17732  \n",
       "6    18434  \n",
       "7    19800  "
      ]
     },
     "execution_count": 56,
     "metadata": {},
     "output_type": "execute_result"
    }
   ],
   "source": [
    "games[games['date'] == '2015-10-28'].head()"
   ]
  },
  {
   "cell_type": "code",
   "execution_count": 57,
   "metadata": {},
   "outputs": [
    {
     "data": {
      "text/plain": [
       "122"
      ]
     },
     "execution_count": 57,
     "metadata": {},
     "output_type": "execute_result"
    }
   ],
   "source": [
    "games.loc[games['date'] == '2015-10-28', 'away_points'].max()"
   ]
  },
  {
   "cell_type": "markdown",
   "metadata": {},
   "source": [
    "**Какой минимальный балл у команд, которые играли дома, 30 октября 2015 года, и на матчах которых было более 18500 зрителей?**"
   ]
  },
  {
   "cell_type": "code",
   "execution_count": 58,
   "metadata": {},
   "outputs": [
    {
     "data": {
      "text/plain": [
       "102"
      ]
     },
     "execution_count": 58,
     "metadata": {},
     "output_type": "execute_result"
    }
   ],
   "source": [
    "games.loc[(games['date'] == '2015-10-30') & (games['Attend.'] > 18500), 'home_points'].min()"
   ]
  },
  {
   "cell_type": "markdown",
   "metadata": {},
   "source": [
    "### Теперь перейдем к более сложным способам анализа, в которых `pandas` и его функциональность проявляется в полном объеме."
   ]
  },
  {
   "cell_type": "markdown",
   "metadata": {},
   "source": [
    "Для начала немного о методе `pd.apply`. Этот метод применяет переданную в него функцию для выбранной оси `pd.DataFrame`.\\\n",
    "Чтобы применить функцию к каждому элементу `pd.DataFrame` надо использовать метод `pd.applymap`.\\\n",
    "Для `pd.Series` есть аналогичный `pd.apply` метод `pd.map`."
   ]
  },
  {
   "cell_type": "code",
   "execution_count": 59,
   "metadata": {},
   "outputs": [
    {
     "data": {
      "text/html": [
       "<div>\n",
       "<style scoped>\n",
       "    .dataframe tbody tr th:only-of-type {\n",
       "        vertical-align: middle;\n",
       "    }\n",
       "\n",
       "    .dataframe tbody tr th {\n",
       "        vertical-align: top;\n",
       "    }\n",
       "\n",
       "    .dataframe thead th {\n",
       "        text-align: right;\n",
       "    }\n",
       "</style>\n",
       "<table border=\"1\" class=\"dataframe\">\n",
       "  <thead>\n",
       "    <tr style=\"text-align: right;\">\n",
       "      <th></th>\n",
       "      <th>away_points</th>\n",
       "      <th>home_points</th>\n",
       "    </tr>\n",
       "  </thead>\n",
       "  <tbody>\n",
       "    <tr>\n",
       "      <th>0</th>\n",
       "      <td>95</td>\n",
       "      <td>97</td>\n",
       "    </tr>\n",
       "    <tr>\n",
       "      <th>1</th>\n",
       "      <td>106</td>\n",
       "      <td>94</td>\n",
       "    </tr>\n",
       "    <tr>\n",
       "      <th>2</th>\n",
       "      <td>95</td>\n",
       "      <td>111</td>\n",
       "    </tr>\n",
       "    <tr>\n",
       "      <th>3</th>\n",
       "      <td>88</td>\n",
       "      <td>87</td>\n",
       "    </tr>\n",
       "    <tr>\n",
       "      <th>4</th>\n",
       "      <td>95</td>\n",
       "      <td>112</td>\n",
       "    </tr>\n",
       "    <tr>\n",
       "      <th>5</th>\n",
       "      <td>115</td>\n",
       "      <td>100</td>\n",
       "    </tr>\n",
       "    <tr>\n",
       "      <th>6</th>\n",
       "      <td>87</td>\n",
       "      <td>92</td>\n",
       "    </tr>\n",
       "    <tr>\n",
       "      <th>7</th>\n",
       "      <td>99</td>\n",
       "      <td>106</td>\n",
       "    </tr>\n",
       "    <tr>\n",
       "      <th>8</th>\n",
       "      <td>94</td>\n",
       "      <td>104</td>\n",
       "    </tr>\n",
       "    <tr>\n",
       "      <th>9</th>\n",
       "      <td>122</td>\n",
       "      <td>97</td>\n",
       "    </tr>\n",
       "  </tbody>\n",
       "</table>\n",
       "</div>"
      ],
      "text/plain": [
       "   away_points  home_points\n",
       "0           95           97\n",
       "1          106           94\n",
       "2           95          111\n",
       "3           88           87\n",
       "4           95          112\n",
       "5          115          100\n",
       "6           87           92\n",
       "7           99          106\n",
       "8           94          104\n",
       "9          122           97"
      ]
     },
     "execution_count": 59,
     "metadata": {},
     "output_type": "execute_result"
    }
   ],
   "source": [
    "games[['away_points', 'home_points']].head(10)"
   ]
  },
  {
   "cell_type": "code",
   "execution_count": 213,
   "metadata": {},
   "outputs": [
    {
     "data": {
      "text/html": [
       "<div>\n",
       "<style scoped>\n",
       "    .dataframe tbody tr th:only-of-type {\n",
       "        vertical-align: middle;\n",
       "    }\n",
       "\n",
       "    .dataframe tbody tr th {\n",
       "        vertical-align: top;\n",
       "    }\n",
       "\n",
       "    .dataframe thead th {\n",
       "        text-align: right;\n",
       "    }\n",
       "</style>\n",
       "<table border=\"1\" class=\"dataframe\">\n",
       "  <thead>\n",
       "    <tr style=\"text-align: right;\">\n",
       "      <th></th>\n",
       "      <th>away_points</th>\n",
       "      <th>home_points</th>\n",
       "    </tr>\n",
       "  </thead>\n",
       "  <tbody>\n",
       "    <tr>\n",
       "      <th>0</th>\n",
       "      <td>9025</td>\n",
       "      <td>9409</td>\n",
       "    </tr>\n",
       "    <tr>\n",
       "      <th>1</th>\n",
       "      <td>11236</td>\n",
       "      <td>8836</td>\n",
       "    </tr>\n",
       "    <tr>\n",
       "      <th>2</th>\n",
       "      <td>9025</td>\n",
       "      <td>12321</td>\n",
       "    </tr>\n",
       "    <tr>\n",
       "      <th>3</th>\n",
       "      <td>7744</td>\n",
       "      <td>7569</td>\n",
       "    </tr>\n",
       "    <tr>\n",
       "      <th>4</th>\n",
       "      <td>9025</td>\n",
       "      <td>12544</td>\n",
       "    </tr>\n",
       "    <tr>\n",
       "      <th>5</th>\n",
       "      <td>13225</td>\n",
       "      <td>10000</td>\n",
       "    </tr>\n",
       "    <tr>\n",
       "      <th>6</th>\n",
       "      <td>7569</td>\n",
       "      <td>8464</td>\n",
       "    </tr>\n",
       "    <tr>\n",
       "      <th>7</th>\n",
       "      <td>9801</td>\n",
       "      <td>11236</td>\n",
       "    </tr>\n",
       "    <tr>\n",
       "      <th>8</th>\n",
       "      <td>8836</td>\n",
       "      <td>10816</td>\n",
       "    </tr>\n",
       "    <tr>\n",
       "      <th>9</th>\n",
       "      <td>14884</td>\n",
       "      <td>9409</td>\n",
       "    </tr>\n",
       "  </tbody>\n",
       "</table>\n",
       "</div>"
      ],
      "text/plain": [
       "   away_points  home_points\n",
       "0         9025         9409\n",
       "1        11236         8836\n",
       "2         9025        12321\n",
       "3         7744         7569\n",
       "4         9025        12544\n",
       "5        13225        10000\n",
       "6         7569         8464\n",
       "7         9801        11236\n",
       "8         8836        10816\n",
       "9        14884         9409"
      ]
     },
     "execution_count": 213,
     "metadata": {},
     "output_type": "execute_result"
    }
   ],
   "source": [
    "def f(x):\n",
    "    return x * x\n",
    "\n",
    "games[['away_points', 'home_points']].head(10).applymap(lambda x: x * x)"
   ]
  },
  {
   "cell_type": "code",
   "execution_count": 61,
   "metadata": {},
   "outputs": [
    {
     "data": {
      "text/plain": [
       "away_points    35\n",
       "home_points    25\n",
       "dtype: int64"
      ]
     },
     "execution_count": 61,
     "metadata": {},
     "output_type": "execute_result"
    }
   ],
   "source": [
    "games[['away_points', 'home_points']].head(10).apply(lambda ser: ser.max() - ser.min())"
   ]
  },
  {
   "cell_type": "code",
   "execution_count": 62,
   "metadata": {},
   "outputs": [
    {
     "data": {
      "text/plain": [
       "0     96.0\n",
       "1    100.0\n",
       "2    103.0\n",
       "3     87.5\n",
       "4    103.5\n",
       "5    107.5\n",
       "6     89.5\n",
       "7    102.5\n",
       "8     99.0\n",
       "9    109.5\n",
       "dtype: float64"
      ]
     },
     "execution_count": 62,
     "metadata": {},
     "output_type": "execute_result"
    }
   ],
   "source": [
    "games[['away_points', 'home_points']].head(10).apply(lambda row: row.median(), axis=1)"
   ]
  },
  {
   "cell_type": "markdown",
   "metadata": {},
   "source": [
    "С строками в `pd.Series` можно работать через модификатор `.str` и применять любую стандартную функцию"
   ]
  },
  {
   "cell_type": "code",
   "execution_count": 63,
   "metadata": {},
   "outputs": [
    {
     "data": {
      "text/plain": [
       "0      [Cleveland, Cavaliers]\n",
       "1          [Detroit, Pistons]\n",
       "2    [New, Orleans, Pelicans]\n",
       "3       [Washington, Wizards]\n",
       "4       [Philadelphia, 76ers]\n",
       "Name: away_team, dtype: object"
      ]
     },
     "execution_count": 63,
     "metadata": {},
     "output_type": "execute_result"
    }
   ],
   "source": [
    "col = games['away_team']\n",
    "col.str.split().head()"
   ]
  },
  {
   "cell_type": "markdown",
   "metadata": {},
   "source": [
    "Один из главных и самых удобных для анализа методов `pandas` является `pd.groupby`.\\\n",
    "Для тех кто знаком с SQL - метод работает аналогично операции GROUP BY в запросах типа SELECT.\\\n",
    "\n",
    "Иначе говоря, строка кода `df.groupby('column1').agg_func` проделывает примерно такую последовательность операций:\\\n",
    "<code>\n",
    "for unique_element in df['column1'].unique():\n",
    "    df_group = df[df.column1 == unique_element]\n",
    "    df_group.set_index('column1')\n",
    "    new_row_for_unique_element = df_group.apply(agg_func)\n",
    "</code>\n",
    "\\\n",
    "После применения возвращается `pd.DataFrame`, состоящий из набора строк `new_row_for_unique_element` для каждого униклаьного элемента из колонки 'column1'."
   ]
  },
  {
   "cell_type": "code",
   "execution_count": 216,
   "metadata": {},
   "outputs": [
    {
     "data": {
      "text/plain": [
       "date\n",
       "2015-10-27     3\n",
       "2015-10-28    14\n",
       "2015-10-29     3\n",
       "2015-10-30    12\n",
       "2015-10-31     6\n",
       "dtype: int64"
      ]
     },
     "execution_count": 216,
     "metadata": {},
     "output_type": "execute_result"
    }
   ],
   "source": [
    "games.groupby('date').size()"
   ]
  },
  {
   "cell_type": "code",
   "execution_count": 226,
   "metadata": {},
   "outputs": [
    {
     "data": {
      "text/html": [
       "<div>\n",
       "<style scoped>\n",
       "    .dataframe tbody tr th:only-of-type {\n",
       "        vertical-align: middle;\n",
       "    }\n",
       "\n",
       "    .dataframe tbody tr th {\n",
       "        vertical-align: top;\n",
       "    }\n",
       "\n",
       "    .dataframe thead th {\n",
       "        text-align: right;\n",
       "    }\n",
       "</style>\n",
       "<table border=\"1\" class=\"dataframe\">\n",
       "  <thead>\n",
       "    <tr style=\"text-align: right;\">\n",
       "      <th></th>\n",
       "      <th>away_points</th>\n",
       "      <th>home_points</th>\n",
       "      <th>Attend.</th>\n",
       "    </tr>\n",
       "    <tr>\n",
       "      <th>date</th>\n",
       "      <th></th>\n",
       "      <th></th>\n",
       "      <th></th>\n",
       "    </tr>\n",
       "  </thead>\n",
       "  <tbody>\n",
       "    <tr>\n",
       "      <th>2015-10-27</th>\n",
       "      <td>98.666667</td>\n",
       "      <td>100.666667</td>\n",
       "      <td>20246.666667</td>\n",
       "    </tr>\n",
       "    <tr>\n",
       "      <th>2015-10-28</th>\n",
       "      <td>103.214286</td>\n",
       "      <td>99.500000</td>\n",
       "      <td>18595.857143</td>\n",
       "    </tr>\n",
       "    <tr>\n",
       "      <th>2015-10-29</th>\n",
       "      <td>104.000000</td>\n",
       "      <td>102.666667</td>\n",
       "      <td>19065.000000</td>\n",
       "    </tr>\n",
       "    <tr>\n",
       "      <th>2015-10-30</th>\n",
       "      <td>103.083333</td>\n",
       "      <td>102.833333</td>\n",
       "      <td>17500.916667</td>\n",
       "    </tr>\n",
       "    <tr>\n",
       "      <th>2015-10-31</th>\n",
       "      <td>108.166667</td>\n",
       "      <td>101.833333</td>\n",
       "      <td>17692.166667</td>\n",
       "    </tr>\n",
       "  </tbody>\n",
       "</table>\n",
       "</div>"
      ],
      "text/plain": [
       "            away_points  home_points       Attend.\n",
       "date                                              \n",
       "2015-10-27    98.666667   100.666667  20246.666667\n",
       "2015-10-28   103.214286    99.500000  18595.857143\n",
       "2015-10-29   104.000000   102.666667  19065.000000\n",
       "2015-10-30   103.083333   102.833333  17500.916667\n",
       "2015-10-31   108.166667   101.833333  17692.166667"
      ]
     },
     "execution_count": 226,
     "metadata": {},
     "output_type": "execute_result"
    }
   ],
   "source": [
    "games.groupby('date').mean()"
   ]
  },
  {
   "cell_type": "code",
   "execution_count": 230,
   "metadata": {},
   "outputs": [
    {
     "data": {
      "text/html": [
       "<div>\n",
       "<style scoped>\n",
       "    .dataframe tbody tr th:only-of-type {\n",
       "        vertical-align: middle;\n",
       "    }\n",
       "\n",
       "    .dataframe tbody tr th {\n",
       "        vertical-align: top;\n",
       "    }\n",
       "\n",
       "    .dataframe thead th {\n",
       "        text-align: right;\n",
       "    }\n",
       "</style>\n",
       "<table border=\"1\" class=\"dataframe\">\n",
       "  <thead>\n",
       "    <tr style=\"text-align: right;\">\n",
       "      <th></th>\n",
       "      <th>date</th>\n",
       "      <th>away_team</th>\n",
       "      <th>away_points</th>\n",
       "      <th>home_team</th>\n",
       "      <th>home_points</th>\n",
       "      <th>Attend.</th>\n",
       "    </tr>\n",
       "  </thead>\n",
       "  <tbody>\n",
       "    <tr>\n",
       "      <th>32</th>\n",
       "      <td>2015-10-31</td>\n",
       "      <td>Utah Jazz</td>\n",
       "      <td>97</td>\n",
       "      <td>Indiana Pacers</td>\n",
       "      <td>76</td>\n",
       "      <td>14412</td>\n",
       "    </tr>\n",
       "    <tr>\n",
       "      <th>33</th>\n",
       "      <td>2015-10-31</td>\n",
       "      <td>New York Knicks</td>\n",
       "      <td>117</td>\n",
       "      <td>Washington Wizards</td>\n",
       "      <td>110</td>\n",
       "      <td>20356</td>\n",
       "    </tr>\n",
       "    <tr>\n",
       "      <th>34</th>\n",
       "      <td>2015-10-31</td>\n",
       "      <td>Golden State Warriors</td>\n",
       "      <td>134</td>\n",
       "      <td>New Orleans Pelicans</td>\n",
       "      <td>120</td>\n",
       "      <td>18406</td>\n",
       "    </tr>\n",
       "    <tr>\n",
       "      <th>35</th>\n",
       "      <td>2015-10-31</td>\n",
       "      <td>Brooklyn Nets</td>\n",
       "      <td>91</td>\n",
       "      <td>Memphis Grizzlies</td>\n",
       "      <td>101</td>\n",
       "      <td>16013</td>\n",
       "    </tr>\n",
       "    <tr>\n",
       "      <th>36</th>\n",
       "      <td>2015-10-31</td>\n",
       "      <td>Phoenix Suns</td>\n",
       "      <td>101</td>\n",
       "      <td>Portland Trail Blazers</td>\n",
       "      <td>90</td>\n",
       "      <td>17906</td>\n",
       "    </tr>\n",
       "    <tr>\n",
       "      <th>37</th>\n",
       "      <td>2015-10-31</td>\n",
       "      <td>Sacramento Kings</td>\n",
       "      <td>109</td>\n",
       "      <td>Los Angeles Clippers</td>\n",
       "      <td>114</td>\n",
       "      <td>19060</td>\n",
       "    </tr>\n",
       "  </tbody>\n",
       "</table>\n",
       "</div>"
      ],
      "text/plain": [
       "         date              away_team  away_points               home_team  \\\n",
       "32 2015-10-31              Utah Jazz           97          Indiana Pacers   \n",
       "33 2015-10-31        New York Knicks          117      Washington Wizards   \n",
       "34 2015-10-31  Golden State Warriors          134    New Orleans Pelicans   \n",
       "35 2015-10-31          Brooklyn Nets           91       Memphis Grizzlies   \n",
       "36 2015-10-31           Phoenix Suns          101  Portland Trail Blazers   \n",
       "37 2015-10-31       Sacramento Kings          109    Los Angeles Clippers   \n",
       "\n",
       "    home_points  Attend.  \n",
       "32           76    14412  \n",
       "33          110    20356  \n",
       "34          120    18406  \n",
       "35          101    16013  \n",
       "36           90    17906  \n",
       "37          114    19060  "
      ]
     },
     "execution_count": 230,
     "metadata": {},
     "output_type": "execute_result"
    }
   ],
   "source": [
    "games.groupby('date').get_group('2015-10-31')"
   ]
  },
  {
   "cell_type": "code",
   "execution_count": 237,
   "metadata": {},
   "outputs": [
    {
     "data": {
      "text/html": [
       "<div>\n",
       "<style scoped>\n",
       "    .dataframe tbody tr th:only-of-type {\n",
       "        vertical-align: middle;\n",
       "    }\n",
       "\n",
       "    .dataframe tbody tr th {\n",
       "        vertical-align: top;\n",
       "    }\n",
       "\n",
       "    .dataframe thead th {\n",
       "        text-align: right;\n",
       "    }\n",
       "</style>\n",
       "<table border=\"1\" class=\"dataframe\">\n",
       "  <thead>\n",
       "    <tr style=\"text-align: right;\">\n",
       "      <th></th>\n",
       "      <th>away_points</th>\n",
       "      <th>home_points</th>\n",
       "      <th>Attend.</th>\n",
       "    </tr>\n",
       "    <tr>\n",
       "      <th>date</th>\n",
       "      <th></th>\n",
       "      <th></th>\n",
       "      <th></th>\n",
       "    </tr>\n",
       "  </thead>\n",
       "  <tbody>\n",
       "    <tr>\n",
       "      <th>2015-10-27</th>\n",
       "      <td>98.666667</td>\n",
       "      <td>100.666667</td>\n",
       "      <td>20246.666667</td>\n",
       "    </tr>\n",
       "    <tr>\n",
       "      <th>2015-10-28</th>\n",
       "      <td>103.214286</td>\n",
       "      <td>99.500000</td>\n",
       "      <td>18595.857143</td>\n",
       "    </tr>\n",
       "    <tr>\n",
       "      <th>2015-10-29</th>\n",
       "      <td>104.000000</td>\n",
       "      <td>102.666667</td>\n",
       "      <td>19065.000000</td>\n",
       "    </tr>\n",
       "    <tr>\n",
       "      <th>2015-10-30</th>\n",
       "      <td>103.083333</td>\n",
       "      <td>102.833333</td>\n",
       "      <td>17500.916667</td>\n",
       "    </tr>\n",
       "    <tr>\n",
       "      <th>2015-10-31</th>\n",
       "      <td>108.166667</td>\n",
       "      <td>101.833333</td>\n",
       "      <td>17692.166667</td>\n",
       "    </tr>\n",
       "  </tbody>\n",
       "</table>\n",
       "</div>"
      ],
      "text/plain": [
       "            away_points  home_points       Attend.\n",
       "date                                              \n",
       "2015-10-27    98.666667   100.666667  20246.666667\n",
       "2015-10-28   103.214286    99.500000  18595.857143\n",
       "2015-10-29   104.000000   102.666667  19065.000000\n",
       "2015-10-30   103.083333   102.833333  17500.916667\n",
       "2015-10-31   108.166667   101.833333  17692.166667"
      ]
     },
     "execution_count": 237,
     "metadata": {},
     "output_type": "execute_result"
    }
   ],
   "source": [
    "games.groupby('date').mean()"
   ]
  },
  {
   "cell_type": "code",
   "execution_count": 234,
   "metadata": {},
   "outputs": [
    {
     "data": {
      "text/html": [
       "<div>\n",
       "<style scoped>\n",
       "    .dataframe tbody tr th:only-of-type {\n",
       "        vertical-align: middle;\n",
       "    }\n",
       "\n",
       "    .dataframe tbody tr th {\n",
       "        vertical-align: top;\n",
       "    }\n",
       "\n",
       "    .dataframe thead th {\n",
       "        text-align: right;\n",
       "    }\n",
       "</style>\n",
       "<table border=\"1\" class=\"dataframe\">\n",
       "  <thead>\n",
       "    <tr style=\"text-align: right;\">\n",
       "      <th></th>\n",
       "      <th>home_points</th>\n",
       "      <th>home_team</th>\n",
       "    </tr>\n",
       "    <tr>\n",
       "      <th>date</th>\n",
       "      <th></th>\n",
       "      <th></th>\n",
       "    </tr>\n",
       "  </thead>\n",
       "  <tbody>\n",
       "    <tr>\n",
       "      <th>2015-10-27</th>\n",
       "      <td>100.666667</td>\n",
       "      <td>3</td>\n",
       "    </tr>\n",
       "    <tr>\n",
       "      <th>2015-10-28</th>\n",
       "      <td>99.500000</td>\n",
       "      <td>14</td>\n",
       "    </tr>\n",
       "    <tr>\n",
       "      <th>2015-10-29</th>\n",
       "      <td>102.666667</td>\n",
       "      <td>3</td>\n",
       "    </tr>\n",
       "    <tr>\n",
       "      <th>2015-10-30</th>\n",
       "      <td>102.833333</td>\n",
       "      <td>12</td>\n",
       "    </tr>\n",
       "    <tr>\n",
       "      <th>2015-10-31</th>\n",
       "      <td>101.833333</td>\n",
       "      <td>6</td>\n",
       "    </tr>\n",
       "  </tbody>\n",
       "</table>\n",
       "</div>"
      ],
      "text/plain": [
       "            home_points  home_team\n",
       "date                              \n",
       "2015-10-27   100.666667          3\n",
       "2015-10-28    99.500000         14\n",
       "2015-10-29   102.666667          3\n",
       "2015-10-30   102.833333         12\n",
       "2015-10-31   101.833333          6"
      ]
     },
     "execution_count": 234,
     "metadata": {},
     "output_type": "execute_result"
    }
   ],
   "source": [
    "games.groupby('date').agg({'home_points': 'mean',\n",
    "                           'home_team': 'nunique'})"
   ]
  },
  {
   "cell_type": "code",
   "execution_count": 238,
   "metadata": {},
   "outputs": [
    {
     "data": {
      "text/html": [
       "<div>\n",
       "<style scoped>\n",
       "    .dataframe tbody tr th:only-of-type {\n",
       "        vertical-align: middle;\n",
       "    }\n",
       "\n",
       "    .dataframe tbody tr th {\n",
       "        vertical-align: top;\n",
       "    }\n",
       "\n",
       "    .dataframe thead th {\n",
       "        text-align: right;\n",
       "    }\n",
       "</style>\n",
       "<table border=\"1\" class=\"dataframe\">\n",
       "  <thead>\n",
       "    <tr style=\"text-align: right;\">\n",
       "      <th></th>\n",
       "      <th>date</th>\n",
       "      <th>home_points</th>\n",
       "      <th>away_points</th>\n",
       "      <th>home_team</th>\n",
       "      <th>away_team</th>\n",
       "    </tr>\n",
       "  </thead>\n",
       "  <tbody>\n",
       "    <tr>\n",
       "      <th>0</th>\n",
       "      <td>2015-10-27</td>\n",
       "      <td>100.666667</td>\n",
       "      <td>98.666667</td>\n",
       "      <td>3</td>\n",
       "      <td>3</td>\n",
       "    </tr>\n",
       "    <tr>\n",
       "      <th>1</th>\n",
       "      <td>2015-10-28</td>\n",
       "      <td>99.500000</td>\n",
       "      <td>103.214286</td>\n",
       "      <td>14</td>\n",
       "      <td>14</td>\n",
       "    </tr>\n",
       "    <tr>\n",
       "      <th>2</th>\n",
       "      <td>2015-10-29</td>\n",
       "      <td>102.666667</td>\n",
       "      <td>104.000000</td>\n",
       "      <td>3</td>\n",
       "      <td>3</td>\n",
       "    </tr>\n",
       "    <tr>\n",
       "      <th>3</th>\n",
       "      <td>2015-10-30</td>\n",
       "      <td>102.833333</td>\n",
       "      <td>103.083333</td>\n",
       "      <td>12</td>\n",
       "      <td>12</td>\n",
       "    </tr>\n",
       "    <tr>\n",
       "      <th>4</th>\n",
       "      <td>2015-10-31</td>\n",
       "      <td>101.833333</td>\n",
       "      <td>108.166667</td>\n",
       "      <td>6</td>\n",
       "      <td>6</td>\n",
       "    </tr>\n",
       "  </tbody>\n",
       "</table>\n",
       "</div>"
      ],
      "text/plain": [
       "        date  home_points  away_points  home_team  away_team\n",
       "0 2015-10-27   100.666667    98.666667          3          3\n",
       "1 2015-10-28    99.500000   103.214286         14         14\n",
       "2 2015-10-29   102.666667   104.000000          3          3\n",
       "3 2015-10-30   102.833333   103.083333         12         12\n",
       "4 2015-10-31   101.833333   108.166667          6          6"
      ]
     },
     "execution_count": 238,
     "metadata": {},
     "output_type": "execute_result"
    }
   ],
   "source": [
    "games.groupby('date', as_index=False).agg({'home_points': lambda x: x.mean(),\n",
    "                                           'away_points': 'mean',\n",
    "                                           'home_team': 'nunique',\n",
    "                                           'away_team': 'nunique'})"
   ]
  },
  {
   "cell_type": "markdown",
   "metadata": {},
   "source": [
    "Важно отметить, что метод `pd.groupby` возвращает не `pd.DataFrame`, а объект типа `pd.core.groupby.generic.DataFrameGroupBy`. Который имеет сильно ограниченный набор методов, но их можно использовать в своих целях, чтобы периодически не писать свои велосипеды =)"
   ]
  },
  {
   "cell_type": "code",
   "execution_count": 68,
   "metadata": {
    "scrolled": true
   },
   "outputs": [
    {
     "name": "stdout",
     "output_type": "stream",
     "text": [
      "2015-10-27 00:00:00\n"
     ]
    },
    {
     "data": {
      "text/html": [
       "<div>\n",
       "<style scoped>\n",
       "    .dataframe tbody tr th:only-of-type {\n",
       "        vertical-align: middle;\n",
       "    }\n",
       "\n",
       "    .dataframe tbody tr th {\n",
       "        vertical-align: top;\n",
       "    }\n",
       "\n",
       "    .dataframe thead th {\n",
       "        text-align: right;\n",
       "    }\n",
       "</style>\n",
       "<table border=\"1\" class=\"dataframe\">\n",
       "  <thead>\n",
       "    <tr style=\"text-align: right;\">\n",
       "      <th></th>\n",
       "      <th>date</th>\n",
       "      <th>away_team</th>\n",
       "      <th>away_points</th>\n",
       "      <th>home_team</th>\n",
       "      <th>home_points</th>\n",
       "      <th>Attend.</th>\n",
       "    </tr>\n",
       "  </thead>\n",
       "  <tbody>\n",
       "    <tr>\n",
       "      <th>0</th>\n",
       "      <td>2015-10-27</td>\n",
       "      <td>Cleveland Cavaliers</td>\n",
       "      <td>95</td>\n",
       "      <td>Chicago Bulls</td>\n",
       "      <td>97</td>\n",
       "      <td>21957</td>\n",
       "    </tr>\n",
       "    <tr>\n",
       "      <th>1</th>\n",
       "      <td>2015-10-27</td>\n",
       "      <td>Detroit Pistons</td>\n",
       "      <td>106</td>\n",
       "      <td>Atlanta Hawks</td>\n",
       "      <td>94</td>\n",
       "      <td>19187</td>\n",
       "    </tr>\n",
       "    <tr>\n",
       "      <th>2</th>\n",
       "      <td>2015-10-27</td>\n",
       "      <td>New Orleans Pelicans</td>\n",
       "      <td>95</td>\n",
       "      <td>Golden State Warriors</td>\n",
       "      <td>111</td>\n",
       "      <td>19596</td>\n",
       "    </tr>\n",
       "  </tbody>\n",
       "</table>\n",
       "</div>"
      ],
      "text/plain": [
       "        date             away_team  away_points              home_team  \\\n",
       "0 2015-10-27   Cleveland Cavaliers           95          Chicago Bulls   \n",
       "1 2015-10-27       Detroit Pistons          106          Atlanta Hawks   \n",
       "2 2015-10-27  New Orleans Pelicans           95  Golden State Warriors   \n",
       "\n",
       "   home_points  Attend.  \n",
       "0           97    21957  \n",
       "1           94    19187  \n",
       "2          111    19596  "
      ]
     },
     "metadata": {},
     "output_type": "display_data"
    }
   ],
   "source": [
    "grouped_games = games.groupby('date')\n",
    "for dt, sub_df in grouped_games:\n",
    "    print(dt)\n",
    "    display(sub_df.head())\n",
    "    break"
   ]
  },
  {
   "cell_type": "code",
   "execution_count": 70,
   "metadata": {},
   "outputs": [
    {
     "data": {
      "text/html": [
       "<div>\n",
       "<style scoped>\n",
       "    .dataframe tbody tr th:only-of-type {\n",
       "        vertical-align: middle;\n",
       "    }\n",
       "\n",
       "    .dataframe tbody tr th {\n",
       "        vertical-align: top;\n",
       "    }\n",
       "\n",
       "    .dataframe thead th {\n",
       "        text-align: right;\n",
       "    }\n",
       "</style>\n",
       "<table border=\"1\" class=\"dataframe\">\n",
       "  <thead>\n",
       "    <tr style=\"text-align: right;\">\n",
       "      <th></th>\n",
       "      <th>date</th>\n",
       "      <th>away_team</th>\n",
       "      <th>away_points</th>\n",
       "      <th>home_team</th>\n",
       "      <th>home_points</th>\n",
       "      <th>Attend.</th>\n",
       "    </tr>\n",
       "  </thead>\n",
       "  <tbody>\n",
       "    <tr>\n",
       "      <th>17</th>\n",
       "      <td>2015-10-29</td>\n",
       "      <td>Memphis Grizzlies</td>\n",
       "      <td>112</td>\n",
       "      <td>Indiana Pacers</td>\n",
       "      <td>103</td>\n",
       "      <td>18165</td>\n",
       "    </tr>\n",
       "    <tr>\n",
       "      <th>18</th>\n",
       "      <td>2015-10-29</td>\n",
       "      <td>Atlanta Hawks</td>\n",
       "      <td>112</td>\n",
       "      <td>New York Knicks</td>\n",
       "      <td>101</td>\n",
       "      <td>19812</td>\n",
       "    </tr>\n",
       "    <tr>\n",
       "      <th>19</th>\n",
       "      <td>2015-10-29</td>\n",
       "      <td>Dallas Mavericks</td>\n",
       "      <td>88</td>\n",
       "      <td>Los Angeles Clippers</td>\n",
       "      <td>104</td>\n",
       "      <td>19218</td>\n",
       "    </tr>\n",
       "  </tbody>\n",
       "</table>\n",
       "</div>"
      ],
      "text/plain": [
       "         date          away_team  away_points             home_team  \\\n",
       "17 2015-10-29  Memphis Grizzlies          112        Indiana Pacers   \n",
       "18 2015-10-29      Atlanta Hawks          112       New York Knicks   \n",
       "19 2015-10-29   Dallas Mavericks           88  Los Angeles Clippers   \n",
       "\n",
       "    home_points  Attend.  \n",
       "17          103    18165  \n",
       "18          101    19812  \n",
       "19          104    19218  "
      ]
     },
     "execution_count": 70,
     "metadata": {},
     "output_type": "execute_result"
    }
   ],
   "source": [
    "d1 = grouped_games.get_group('2015-10-29')\n",
    "d1"
   ]
  },
  {
   "cell_type": "markdown",
   "metadata": {},
   "source": [
    "Есть метод `pd.value_counts`, который рассчитывает число элементов для каждого уникального значения из переданной колонки (или набора колонок). То есть это более функциональный и простой по аргументом аналог `df.groupby(col).size()`"
   ]
  },
  {
   "cell_type": "code",
   "execution_count": 239,
   "metadata": {},
   "outputs": [
    {
     "data": {
      "text/plain": [
       "2015-10-28    14\n",
       "2015-10-30    12\n",
       "2015-10-31     6\n",
       "2015-10-27     3\n",
       "2015-10-29     3\n",
       "Name: date, dtype: int64"
      ]
     },
     "execution_count": 239,
     "metadata": {},
     "output_type": "execute_result"
    }
   ],
   "source": [
    "games['date'].value_counts(sort=True)"
   ]
  },
  {
   "cell_type": "code",
   "execution_count": 72,
   "metadata": {},
   "outputs": [
    {
     "data": {
      "text/plain": [
       "date\n",
       "2015-10-27     3\n",
       "2015-10-28    14\n",
       "2015-10-29     3\n",
       "2015-10-30    12\n",
       "2015-10-31     6\n",
       "dtype: int64"
      ]
     },
     "execution_count": 72,
     "metadata": {},
     "output_type": "execute_result"
    }
   ],
   "source": [
    "games.groupby('date').size()"
   ]
  },
  {
   "cell_type": "markdown",
   "metadata": {},
   "source": [
    "Хочется обратить внимание на еще несколько важных моментов. `pd.Series` и `pd.DataFrame` имеют много полезных методов для работы с данными. Быстрее и удобнее использовать их, чем пользоваться самописными аналогами и `pd.apply`.\\\n",
    "Это связано как с корректным написанием этих методов, так и очень медленным по производительности `pd.apply`. Так что если вы не пишите что-то совершенно уникальное, то лучше попробовать использовать встроенный функционал `pd.DataFrame`, чем достаточно быстро использовать `pd.apply`.\\\n",
    "Также много стандартных операторов переопределено для `pd.Series` и их можно сразу использовать и без `pd.apply`."
   ]
  },
  {
   "cell_type": "code",
   "execution_count": 73,
   "metadata": {},
   "outputs": [
    {
     "data": {
      "text/html": [
       "<div>\n",
       "<style scoped>\n",
       "    .dataframe tbody tr th:only-of-type {\n",
       "        vertical-align: middle;\n",
       "    }\n",
       "\n",
       "    .dataframe tbody tr th {\n",
       "        vertical-align: top;\n",
       "    }\n",
       "\n",
       "    .dataframe thead th {\n",
       "        text-align: right;\n",
       "    }\n",
       "</style>\n",
       "<table border=\"1\" class=\"dataframe\">\n",
       "  <thead>\n",
       "    <tr style=\"text-align: right;\">\n",
       "      <th></th>\n",
       "      <th>home_points</th>\n",
       "      <th>away_points</th>\n",
       "      <th>Attend.</th>\n",
       "    </tr>\n",
       "  </thead>\n",
       "  <tbody>\n",
       "    <tr>\n",
       "      <th>home_points</th>\n",
       "      <td>1.000000</td>\n",
       "      <td>0.416534</td>\n",
       "      <td>0.191471</td>\n",
       "    </tr>\n",
       "    <tr>\n",
       "      <th>away_points</th>\n",
       "      <td>0.416534</td>\n",
       "      <td>1.000000</td>\n",
       "      <td>-0.065669</td>\n",
       "    </tr>\n",
       "    <tr>\n",
       "      <th>Attend.</th>\n",
       "      <td>0.191471</td>\n",
       "      <td>-0.065669</td>\n",
       "      <td>1.000000</td>\n",
       "    </tr>\n",
       "  </tbody>\n",
       "</table>\n",
       "</div>"
      ],
      "text/plain": [
       "             home_points  away_points   Attend.\n",
       "home_points     1.000000     0.416534  0.191471\n",
       "away_points     0.416534     1.000000 -0.065669\n",
       "Attend.         0.191471    -0.065669  1.000000"
      ]
     },
     "execution_count": 73,
     "metadata": {},
     "output_type": "execute_result"
    }
   ],
   "source": [
    "games[['home_points', 'away_points', 'Attend.']].corr()"
   ]
  },
  {
   "cell_type": "code",
   "execution_count": 74,
   "metadata": {},
   "outputs": [
    {
     "data": {
      "text/html": [
       "<div>\n",
       "<style scoped>\n",
       "    .dataframe tbody tr th:only-of-type {\n",
       "        vertical-align: middle;\n",
       "    }\n",
       "\n",
       "    .dataframe tbody tr th {\n",
       "        vertical-align: top;\n",
       "    }\n",
       "\n",
       "    .dataframe thead th {\n",
       "        text-align: right;\n",
       "    }\n",
       "</style>\n",
       "<table border=\"1\" class=\"dataframe\">\n",
       "  <thead>\n",
       "    <tr style=\"text-align: right;\">\n",
       "      <th></th>\n",
       "      <th>home_points</th>\n",
       "      <th>away_points</th>\n",
       "      <th>Attend.</th>\n",
       "    </tr>\n",
       "  </thead>\n",
       "  <tbody>\n",
       "    <tr>\n",
       "      <th>home_points</th>\n",
       "      <td>194.631579</td>\n",
       "      <td>76.633001</td>\n",
       "      <td>4.132740e+03</td>\n",
       "    </tr>\n",
       "    <tr>\n",
       "      <th>away_points</th>\n",
       "      <td>76.633001</td>\n",
       "      <td>173.906828</td>\n",
       "      <td>-1.339813e+03</td>\n",
       "    </tr>\n",
       "    <tr>\n",
       "      <th>Attend.</th>\n",
       "      <td>4132.739687</td>\n",
       "      <td>-1339.812945</td>\n",
       "      <td>2.393627e+06</td>\n",
       "    </tr>\n",
       "  </tbody>\n",
       "</table>\n",
       "</div>"
      ],
      "text/plain": [
       "             home_points  away_points       Attend.\n",
       "home_points   194.631579    76.633001  4.132740e+03\n",
       "away_points    76.633001   173.906828 -1.339813e+03\n",
       "Attend.      4132.739687 -1339.812945  2.393627e+06"
      ]
     },
     "execution_count": 74,
     "metadata": {},
     "output_type": "execute_result"
    }
   ],
   "source": [
    "games[['home_points', 'away_points', 'Attend.']].cov()"
   ]
  },
  {
   "cell_type": "markdown",
   "metadata": {},
   "source": [
    "Ну и на последок, для любителей Excel, в `pandas` реализованы методы `pd.crosstab` и `pd.pivot_table` для построения соответсвенно перекрестных и сводных таблиц."
   ]
  },
  {
   "cell_type": "code",
   "execution_count": 75,
   "metadata": {},
   "outputs": [
    {
     "data": {
      "text/html": [
       "<div>\n",
       "<style scoped>\n",
       "    .dataframe tbody tr th:only-of-type {\n",
       "        vertical-align: middle;\n",
       "    }\n",
       "\n",
       "    .dataframe tbody tr th {\n",
       "        vertical-align: top;\n",
       "    }\n",
       "\n",
       "    .dataframe thead th {\n",
       "        text-align: right;\n",
       "    }\n",
       "</style>\n",
       "<table border=\"1\" class=\"dataframe\">\n",
       "  <thead>\n",
       "    <tr style=\"text-align: right;\">\n",
       "      <th>away_remainder</th>\n",
       "      <th>0</th>\n",
       "      <th>1</th>\n",
       "      <th>2</th>\n",
       "      <th>3</th>\n",
       "      <th>4</th>\n",
       "    </tr>\n",
       "    <tr>\n",
       "      <th>date</th>\n",
       "      <th></th>\n",
       "      <th></th>\n",
       "      <th></th>\n",
       "      <th></th>\n",
       "      <th></th>\n",
       "    </tr>\n",
       "  </thead>\n",
       "  <tbody>\n",
       "    <tr>\n",
       "      <th>2015-10-27</th>\n",
       "      <td>2</td>\n",
       "      <td>1</td>\n",
       "      <td>0</td>\n",
       "      <td>0</td>\n",
       "      <td>0</td>\n",
       "    </tr>\n",
       "    <tr>\n",
       "      <th>2015-10-28</th>\n",
       "      <td>3</td>\n",
       "      <td>4</td>\n",
       "      <td>3</td>\n",
       "      <td>1</td>\n",
       "      <td>3</td>\n",
       "    </tr>\n",
       "    <tr>\n",
       "      <th>2015-10-29</th>\n",
       "      <td>0</td>\n",
       "      <td>0</td>\n",
       "      <td>2</td>\n",
       "      <td>1</td>\n",
       "      <td>0</td>\n",
       "    </tr>\n",
       "    <tr>\n",
       "      <th>2015-10-30</th>\n",
       "      <td>2</td>\n",
       "      <td>0</td>\n",
       "      <td>3</td>\n",
       "      <td>2</td>\n",
       "      <td>5</td>\n",
       "    </tr>\n",
       "    <tr>\n",
       "      <th>2015-10-31</th>\n",
       "      <td>0</td>\n",
       "      <td>2</td>\n",
       "      <td>2</td>\n",
       "      <td>0</td>\n",
       "      <td>2</td>\n",
       "    </tr>\n",
       "  </tbody>\n",
       "</table>\n",
       "</div>"
      ],
      "text/plain": [
       "away_remainder  0  1  2  3  4\n",
       "date                         \n",
       "2015-10-27      2  1  0  0  0\n",
       "2015-10-28      3  4  3  1  3\n",
       "2015-10-29      0  0  2  1  0\n",
       "2015-10-30      2  0  3  2  5\n",
       "2015-10-31      0  2  2  0  2"
      ]
     },
     "execution_count": 75,
     "metadata": {},
     "output_type": "execute_result"
    }
   ],
   "source": [
    "games['away_remainder'] = games['away_points'] % 5\n",
    "games['home_remainder'] = games['home_points'] % 5\n",
    "pd.crosstab(games['date'], games['away_remainder'])"
   ]
  },
  {
   "cell_type": "code",
   "execution_count": 76,
   "metadata": {},
   "outputs": [
    {
     "data": {
      "text/html": [
       "<div>\n",
       "<style scoped>\n",
       "    .dataframe tbody tr th:only-of-type {\n",
       "        vertical-align: middle;\n",
       "    }\n",
       "\n",
       "    .dataframe tbody tr th {\n",
       "        vertical-align: top;\n",
       "    }\n",
       "\n",
       "    .dataframe thead th {\n",
       "        text-align: right;\n",
       "    }\n",
       "</style>\n",
       "<table border=\"1\" class=\"dataframe\">\n",
       "  <thead>\n",
       "    <tr style=\"text-align: right;\">\n",
       "      <th></th>\n",
       "      <th></th>\n",
       "      <th>Attend.</th>\n",
       "    </tr>\n",
       "    <tr>\n",
       "      <th>away_remainder</th>\n",
       "      <th>home_remainder</th>\n",
       "      <th></th>\n",
       "    </tr>\n",
       "  </thead>\n",
       "  <tbody>\n",
       "    <tr>\n",
       "      <th rowspan=\"4\" valign=\"top\">0</th>\n",
       "      <th>0</th>\n",
       "      <td>17986.000000</td>\n",
       "    </tr>\n",
       "    <tr>\n",
       "      <th>1</th>\n",
       "      <td>19596.000000</td>\n",
       "    </tr>\n",
       "    <tr>\n",
       "      <th>2</th>\n",
       "      <td>19666.333333</td>\n",
       "    </tr>\n",
       "    <tr>\n",
       "      <th>3</th>\n",
       "      <td>17660.000000</td>\n",
       "    </tr>\n",
       "    <tr>\n",
       "      <th rowspan=\"4\" valign=\"top\">1</th>\n",
       "      <th>0</th>\n",
       "      <td>17980.500000</td>\n",
       "    </tr>\n",
       "    <tr>\n",
       "      <th>1</th>\n",
       "      <td>17066.000000</td>\n",
       "    </tr>\n",
       "    <tr>\n",
       "      <th>2</th>\n",
       "      <td>18203.000000</td>\n",
       "    </tr>\n",
       "    <tr>\n",
       "      <th>4</th>\n",
       "      <td>18322.500000</td>\n",
       "    </tr>\n",
       "    <tr>\n",
       "      <th rowspan=\"4\" valign=\"top\">2</th>\n",
       "      <th>0</th>\n",
       "      <td>19205.500000</td>\n",
       "    </tr>\n",
       "    <tr>\n",
       "      <th>1</th>\n",
       "      <td>17740.333333</td>\n",
       "    </tr>\n",
       "    <tr>\n",
       "      <th>2</th>\n",
       "      <td>18963.750000</td>\n",
       "    </tr>\n",
       "    <tr>\n",
       "      <th>3</th>\n",
       "      <td>18165.000000</td>\n",
       "    </tr>\n",
       "    <tr>\n",
       "      <th rowspan=\"3\" valign=\"top\">3</th>\n",
       "      <th>2</th>\n",
       "      <td>18846.000000</td>\n",
       "    </tr>\n",
       "    <tr>\n",
       "      <th>3</th>\n",
       "      <td>15378.000000</td>\n",
       "    </tr>\n",
       "    <tr>\n",
       "      <th>4</th>\n",
       "      <td>19218.000000</td>\n",
       "    </tr>\n",
       "    <tr>\n",
       "      <th rowspan=\"5\" valign=\"top\">4</th>\n",
       "      <th>0</th>\n",
       "      <td>18406.000000</td>\n",
       "    </tr>\n",
       "    <tr>\n",
       "      <th>1</th>\n",
       "      <td>18589.333333</td>\n",
       "    </tr>\n",
       "    <tr>\n",
       "      <th>2</th>\n",
       "      <td>17936.000000</td>\n",
       "    </tr>\n",
       "    <tr>\n",
       "      <th>3</th>\n",
       "      <td>16035.000000</td>\n",
       "    </tr>\n",
       "    <tr>\n",
       "      <th>4</th>\n",
       "      <td>19392.000000</td>\n",
       "    </tr>\n",
       "  </tbody>\n",
       "</table>\n",
       "</div>"
      ],
      "text/plain": [
       "                                    Attend.\n",
       "away_remainder home_remainder              \n",
       "0              0               17986.000000\n",
       "               1               19596.000000\n",
       "               2               19666.333333\n",
       "               3               17660.000000\n",
       "1              0               17980.500000\n",
       "               1               17066.000000\n",
       "               2               18203.000000\n",
       "               4               18322.500000\n",
       "2              0               19205.500000\n",
       "               1               17740.333333\n",
       "               2               18963.750000\n",
       "               3               18165.000000\n",
       "3              2               18846.000000\n",
       "               3               15378.000000\n",
       "               4               19218.000000\n",
       "4              0               18406.000000\n",
       "               1               18589.333333\n",
       "               2               17936.000000\n",
       "               3               16035.000000\n",
       "               4               19392.000000"
      ]
     },
     "execution_count": 76,
     "metadata": {},
     "output_type": "execute_result"
    }
   ],
   "source": [
    "games.pivot_table(values='Attend.', index=['away_remainder', 'home_remainder'])"
   ]
  },
  {
   "cell_type": "markdown",
   "metadata": {},
   "source": [
    "## Классное задание"
   ]
  },
  {
   "cell_type": "markdown",
   "metadata": {},
   "source": [
    "Ссылка форму: https://vk.cc/c20UB1\n",
    "\n",
    "**QR код для формы:**"
   ]
  },
  {
   "cell_type": "markdown",
   "metadata": {},
   "source": [
    "<img src=\"qr_c20UB1.png\" width=\"300\"/>"
   ]
  },
  {
   "cell_type": "code",
   "execution_count": null,
   "metadata": {},
   "outputs": [],
   "source": []
  }
 ],
 "metadata": {
  "anaconda-cloud": {},
  "kernelspec": {
   "display_name": "Python 3",
   "language": "python",
   "name": "python3"
  },
  "language_info": {
   "codemirror_mode": {
    "name": "ipython",
    "version": 3
   },
   "file_extension": ".py",
   "mimetype": "text/x-python",
   "name": "python",
   "nbconvert_exporter": "python",
   "pygments_lexer": "ipython3",
   "version": "3.7.6"
  },
  "name": "seminar02_part2_pandas.ipynb"
 },
 "nbformat": 4,
 "nbformat_minor": 1
}
