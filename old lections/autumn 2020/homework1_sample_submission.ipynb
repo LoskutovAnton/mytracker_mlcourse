{
 "cells": [
  {
   "cell_type": "markdown",
   "metadata": {},
   "source": [
    "# Домашнее задание №1"
   ]
  },
  {
   "cell_type": "markdown",
   "metadata": {},
   "source": [
    "В этом домашнем задании вы познакомитесь с платформой Kaggle, а также поучаствуете в небольшом сореврновании, которое поможет закрепить вам знания, полученные на наших лекциях.\n",
    "\n",
    "Соревнование можно найти по ссылке: https://www.kaggle.com/c/mytracker-mlhomework1-fall20 \\\n",
    "Для того, чтобы присоединиться к этому соревнованию, перейдите по ссылке: https://www.kaggle.com/t/ebaddc30cce54e329c64f7504b274c2c \\\n",
    "Скачать данные можно во вкладке `Data`, в которой находится 3 файла:\n",
    " - `train.csv` - обучающая выборка\n",
    " - `test.csv` - тестовая выборка\n",
    " - `sampleSubmission.csv` - пример сабмита, который вы должны будете загрузить на Kaggle, чтобы предоставить свое решение (аналогичный файл мы с вами сгенерируем в этом ноутбуке)\n",
    " \n",
    "Описание данных вы можете прочитать также на Kaggle."
   ]
  },
  {
   "cell_type": "markdown",
   "metadata": {},
   "source": [
    "Несколько основных моментов данного домашнего задания:\n",
    " 1. Метрикой является RMSE (Root Mean Square Error, https://en.wikipedia.org/wiki/Root-mean-square_deviation).\n",
    " 2. Тестовая выборка из файла `test.csv` разделена на 2 части: \n",
    "  - __Public Leaderboard__ - во время участия вы можете ориентироваться на этот лидерборд, чтобы оценивать ваше решение, а также видеть несколько наших бенчмарков и решения других участников.\\\n",
    "  **Важный момент**. Оценка на Public Leaderboard строится не на всех примерах из `test.csv`, а только на 60% (каких именно узнать нельзя).\n",
    "  - __Private Leaderboard__ - откроется только после окончания соревнования. Именно по нему мы будем распределять баллы и он состоит из оставшихся 40% примеров из `test.csv`.\n",
    " 3. Мы надеемся на то, что вы будете не только использовать модели машинного обучения, которые мы будем проходить по ходу лекций, но и попробуете сами изучить данные и сделать прогнозы \"руками\". Соревнование будет длиться достаточно долго (до 23.11), тем самым будет неплохо, если вы сможете изучить выданные датасеты, чтобы сделать более качественный прогноз.\n",
    " 4. В день можно отправить до 5 посылок с решением, так что не оставляйте все на последний день.\n",
    " 5. В конце соревнования ТОП10 участников мы попросим прислать рабочий ноутбук с их решением, чтобы убедиться, что никто не пытался сжульничать, так что держите свое решение \"в чистоте\", чтобы по окончанию соревнования его можно было показать нам.\n",
    " 6. В соревновании нет ограничений на модели или подходы, которые вы будете использовать, если они не выходят за рамки данных, предоставленных в данном соревновании."
   ]
  },
  {
   "cell_type": "code",
   "execution_count": 1,
   "metadata": {},
   "outputs": [],
   "source": [
    "import pandas as pd\n",
    "from sklearn.metrics import mean_squared_error"
   ]
  },
  {
   "cell_type": "code",
   "execution_count": 2,
   "metadata": {},
   "outputs": [],
   "source": [
    "train = pd.read_csv(\"homework1/train.csv\")\n",
    "test = pd.read_csv(\"homework1/test.csv\")\n",
    "submission_filename = 'homework1/sampleSubmission.csv'"
   ]
  },
  {
   "cell_type": "code",
   "execution_count": 3,
   "metadata": {},
   "outputs": [
    {
     "data": {
      "text/html": [
       "<div>\n",
       "<style scoped>\n",
       "    .dataframe tbody tr th:only-of-type {\n",
       "        vertical-align: middle;\n",
       "    }\n",
       "\n",
       "    .dataframe tbody tr th {\n",
       "        vertical-align: top;\n",
       "    }\n",
       "\n",
       "    .dataframe thead th {\n",
       "        text-align: right;\n",
       "    }\n",
       "</style>\n",
       "<table border=\"1\" class=\"dataframe\">\n",
       "  <thead>\n",
       "    <tr style=\"text-align: right;\">\n",
       "      <th></th>\n",
       "      <th>Store</th>\n",
       "      <th>DayOfWeek</th>\n",
       "      <th>Date</th>\n",
       "      <th>Sales</th>\n",
       "      <th>Customers</th>\n",
       "      <th>Open</th>\n",
       "      <th>Promo</th>\n",
       "      <th>Holiday</th>\n",
       "    </tr>\n",
       "  </thead>\n",
       "  <tbody>\n",
       "    <tr>\n",
       "      <th>0</th>\n",
       "      <td>474</td>\n",
       "      <td>5</td>\n",
       "      <td>2019-04-13</td>\n",
       "      <td>4256</td>\n",
       "      <td>502</td>\n",
       "      <td>1</td>\n",
       "      <td>0</td>\n",
       "      <td>0.0</td>\n",
       "    </tr>\n",
       "    <tr>\n",
       "      <th>1</th>\n",
       "      <td>862</td>\n",
       "      <td>5</td>\n",
       "      <td>2019-04-13</td>\n",
       "      <td>2574</td>\n",
       "      <td>319</td>\n",
       "      <td>1</td>\n",
       "      <td>0</td>\n",
       "      <td>0.0</td>\n",
       "    </tr>\n",
       "    <tr>\n",
       "      <th>2</th>\n",
       "      <td>108</td>\n",
       "      <td>5</td>\n",
       "      <td>2019-04-13</td>\n",
       "      <td>4687</td>\n",
       "      <td>492</td>\n",
       "      <td>1</td>\n",
       "      <td>0</td>\n",
       "      <td>0.0</td>\n",
       "    </tr>\n",
       "    <tr>\n",
       "      <th>3</th>\n",
       "      <td>48</td>\n",
       "      <td>5</td>\n",
       "      <td>2019-04-13</td>\n",
       "      <td>9779</td>\n",
       "      <td>1370</td>\n",
       "      <td>1</td>\n",
       "      <td>0</td>\n",
       "      <td>0.0</td>\n",
       "    </tr>\n",
       "    <tr>\n",
       "      <th>4</th>\n",
       "      <td>539</td>\n",
       "      <td>5</td>\n",
       "      <td>2019-04-13</td>\n",
       "      <td>2156</td>\n",
       "      <td>234</td>\n",
       "      <td>1</td>\n",
       "      <td>0</td>\n",
       "      <td>0.0</td>\n",
       "    </tr>\n",
       "  </tbody>\n",
       "</table>\n",
       "</div>"
      ],
      "text/plain": [
       "   Store  DayOfWeek        Date  Sales  Customers  Open  Promo  Holiday\n",
       "0    474          5  2019-04-13   4256        502     1      0      0.0\n",
       "1    862          5  2019-04-13   2574        319     1      0      0.0\n",
       "2    108          5  2019-04-13   4687        492     1      0      0.0\n",
       "3     48          5  2019-04-13   9779       1370     1      0      0.0\n",
       "4    539          5  2019-04-13   2156        234     1      0      0.0"
      ]
     },
     "execution_count": 3,
     "metadata": {},
     "output_type": "execute_result"
    }
   ],
   "source": [
    "train.head()"
   ]
  },
  {
   "cell_type": "code",
   "execution_count": 4,
   "metadata": {},
   "outputs": [
    {
     "data": {
      "text/html": [
       "<div>\n",
       "<style scoped>\n",
       "    .dataframe tbody tr th:only-of-type {\n",
       "        vertical-align: middle;\n",
       "    }\n",
       "\n",
       "    .dataframe tbody tr th {\n",
       "        vertical-align: top;\n",
       "    }\n",
       "\n",
       "    .dataframe thead th {\n",
       "        text-align: right;\n",
       "    }\n",
       "</style>\n",
       "<table border=\"1\" class=\"dataframe\">\n",
       "  <thead>\n",
       "    <tr style=\"text-align: right;\">\n",
       "      <th></th>\n",
       "      <th>ID</th>\n",
       "      <th>Store</th>\n",
       "      <th>DayOfWeek</th>\n",
       "      <th>Date</th>\n",
       "      <th>Holiday</th>\n",
       "    </tr>\n",
       "  </thead>\n",
       "  <tbody>\n",
       "    <tr>\n",
       "      <th>0</th>\n",
       "      <td>1</td>\n",
       "      <td>12</td>\n",
       "      <td>6</td>\n",
       "      <td>2019-04-14</td>\n",
       "      <td>0</td>\n",
       "    </tr>\n",
       "    <tr>\n",
       "      <th>1</th>\n",
       "      <td>2</td>\n",
       "      <td>12</td>\n",
       "      <td>0</td>\n",
       "      <td>2019-04-15</td>\n",
       "      <td>0</td>\n",
       "    </tr>\n",
       "    <tr>\n",
       "      <th>2</th>\n",
       "      <td>3</td>\n",
       "      <td>12</td>\n",
       "      <td>1</td>\n",
       "      <td>2019-04-16</td>\n",
       "      <td>0</td>\n",
       "    </tr>\n",
       "    <tr>\n",
       "      <th>3</th>\n",
       "      <td>4</td>\n",
       "      <td>12</td>\n",
       "      <td>2</td>\n",
       "      <td>2019-04-17</td>\n",
       "      <td>0</td>\n",
       "    </tr>\n",
       "    <tr>\n",
       "      <th>4</th>\n",
       "      <td>5</td>\n",
       "      <td>12</td>\n",
       "      <td>3</td>\n",
       "      <td>2019-04-18</td>\n",
       "      <td>0</td>\n",
       "    </tr>\n",
       "  </tbody>\n",
       "</table>\n",
       "</div>"
      ],
      "text/plain": [
       "   ID  Store  DayOfWeek        Date  Holiday\n",
       "0   1     12          6  2019-04-14        0\n",
       "1   2     12          0  2019-04-15        0\n",
       "2   3     12          1  2019-04-16        0\n",
       "3   4     12          2  2019-04-17        0\n",
       "4   5     12          3  2019-04-18        0"
      ]
     },
     "execution_count": 4,
     "metadata": {},
     "output_type": "execute_result"
    }
   ],
   "source": [
    "test.head()"
   ]
  },
  {
   "cell_type": "code",
   "execution_count": 5,
   "metadata": {},
   "outputs": [
    {
     "data": {
      "text/html": [
       "<div>\n",
       "<style scoped>\n",
       "    .dataframe tbody tr th:only-of-type {\n",
       "        vertical-align: middle;\n",
       "    }\n",
       "\n",
       "    .dataframe tbody tr th {\n",
       "        vertical-align: top;\n",
       "    }\n",
       "\n",
       "    .dataframe thead th {\n",
       "        text-align: right;\n",
       "    }\n",
       "</style>\n",
       "<table border=\"1\" class=\"dataframe\">\n",
       "  <thead>\n",
       "    <tr style=\"text-align: right;\">\n",
       "      <th></th>\n",
       "      <th>ID</th>\n",
       "      <th>prediction</th>\n",
       "    </tr>\n",
       "  </thead>\n",
       "  <tbody>\n",
       "    <tr>\n",
       "      <th>0</th>\n",
       "      <td>1</td>\n",
       "      <td>1</td>\n",
       "    </tr>\n",
       "    <tr>\n",
       "      <th>1</th>\n",
       "      <td>2</td>\n",
       "      <td>1</td>\n",
       "    </tr>\n",
       "    <tr>\n",
       "      <th>2</th>\n",
       "      <td>3</td>\n",
       "      <td>1</td>\n",
       "    </tr>\n",
       "    <tr>\n",
       "      <th>3</th>\n",
       "      <td>4</td>\n",
       "      <td>1</td>\n",
       "    </tr>\n",
       "    <tr>\n",
       "      <th>4</th>\n",
       "      <td>5</td>\n",
       "      <td>1</td>\n",
       "    </tr>\n",
       "  </tbody>\n",
       "</table>\n",
       "</div>"
      ],
      "text/plain": [
       "   ID  prediction\n",
       "0   1           1\n",
       "1   2           1\n",
       "2   3           1\n",
       "3   4           1\n",
       "4   5           1"
      ]
     },
     "execution_count": 5,
     "metadata": {},
     "output_type": "execute_result"
    }
   ],
   "source": [
    "submission = test['ID'].to_frame()\n",
    "submission['prediction'] = 1\n",
    "submission.head()"
   ]
  },
  {
   "cell_type": "code",
   "execution_count": 6,
   "metadata": {},
   "outputs": [],
   "source": [
    "submission.to_csv('homework1/sampleSubmission.csv', index=None)"
   ]
  },
  {
   "cell_type": "code",
   "execution_count": null,
   "metadata": {},
   "outputs": [],
   "source": []
  }
 ],
 "metadata": {
  "kernelspec": {
   "display_name": "Python 3",
   "language": "python",
   "name": "python3"
  },
  "language_info": {
   "codemirror_mode": {
    "name": "ipython",
    "version": 3
   },
   "file_extension": ".py",
   "mimetype": "text/x-python",
   "name": "python",
   "nbconvert_exporter": "python",
   "pygments_lexer": "ipython3",
   "version": "3.7.6"
  }
 },
 "nbformat": 4,
 "nbformat_minor": 4
}
