{
 "cells": [
  {
   "cell_type": "code",
   "execution_count": 1,
   "metadata": {},
   "outputs": [],
   "source": [
    "from sklearn.decomposition import PCA\n",
    "import numpy as np\n",
    "import matplotlib.pyplot as plt\n",
    "from sklearn import datasets"
   ]
  },
  {
   "cell_type": "markdown",
   "metadata": {},
   "source": [
    "Сгенерируем данные"
   ]
  },
  {
   "cell_type": "code",
   "execution_count": 2,
   "metadata": {},
   "outputs": [],
   "source": [
    "dataset = datasets.load_iris()\n",
    "X = dataset.data\n",
    "y = dataset.target\n",
    "\n",
    "X = X[y==0, :2]"
   ]
  },
  {
   "cell_type": "code",
   "execution_count": 3,
   "metadata": {
    "scrolled": true
   },
   "outputs": [
    {
     "data": {
      "text/plain": [
       "array([[5.1, 3.5],\n",
       "       [4.9, 3. ],\n",
       "       [4.7, 3.2],\n",
       "       [4.6, 3.1],\n",
       "       [5. , 3.6],\n",
       "       [5.4, 3.9],\n",
       "       [4.6, 3.4],\n",
       "       [5. , 3.4],\n",
       "       [4.4, 2.9],\n",
       "       [4.9, 3.1],\n",
       "       [5.4, 3.7],\n",
       "       [4.8, 3.4],\n",
       "       [4.8, 3. ],\n",
       "       [4.3, 3. ],\n",
       "       [5.8, 4. ],\n",
       "       [5.7, 4.4],\n",
       "       [5.4, 3.9],\n",
       "       [5.1, 3.5],\n",
       "       [5.7, 3.8],\n",
       "       [5.1, 3.8],\n",
       "       [5.4, 3.4],\n",
       "       [5.1, 3.7],\n",
       "       [4.6, 3.6],\n",
       "       [5.1, 3.3],\n",
       "       [4.8, 3.4],\n",
       "       [5. , 3. ],\n",
       "       [5. , 3.4],\n",
       "       [5.2, 3.5],\n",
       "       [5.2, 3.4],\n",
       "       [4.7, 3.2],\n",
       "       [4.8, 3.1],\n",
       "       [5.4, 3.4],\n",
       "       [5.2, 4.1],\n",
       "       [5.5, 4.2],\n",
       "       [4.9, 3.1],\n",
       "       [5. , 3.2],\n",
       "       [5.5, 3.5],\n",
       "       [4.9, 3.6],\n",
       "       [4.4, 3. ],\n",
       "       [5.1, 3.4],\n",
       "       [5. , 3.5],\n",
       "       [4.5, 2.3],\n",
       "       [4.4, 3.2],\n",
       "       [5. , 3.5],\n",
       "       [5.1, 3.8],\n",
       "       [4.8, 3. ],\n",
       "       [5.1, 3.8],\n",
       "       [4.6, 3.2],\n",
       "       [5.3, 3.7],\n",
       "       [5. , 3.3]])"
      ]
     },
     "execution_count": 3,
     "metadata": {},
     "output_type": "execute_result"
    }
   ],
   "source": [
    "X"
   ]
  },
  {
   "cell_type": "raw",
   "metadata": {},
   "source": [
    "np.random.seed(17)\n",
    "x = np.arange(1,11)\n",
    "y = 2 * x + np.random.randn(10)*2\n",
    "X = np.vstack((x,y))"
   ]
  },
  {
   "cell_type": "code",
   "execution_count": 4,
   "metadata": {},
   "outputs": [
    {
     "data": {
      "text/plain": [
       "<matplotlib.collections.PathCollection at 0x237ef36faf0>"
      ]
     },
     "execution_count": 4,
     "metadata": {},
     "output_type": "execute_result"
    },
    {
     "data": {
      "image/png": "[encoded data removed]",
      "text/plain": [
       "<Figure size 432x288 with 1 Axes>"
      ]
     },
     "metadata": {
      "needs_background": "light"
     },
     "output_type": "display_data"
    }
   ],
   "source": [
    "plt.scatter(X[:,0], X[:,1])"
   ]
  },
  {
   "cell_type": "markdown",
   "metadata": {},
   "source": [
    "Центрируем их"
   ]
  },
  {
   "cell_type": "code",
   "execution_count": 5,
   "metadata": {
    "scrolled": true
   },
   "outputs": [
    {
     "data": {
      "text/plain": [
       "array([5.006, 3.428])"
      ]
     },
     "execution_count": 5,
     "metadata": {},
     "output_type": "execute_result"
    }
   ],
   "source": [
    "mean = np.mean(X, axis=0)\n",
    "X_c = X - mean\n",
    "mean"
   ]
  },
  {
   "cell_type": "code",
   "execution_count": 6,
   "metadata": {
    "scrolled": true
   },
   "outputs": [
    {
     "data": {
      "text/plain": [
       "array([[ 0.094,  0.072],\n",
       "       [-0.106, -0.428],\n",
       "       [-0.306, -0.228],\n",
       "       [-0.406, -0.328],\n",
       "       [-0.006,  0.172],\n",
       "       [ 0.394,  0.472],\n",
       "       [-0.406, -0.028],\n",
       "       [-0.006, -0.028],\n",
       "       [-0.606, -0.528],\n",
       "       [-0.106, -0.328],\n",
       "       [ 0.394,  0.272],\n",
       "       [-0.206, -0.028],\n",
       "       [-0.206, -0.428],\n",
       "       [-0.706, -0.428],\n",
       "       [ 0.794,  0.572],\n",
       "       [ 0.694,  0.972],\n",
       "       [ 0.394,  0.472],\n",
       "       [ 0.094,  0.072],\n",
       "       [ 0.694,  0.372],\n",
       "       [ 0.094,  0.372],\n",
       "       [ 0.394, -0.028],\n",
       "       [ 0.094,  0.272],\n",
       "       [-0.406,  0.172],\n",
       "       [ 0.094, -0.128],\n",
       "       [-0.206, -0.028],\n",
       "       [-0.006, -0.428],\n",
       "       [-0.006, -0.028],\n",
       "       [ 0.194,  0.072],\n",
       "       [ 0.194, -0.028],\n",
       "       [-0.306, -0.228],\n",
       "       [-0.206, -0.328],\n",
       "       [ 0.394, -0.028],\n",
       "       [ 0.194,  0.672],\n",
       "       [ 0.494,  0.772],\n",
       "       [-0.106, -0.328],\n",
       "       [-0.006, -0.228],\n",
       "       [ 0.494,  0.072],\n",
       "       [-0.106,  0.172],\n",
       "       [-0.606, -0.428],\n",
       "       [ 0.094, -0.028],\n",
       "       [-0.006,  0.072],\n",
       "       [-0.506, -1.128],\n",
       "       [-0.606, -0.228],\n",
       "       [-0.006,  0.072],\n",
       "       [ 0.094,  0.372],\n",
       "       [-0.206, -0.428],\n",
       "       [ 0.094,  0.372],\n",
       "       [-0.406, -0.228],\n",
       "       [ 0.294,  0.272],\n",
       "       [-0.006, -0.128]])"
      ]
     },
     "execution_count": 6,
     "metadata": {},
     "output_type": "execute_result"
    }
   ],
   "source": [
    "X_c"
   ]
  },
  {
   "cell_type": "markdown",
   "metadata": {},
   "source": [
    "Матрица ковариации"
   ]
  },
  {
   "cell_type": "code",
   "execution_count": 7,
   "metadata": {},
   "outputs": [
    {
     "data": {
      "text/plain": [
       "array([[0.12424898, 0.09921633],\n",
       "       [0.09921633, 0.1436898 ]])"
      ]
     },
     "execution_count": 7,
     "metadata": {},
     "output_type": "execute_result"
    }
   ],
   "source": [
    "cov = np.cov(X_c.T)\n",
    "cov"
   ]
  },
  {
   "cell_type": "markdown",
   "metadata": {},
   "source": [
    "Собственные значения и вектора"
   ]
  },
  {
   "cell_type": "code",
   "execution_count": 8,
   "metadata": {},
   "outputs": [
    {
     "data": {
      "text/plain": [
       "(array([0.03427804, 0.23366074]),\n",
       " array([[-0.74077832, -0.67174957],\n",
       "        [ 0.67174957, -0.74077832]]))"
      ]
     },
     "execution_count": 8,
     "metadata": {},
     "output_type": "execute_result"
    }
   ],
   "source": [
    "vals, vecs = np.linalg.eig(cov)\n",
    "vals, vecs"
   ]
  },
  {
   "cell_type": "code",
   "execution_count": 9,
   "metadata": {},
   "outputs": [
    {
     "data": {
      "text/plain": [
       "0.8720676576936601"
      ]
     },
     "execution_count": 9,
     "metadata": {},
     "output_type": "execute_result"
    }
   ],
   "source": [
    "max(vals) / sum(vals)"
   ]
  },
  {
   "cell_type": "markdown",
   "metadata": {},
   "source": [
    "Берем вектор с максимальным значением"
   ]
  },
  {
   "cell_type": "code",
   "execution_count": 10,
   "metadata": {},
   "outputs": [
    {
     "data": {
      "text/plain": [
       "array([ 0.1164805 , -0.38825857, -0.37445282, -0.51570561,  0.12338337,\n",
       "        0.6143167 , -0.29347212, -0.02477229, -0.79821119, -0.31418074,\n",
       "        0.46616103, -0.1591222 , -0.45543353, -0.79130832,  0.95709436,\n",
       "        1.18623073,  0.6143167 ,  0.1164805 ,  0.74176374,  0.33871399,\n",
       "        0.24392754,  0.26463616, -0.14531646, -0.03167516, -0.1591222 ,\n",
       "       -0.32108362, -0.02477229,  0.18365546,  0.10957762, -0.37445282,\n",
       "       -0.3813557 ,  0.24392754,  0.62812245,  0.90372515, -0.31418074,\n",
       "       -0.17292795,  0.38518033,  0.05620842, -0.72413336,  0.04240267,\n",
       "        0.04930554, -1.17550322, -0.5759777 ,  0.04930554,  0.33871399,\n",
       "       -0.45543353,  0.33871399, -0.44162778,  0.39898608, -0.09885012])"
      ]
     },
     "execution_count": 10,
     "metadata": {},
     "output_type": "execute_result"
    }
   ],
   "source": [
    "np.dot(-vecs[:,1].T, X_c.T)"
   ]
  },
  {
   "cell_type": "markdown",
   "metadata": {},
   "source": [
    "Проверяем"
   ]
  },
  {
   "cell_type": "code",
   "execution_count": 11,
   "metadata": {
    "scrolled": true
   },
   "outputs": [
    {
     "data": {
      "text/plain": [
       "array([[ 0.1164805 ],\n",
       "       [-0.38825857],\n",
       "       [-0.37445282],\n",
       "       [-0.51570561],\n",
       "       [ 0.12338337],\n",
       "       [ 0.6143167 ],\n",
       "       [-0.29347212],\n",
       "       [-0.02477229],\n",
       "       [-0.79821119],\n",
       "       [-0.31418074],\n",
       "       [ 0.46616103],\n",
       "       [-0.1591222 ],\n",
       "       [-0.45543353],\n",
       "       [-0.79130832],\n",
       "       [ 0.95709436],\n",
       "       [ 1.18623073],\n",
       "       [ 0.6143167 ],\n",
       "       [ 0.1164805 ],\n",
       "       [ 0.74176374],\n",
       "       [ 0.33871399],\n",
       "       [ 0.24392754],\n",
       "       [ 0.26463616],\n",
       "       [-0.14531646],\n",
       "       [-0.03167516],\n",
       "       [-0.1591222 ],\n",
       "       [-0.32108362],\n",
       "       [-0.02477229],\n",
       "       [ 0.18365546],\n",
       "       [ 0.10957762],\n",
       "       [-0.37445282],\n",
       "       [-0.3813557 ],\n",
       "       [ 0.24392754],\n",
       "       [ 0.62812245],\n",
       "       [ 0.90372515],\n",
       "       [-0.31418074],\n",
       "       [-0.17292795],\n",
       "       [ 0.38518033],\n",
       "       [ 0.05620842],\n",
       "       [-0.72413336],\n",
       "       [ 0.04240267],\n",
       "       [ 0.04930554],\n",
       "       [-1.17550322],\n",
       "       [-0.5759777 ],\n",
       "       [ 0.04930554],\n",
       "       [ 0.33871399],\n",
       "       [-0.45543353],\n",
       "       [ 0.33871399],\n",
       "       [-0.44162778],\n",
       "       [ 0.39898608],\n",
       "       [-0.09885012]])"
      ]
     },
     "execution_count": 11,
     "metadata": {},
     "output_type": "execute_result"
    }
   ],
   "source": [
    "pca = PCA(n_components=1)\n",
    "X_pca = pca.fit_transform(X)\n",
    "X_pca"
   ]
  },
  {
   "cell_type": "code",
   "execution_count": 12,
   "metadata": {
    "scrolled": true
   },
   "outputs": [
    {
     "data": {
      "text/plain": [
       "array([0.87206766])"
      ]
     },
     "execution_count": 12,
     "metadata": {},
     "output_type": "execute_result"
    }
   ],
   "source": [
    "pca.explained_variance_ratio_"
   ]
  },
  {
   "cell_type": "markdown",
   "metadata": {},
   "source": [
    "Сколько компонент брать?"
   ]
  },
  {
   "cell_type": "code",
   "execution_count": 13,
   "metadata": {},
   "outputs": [],
   "source": [
    "digits = datasets.load_digits()\n",
    "X = digits.data\n",
    "y = digits.target"
   ]
  },
  {
   "cell_type": "code",
   "execution_count": 14,
   "metadata": {},
   "outputs": [
    {
     "data": {
      "image/png": "[encoded data removed]",
      "text/plain": [
       "<Figure size 720x504 with 1 Axes>"
      ]
     },
     "metadata": {
      "needs_background": "light"
     },
     "output_type": "display_data"
    }
   ],
   "source": [
    "pca = PCA().fit(X)\n",
    "\n",
    "plt.figure(figsize=(10,7))\n",
    "plt.plot(np.cumsum(pca.explained_variance_ratio_), color='k', lw=2)\n",
    "plt.xlabel('Number of components')\n",
    "plt.ylabel('Total explained variance')\n",
    "plt.xlim(0, 63)\n",
    "plt.yticks(np.arange(0, 1.1, 0.1))\n",
    "plt.axvline(21, c='b')\n",
    "plt.axhline(0.9, c='r')\n",
    "plt.show();"
   ]
  },
  {
   "cell_type": "code",
   "execution_count": null,
   "metadata": {},
   "outputs": [],
   "source": []
  }
 ],
 "metadata": {
  "kernelspec": {
   "display_name": "Python 3",
   "language": "python",
   "name": "python3"
  },
  "language_info": {
   "codemirror_mode": {
    "name": "ipython",
    "version": 3
   },
   "file_extension": ".py",
   "mimetype": "text/x-python",
   "name": "python",
   "nbconvert_exporter": "python",
   "pygments_lexer": "ipython3",
   "version": "3.8.5"
  }
 },
 "nbformat": 4,
 "nbformat_minor": 4
}
