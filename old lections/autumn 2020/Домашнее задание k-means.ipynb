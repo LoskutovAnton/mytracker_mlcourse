{
 "cells": [
  {
   "cell_type": "code",
   "execution_count": null,
   "metadata": {},
   "outputs": [],
   "source": [
    "from sklearn.metrics.pairwise import euclidean_distances\n",
    "import numpy as np"
   ]
  },
  {
   "cell_type": "markdown",
   "metadata": {},
   "source": [
    "Сначала реализуйте метод, который из набора данных случайным образом выберет нужное кол-во точек в качестве центройдов (они все должны быть различными)."
   ]
  },
  {
   "cell_type": "code",
   "execution_count": null,
   "metadata": {},
   "outputs": [],
   "source": [
    "def init_random(X, k):\n",
    "    pass\n",
    "    return centroids"
   ]
  },
  {
   "cell_type": "code",
   "execution_count": null,
   "metadata": {},
   "outputs": [],
   "source": [
    "np.random.seed(10)\n",
    "X = np.random.random((10, 3))\n",
    "centroids = init_random(X, 4)\n",
    "\n",
    "true_res = X[[9, 6, 5, 1]]\n",
    "assert np.array_equal(true_res, centroids), 'Test failed'"
   ]
  },
  {
   "cell_type": "markdown",
   "metadata": {},
   "source": [
    "Теперь реализуем метод, который для каждого элемента будет выбирать ближайший ему кластер (воспользуйтесь [euclidean_distances](https://scikit-learn.org/stable/modules/generated/sklearn.metrics.pairwise.euclidean_distances.html)"
   ]
  },
  {
   "cell_type": "code",
   "execution_count": null,
   "metadata": {},
   "outputs": [],
   "source": [
    "def get_labels(X, centroids):\n",
    "    pass\n",
    "    return labels"
   ]
  },
  {
   "cell_type": "code",
   "execution_count": null,
   "metadata": {},
   "outputs": [],
   "source": [
    "labels = get_labels(X, centroids)\n",
    "true_labels = np.array([3, 3, 2, 0, 0, 2, 1, 0, 0, 0])\n",
    "assert np.array_equal(true_labels, labels), 'Test failed'"
   ]
  },
  {
   "cell_type": "markdown",
   "metadata": {},
   "source": [
    "Теперь реализуйте класс MyKmeans, в котором будет метод fit и predict."
   ]
  },
  {
   "cell_type": "code",
   "execution_count": null,
   "metadata": {},
   "outputs": [],
   "source": [
    "class MyKmeans: \n",
    "    def __init__(self, k=2, max_iter=1000, random_state=None):\n",
    "        \"\"\"Инициализация метода\n",
    "        \n",
    "        Args:\n",
    "            k (int) - количество кластеров\n",
    "            max_iter (int) - максиальное количество итераций\n",
    "            random_state (int) - seed для инициализации генератора случайных чисел\n",
    "        \"\"\"\n",
    "        self.k = k\n",
    "        self.random_state = random_state\n",
    "        self.max_iter = max_iter\n",
    "    \n",
    "    def fit(self, X, y=None):\n",
    "        \"\"\"Процедура обучения k-means\n",
    "        \"\"\"\n",
    "        \n",
    "        # Инициализация генератора случайных чисел\n",
    "        # TODO\n",
    "        \n",
    "        # Инициализация массива с метками кластеров для каждого объекта из X\n",
    "        # TODO\n",
    "        \n",
    "        # Массив с центройдами кластеров \n",
    "        # TODO\n",
    "        \n",
    "        # Запоминаем старые центройды и начальные (для преждевременного выхода из цикла и анализа точности далее)\n",
    "        # TODO\n",
    "        \n",
    "        ## Цикл обучения\n",
    "        for i in range(self.max_iter):\n",
    "            \n",
    "            # TODO\n",
    "        \n",
    "        return self\n",
    "    \n",
    "    def predict(self, X, y=None):\n",
    "        # возвращаем метки для выборки\n",
    "        # TODO\n",
    "        return labels"
   ]
  },
  {
   "cell_type": "markdown",
   "metadata": {},
   "source": [
    "Тестируем реализацию!)"
   ]
  },
  {
   "cell_type": "code",
   "execution_count": null,
   "metadata": {},
   "outputs": [],
   "source": [
    "from sklearn.datasets import make_blobs\n",
    "import matplotlib.pyplot as plt"
   ]
  },
  {
   "cell_type": "code",
   "execution_count": null,
   "metadata": {},
   "outputs": [],
   "source": [
    "X, y = make_blobs(n_samples=100, n_features=2, centers=3, cluster_std=1, \n",
    "           center_box=(-10.0, 10.0), shuffle=False, random_state=1234)"
   ]
  },
  {
   "cell_type": "code",
   "execution_count": null,
   "metadata": {},
   "outputs": [],
   "source": [
    "plt.scatter(X[:,0], X[:, 1], c=y)"
   ]
  },
  {
   "cell_type": "code",
   "execution_count": null,
   "metadata": {},
   "outputs": [],
   "source": [
    "## Работоспособность KMeans\n",
    "model = MyKmeans(k=3).fit(X)\n",
    "plt.scatter(X[:,0], X[:, 1], c=model.labels)"
   ]
  },
  {
   "cell_type": "markdown",
   "metadata": {},
   "source": [
    "И сравниваем с sklearn"
   ]
  },
  {
   "cell_type": "code",
   "execution_count": null,
   "metadata": {},
   "outputs": [],
   "source": [
    "from sklearn.cluster import KMeans"
   ]
  },
  {
   "cell_type": "code",
   "execution_count": null,
   "metadata": {},
   "outputs": [],
   "source": [
    "%%timeit \n",
    "model = KMeans(n_clusters=3).fit(X)"
   ]
  },
  {
   "cell_type": "code",
   "execution_count": null,
   "metadata": {},
   "outputs": [],
   "source": [
    "%%timeit \n",
    "model = MyKmeans(k=3).fit(X)"
   ]
  },
  {
   "cell_type": "markdown",
   "metadata": {},
   "source": [
    "Для проверки поместите реализованный класс в питон скрипт с названием Фамилия\\_И\\_О_kmeans.py (ФИО латиницей) https://forms.gle/pDxyshJtuzpcMsqL7"
   ]
  }
 ],
 "metadata": {
  "kernelspec": {
   "display_name": "Python 3",
   "language": "python",
   "name": "python3"
  },
  "language_info": {
   "codemirror_mode": {
    "name": "ipython",
    "version": 3
   },
   "file_extension": ".py",
   "mimetype": "text/x-python",
   "name": "python",
   "nbconvert_exporter": "python",
   "pygments_lexer": "ipython3",
   "version": "3.8.5"
  }
 },
 "nbformat": 4,
 "nbformat_minor": 4
}
