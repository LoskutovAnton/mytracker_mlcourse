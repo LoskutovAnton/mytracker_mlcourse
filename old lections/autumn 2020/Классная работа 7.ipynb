{
 "cells": [
  {
   "cell_type": "code",
   "execution_count": null,
   "metadata": {},
   "outputs": [],
   "source": [
    "import numpy as np\n",
    "from sklearn import datasets\n",
    "from sklearn.model_selection import train_test_split\n",
    "from sklearn.neighbors import KNeighborsClassifier\n",
    "from sklearn.model_selection import GridSearchCV"
   ]
  },
  {
   "cell_type": "code",
   "execution_count": null,
   "metadata": {},
   "outputs": [],
   "source": [
    "def make_dataset(n_samples, n_features, n_classes):\n",
    "    X, y = datasets.make_classification(n_samples=n_samples, \n",
    "                                        n_features=n_features, \n",
    "                                        n_informative=n_features, \n",
    "                                        n_redundant=0, \n",
    "                                        n_classes=n_classes,\n",
    "                                        random_state=45)\n",
    "    X = np.exp(X)\n",
    "    return X, y"
   ]
  },
  {
   "cell_type": "code",
   "execution_count": null,
   "metadata": {},
   "outputs": [],
   "source": [
    "y_true = np.array([1] * 10 + [0] * 100)\n",
    "y_pred = np.array([0] * 5 + [1] * 5 + [0] * 90 + [1] * 10)"
   ]
  },
  {
   "cell_type": "markdown",
   "metadata": {},
   "source": [
    "https://forms.gle/gbjVnKawrb5tWzco7"
   ]
  },
  {
   "cell_type": "markdown",
   "metadata": {},
   "source": [
    "**1. Реализуйте фукнцию вычисления TP, TN, FN, FP для двухклассовой классификации. Какие значения у вас получились?**"
   ]
  },
  {
   "cell_type": "code",
   "execution_count": null,
   "metadata": {},
   "outputs": [],
   "source": [
    "def compute_tp_tn_fn_fp(y_true, y_pred):\n",
    "    # True positive - Истина = 1, Предсказание = 1\n",
    "    # False positive - Истина = 1, Предсказание = 0\n",
    "    # False negative - Истина = 0, Предсказание = 1\n",
    "    # True negative - Истина = 0, Предсказание = 0\n",
    "    # code\n",
    "    return tp, tn, fp, fn"
   ]
  },
  {
   "cell_type": "code",
   "execution_count": null,
   "metadata": {},
   "outputs": [],
   "source": [
    "# Выполните ячейку для получения ответа\n",
    "tp, tn, fn, fp = compute_tp_tn_fn_fp(y_true, y_pred)\n",
    "print(f'TP: {tp}, TN: {tn}, FN: {fn}, FP: {fp}')"
   ]
  },
  {
   "cell_type": "markdown",
   "metadata": {},
   "source": [
    "**2. Реализуйте метрику accuracy для двухклассовой классификации. Какое значение у вас получилось?**"
   ]
  },
  {
   "cell_type": "code",
   "execution_count": null,
   "metadata": {},
   "outputs": [],
   "source": [
    "def compute_accuracy(y_true, y_pred):\n",
    "    # code\n",
    "    return acc"
   ]
  },
  {
   "cell_type": "code",
   "execution_count": null,
   "metadata": {},
   "outputs": [],
   "source": [
    "# Выполните ячейку для получения ответа\n",
    "acc = compute_accuracy(y_true, y_pred)\n",
    "print(f'Accuracy: {acc:.4f}')"
   ]
  },
  {
   "cell_type": "markdown",
   "metadata": {},
   "source": [
    "**3. Реализуйте метрику f1 score для двухклассовой классификации. Какое значение у вас получилось?**"
   ]
  },
  {
   "cell_type": "code",
   "execution_count": null,
   "metadata": {},
   "outputs": [],
   "source": [
    "def compute_f1_score(tp, tn, fn, fp):\n",
    "    # code\n",
    "    return f1"
   ]
  },
  {
   "cell_type": "code",
   "execution_count": null,
   "metadata": {},
   "outputs": [],
   "source": [
    "# Выполните ячейку для получения ответа\n",
    "f1 = compute_f1_score(tp, tn, fn, fp)\n",
    "print(f'F1 score: {f1:.4f}')"
   ]
  },
  {
   "cell_type": "markdown",
   "metadata": {},
   "source": [
    "**4. Обучите KNN с K=2 на датасете с параметрами:**\n",
    "- Число объектов 1000\n",
    "- Число фичей 10\n",
    "- Число классов 2 \n",
    "Какое значени accuracy у вас получилось?"
   ]
  },
  {
   "cell_type": "code",
   "execution_count": null,
   "metadata": {},
   "outputs": [],
   "source": [
    "X, y = make_dataset(n_samples=1000, n_features=10, n_classes=2)\n",
    "X_train, X_test, y_train, y_test = train_test_split(X, y, test_size=0.3, random_state=45)"
   ]
  },
  {
   "cell_type": "code",
   "execution_count": null,
   "metadata": {},
   "outputs": [],
   "source": [
    "#code"
   ]
  },
  {
   "cell_type": "code",
   "execution_count": null,
   "metadata": {},
   "outputs": [],
   "source": [
    "print(f'Accuracy: {acc:.4f}')"
   ]
  },
  {
   "cell_type": "markdown",
   "metadata": {},
   "source": [
    "**5. При каких параметрах достигается лучший результат по f1 мере?**"
   ]
  },
  {
   "cell_type": "code",
   "execution_count": null,
   "metadata": {},
   "outputs": [],
   "source": [
    "params = {\n",
    "    'weights': ['uniform', 'distance'],\n",
    "    'metric': ['euclidean', 'manhattan', 'chebyshev'],\n",
    "    'n_neighbors': range(1, 10)\n",
    "}"
   ]
  },
  {
   "cell_type": "code",
   "execution_count": null,
   "metadata": {},
   "outputs": [],
   "source": [
    "#code"
   ]
  },
  {
   "cell_type": "code",
   "execution_count": null,
   "metadata": {},
   "outputs": [],
   "source": []
  }
 ],
 "metadata": {
  "kernelspec": {
   "display_name": "Python 3",
   "language": "python",
   "name": "python3"
  },
  "language_info": {
   "codemirror_mode": {
    "name": "ipython",
    "version": 3
   },
   "file_extension": ".py",
   "mimetype": "text/x-python",
   "name": "python",
   "nbconvert_exporter": "python",
   "pygments_lexer": "ipython3",
   "version": "3.8.5"
  }
 },
 "nbformat": 4,
 "nbformat_minor": 4
}
