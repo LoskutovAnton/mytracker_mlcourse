{
 "cells": [
  {
   "cell_type": "markdown",
   "metadata": {},
   "source": [
    "## Домашнее задание 1"
   ]
  },
  {
   "cell_type": "markdown",
   "metadata": {},
   "source": [
    "В данном домашнем задании вы попробуете написать свою реализацию логистической регрессии."
   ]
  },
  {
   "cell_type": "code",
   "execution_count": null,
   "metadata": {},
   "outputs": [],
   "source": [
    "import numpy as np\n",
    "import matplotlib.pyplot as plt "
   ]
  },
  {
   "cell_type": "markdown",
   "metadata": {},
   "source": [
    "Для начала нам нужно реализовать основную функцию - сигмойду. Напомню, что ее формула выглядит вот так: \n",
    "\n",
    "$$\\sigma(z) = \\frac{1}{1 + exp(-z)}.$$"
   ]
  },
  {
   "cell_type": "code",
   "execution_count": null,
   "metadata": {},
   "outputs": [],
   "source": [
    "def sigmoid(z):\n",
    "    pass\n",
    "    return sigm"
   ]
  },
  {
   "cell_type": "code",
   "execution_count": null,
   "metadata": {},
   "outputs": [],
   "source": [
    "x = np.linspace(-10, 10, 100) \n",
    "y = sigmoid(x) \n",
    "  \n",
    "plt.plot(x, y) \n",
    "plt.xlabel(\"x\") \n",
    "plt.ylabel(\"Sigmoid(X)\") \n",
    "  \n",
    "plt.show() "
   ]
  },
  {
   "cell_type": "markdown",
   "metadata": {},
   "source": [
    "Следующее, что нам понадобится - сама логистическая функция потерь:\n",
    "\n",
    "$$-\\text{ln}L(W) = -\\sum^{l}_{i=1} (y_{i} \\text{log}(h_{i}) + (1 - y_{i})\\text{log}(1 - h_{i}).$$\n",
    "$$h_{i} = \\sigma(w^{T}x)$$\n",
    "$$Loss(W) = \\frac{1}{m}(-y\\text{log}(h)-(1-y)\\text{log}(1-h))$$"
   ]
  },
  {
   "cell_type": "code",
   "execution_count": null,
   "metadata": {},
   "outputs": [],
   "source": [
    "def log_loss(h, y):\n",
    "    pass\n",
    "    return loss"
   ]
  },
  {
   "cell_type": "code",
   "execution_count": null,
   "metadata": {},
   "outputs": [],
   "source": [
    "assert log_loss(np.full(5, 1-1e-6), np.full(5, 1-1e-6)) < 1e-5, 'Test failed'"
   ]
  },
  {
   "cell_type": "markdown",
   "metadata": {},
   "source": [
    "Далее надо реализовать шаги градиентного спуска по формулам:\n",
    "$$grad = \\frac{\\delta Loss(W)}{\\delta W} = \\frac{1}{m}X^T(h-y)$$\n",
    "$$W_{next} = W - learning\\_rate \\cdot grad$$\n",
    "\n",
    "На каждом шаге нам надо вычислить градиент и обновить веса. Также на каждом шаге будем сохранять наш loss"
   ]
  },
  {
   "cell_type": "code",
   "execution_count": null,
   "metadata": {},
   "outputs": [],
   "source": [
    "def gradient_descent(X, y, w, lr, num_iter):\n",
    "    pass\n",
    "    return w, losses"
   ]
  },
  {
   "cell_type": "markdown",
   "metadata": {},
   "source": [
    "И куда без функции predict - она будет принимать параметры модели после обучения и выборку для предсказания. После получения предикта, по порогу 0.5 надо будет выбрать класс 0  или 1"
   ]
  },
  {
   "cell_type": "code",
   "execution_count": null,
   "metadata": {},
   "outputs": [],
   "source": [
    "def predict(X, w):\n",
    "    pass\n",
    "    return preds"
   ]
  },
  {
   "cell_type": "markdown",
   "metadata": {},
   "source": [
    "Также не забудем про add_intercept - метод, который добавит колонку из единиц к нашим данным"
   ]
  },
  {
   "cell_type": "code",
   "execution_count": null,
   "metadata": {},
   "outputs": [],
   "source": [
    "def add_intercept(X):\n",
    "    pass\n",
    "    return X_with_bias"
   ]
  },
  {
   "cell_type": "markdown",
   "metadata": {},
   "source": [
    "Теперь протестируем полученные фукнции"
   ]
  },
  {
   "cell_type": "code",
   "execution_count": null,
   "metadata": {},
   "outputs": [],
   "source": [
    "from sklearn.datasets import make_classification\n",
    "import matplotlib.pyplot as plt\n",
    "from sklearn.model_selection import train_test_split\n",
    "\n",
    "X, y = make_classification(n_samples=1000, n_features=10, n_informative=2,\n",
    "                                    n_redundant=0, n_classes=2, random_state=1)\n",
    "\n",
    "X_with_bias = add_intercept(X)\n",
    "w = np.zeros(X.shape[1] + 1)\n",
    "w, losses = gradient_descent(X_with_bias, y, w, 0.01, 5_000)\n",
    "\n",
    "preds = predict(X_with_bias, w)\n",
    "score = (y == preds).mean()\n",
    "print(f'Accuracy = {score}')\n",
    "assert score > 0.85, 'Test failed'\n",
    "plt.plot(losses)\n",
    "plt.show()"
   ]
  },
  {
   "cell_type": "markdown",
   "metadata": {},
   "source": [
    "Теперь реализуйте классификатор в виде класса и сравните с реализацией sklearn.  \n",
    "Следуйте общепринятой нотации sklearn."
   ]
  },
  {
   "cell_type": "code",
   "execution_count": null,
   "metadata": {},
   "outputs": [],
   "source": [
    "class LogReg:\n",
    "    def __init__(self, lr=0.01, num_iter=100000, fit_intercept=True, verbose=True):\n",
    "        self.lr = lr\n",
    "        self.num_iter = num_iter\n",
    "        self.fit_intercept = fit_intercept\n",
    "        self.threshold = 0.5\n",
    "        self.verbose = verbose\n",
    "        self.losses = []\n",
    "    \n",
    "    def add_intercept(self, X):\n",
    "        pass\n",
    "    \n",
    "    def sigmoid(self, z):\n",
    "        pass\n",
    "\n",
    "    def log_loss(self, h, y):\n",
    "        pass\n",
    "    \n",
    "    def fit(self, X, y):\n",
    "        pass\n",
    "    \n",
    "    def predict_proba(self, X):\n",
    "        pass\n",
    "    \n",
    "    def predict(self, X):\n",
    "        pass\n",
    "    \n",
    "    def score(self, X_test, y_test):\n",
    "        pass"
   ]
  },
  {
   "cell_type": "code",
   "execution_count": null,
   "metadata": {},
   "outputs": [],
   "source": [
    "X_train, X_test, y_train, y_test = train_test_split(X, y, test_size=0.3, random_state=45)"
   ]
  },
  {
   "cell_type": "code",
   "execution_count": null,
   "metadata": {},
   "outputs": [],
   "source": [
    "clf = LogReg(lr=0.1, num_iter=1000)\n",
    "clf.fit(X_train, y_train)"
   ]
  },
  {
   "cell_type": "code",
   "execution_count": null,
   "metadata": {},
   "outputs": [],
   "source": [
    "preds = clf.predict(X_test)\n",
    "score = clf.score(X_test, y_test)\n",
    "print(f'Accuracy = {score}')\n",
    "assert score > 0.85, 'Test failed'"
   ]
  },
  {
   "cell_type": "code",
   "execution_count": null,
   "metadata": {},
   "outputs": [],
   "source": [
    "from sklearn.linear_model import SGDClassifier, LinearRegression"
   ]
  },
  {
   "cell_type": "code",
   "execution_count": null,
   "metadata": {},
   "outputs": [],
   "source": [
    "clf = SGDClassifier(learning_rate='constant', eta0=0.1, max_iter=1000, loss='log', penalty=None, fit_intercept=True)\n",
    "clf.fit(X_train, y_train)"
   ]
  },
  {
   "cell_type": "code",
   "execution_count": null,
   "metadata": {},
   "outputs": [],
   "source": [
    "preds = clf.predict(X_test)\n",
    "score = clf.score(X_test, y_test)\n",
    "print(f'Accuracy = {score}')"
   ]
  },
  {
   "cell_type": "markdown",
   "metadata": {},
   "source": [
    "### Как сдать на проверку домашнее задание"
   ]
  },
  {
   "cell_type": "markdown",
   "metadata": {},
   "source": [
    "Для проверки поместите реализованный класс в питон скрипт с названием `Фамилия_И_О_LogReg.py` (ФИО латиницей) и заполните форму: https://forms.gle/2Y7k1cFKNfbzw3pA6"
   ]
  },
  {
   "cell_type": "code",
   "execution_count": null,
   "metadata": {},
   "outputs": [],
   "source": []
  }
 ],
 "metadata": {
  "kernelspec": {
   "display_name": "Python 3",
   "language": "python",
   "name": "python3"
  },
  "language_info": {
   "codemirror_mode": {
    "name": "ipython",
    "version": 3
   },
   "file_extension": ".py",
   "mimetype": "text/x-python",
   "name": "python",
   "nbconvert_exporter": "python",
   "pygments_lexer": "ipython3",
   "version": "3.7.6"
  }
 },
 "nbformat": 4,
 "nbformat_minor": 4
}
