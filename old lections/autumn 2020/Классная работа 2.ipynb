{
 "cells": [
  {
   "cell_type": "markdown",
   "metadata": {},
   "source": [
    "# <center>Тема 2. Углубленные приемы pandas, collections, numpy</center>\n",
    "## <center>Практическое задание. Работа с векторами в библиотеке NumPy</center>"
   ]
  },
  {
   "cell_type": "code",
   "execution_count": null,
   "metadata": {},
   "outputs": [],
   "source": [
    "import numpy as np\n",
    "import pandas as pd"
   ]
  },
  {
   "cell_type": "markdown",
   "metadata": {},
   "source": [
    "**1. Создайте numpy массив с числами от 100 с шагом в 10, размера 10х5**"
   ]
  },
  {
   "cell_type": "code",
   "execution_count": null,
   "metadata": {},
   "outputs": [],
   "source": [
    "# Ваш код здесь"
   ]
  },
  {
   "cell_type": "markdown",
   "metadata": {},
   "source": [
    "**2. Создайте numpy массив с числами от 100 с шагом в 10, размера 10х5 заполеннный змейкой**  \n",
    "---------->  \n",
    "<---------  \n",
    "---------->  "
   ]
  },
  {
   "cell_type": "code",
   "execution_count": null,
   "metadata": {},
   "outputs": [],
   "source": [
    "# Ваш код здесь"
   ]
  },
  {
   "cell_type": "markdown",
   "metadata": {},
   "source": [
    "**3. Вычтите из каждого ряда первого массива соответствующее значение из второго**  \n",
    "Result\n",
    "array([[2, 2, 2],\n",
    "       [2, 2, 2],\n",
    "       [2, 2, 2]])"
   ]
  },
  {
   "cell_type": "code",
   "execution_count": null,
   "metadata": {},
   "outputs": [],
   "source": [
    "a_2d = np.array([[3,3,3],[4,4,4],[5,5,5]])\n",
    "b_1d = np.array([1,2,3])"
   ]
  },
  {
   "cell_type": "code",
   "execution_count": null,
   "metadata": {},
   "outputs": [],
   "source": [
    "# Ваш код здесь"
   ]
  },
  {
   "cell_type": "markdown",
   "metadata": {},
   "source": [
    "**4. Заменить все положительные числа массива на 1, отрицательные на 0**"
   ]
  },
  {
   "cell_type": "code",
   "execution_count": null,
   "metadata": {},
   "outputs": [],
   "source": [
    "np.random.seed(0)\n",
    "X = np.random.randint(-1000, 1000, size=(3000,3000))"
   ]
  },
  {
   "cell_type": "code",
   "execution_count": null,
   "metadata": {},
   "outputs": [],
   "source": [
    "# Ваш код здесь"
   ]
  },
  {
   "cell_type": "markdown",
   "metadata": {},
   "source": [
    "**5. Создать numpy массив нулей размера NхM c границей из единиц, шириной K**"
   ]
  },
  {
   "cell_type": "code",
   "execution_count": null,
   "metadata": {},
   "outputs": [],
   "source": [
    "N = 10\n",
    "M = 6\n",
    "K = 2"
   ]
  },
  {
   "cell_type": "code",
   "execution_count": null,
   "metadata": {},
   "outputs": [],
   "source": [
    "# Ваш код здесь"
   ]
  },
  {
   "cell_type": "markdown",
   "metadata": {},
   "source": [
    "**6. Вывести все name и среднее число заказов типа 2 по месяцам, для которых общая сумма заказов за месяц, в которых число заказов типа 1 больше числа заказов типа 2, превышает среднюю сумму заказов по всем месяцам.**  \n",
    "Дополнительно: не использовать присваивание"
   ]
  },
  {
   "cell_type": "code",
   "execution_count": null,
   "metadata": {},
   "outputs": [],
   "source": [
    "# не менять\n",
    "np.random.seed(17)\n",
    "data = pd.DataFrame({'name': np.random.randint(0, 10, size=1000),\n",
    "                     'date': pd.date_range('2019-01-01', '2020-01-01', periods=1000),\n",
    "                     'order_type_1': np.random.randint(0, 100, size=1000),\n",
    "                     'order_type_2': np.random.randint(0, 100, size=1000)})\n",
    "data.loc[data['order_type_1'] % 5 == 0, 'order_type_1'] = np.nan\n",
    "data.loc[data['order_type_2'] % 3 == 0, 'order_type_2'] = np.nan\n",
    "data.head()\n",
    "\n",
    "# order_type - сумма заказа типа 1 и типа 2 на определенную дату. NaN если заказа не было"
   ]
  },
  {
   "cell_type": "code",
   "execution_count": null,
   "metadata": {},
   "outputs": [],
   "source": [
    "# Ваш код здесь"
   ]
  }
 ],
 "metadata": {
  "anaconda-cloud": {},
  "kernelspec": {
   "display_name": "Python 3",
   "language": "python",
   "name": "python3"
  },
  "language_info": {
   "codemirror_mode": {
    "name": "ipython",
    "version": 3
   },
   "file_extension": ".py",
   "mimetype": "text/x-python",
   "name": "python",
   "nbconvert_exporter": "python",
   "pygments_lexer": "ipython3",
   "version": "3.8.3"
  },
  "name": "seminar02_practice_pandas_titanic.ipynb"
 },
 "nbformat": 4,
 "nbformat_minor": 4
}
