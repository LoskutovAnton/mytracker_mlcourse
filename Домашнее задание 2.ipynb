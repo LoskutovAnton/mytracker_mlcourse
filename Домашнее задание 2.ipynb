{
 "cells": [
  {
   "cell_type": "markdown",
   "metadata": {},
   "source": [
    "# Домашнее задание 2"
   ]
  },
  {
   "cell_type": "markdown",
   "metadata": {},
   "source": [
    "В данном домашнем задании вы еще раз потренируетесь в применении библиотек numpy и pandas.\n",
    "Задание состоит из 3 этапов:\n",
    "- Тренировка с numpy\n",
    "- Тренировака с pandas\n",
    "- Дополнительное задание с геоданными"
   ]
  },
  {
   "cell_type": "code",
   "execution_count": 1,
   "metadata": {},
   "outputs": [],
   "source": [
    "import pandas as pd\n",
    "import numpy as np"
   ]
  },
  {
   "cell_type": "markdown",
   "metadata": {},
   "source": [
    "## Numpy"
   ]
  },
  {
   "cell_type": "markdown",
   "metadata": {},
   "source": [
    "#### 1. Дано несколько numpy-массивов одной длины. Найдите максимальное значение для каждого индекса (максимум среди всех значений в массивах с индексом 0 и т.д.).\n",
    "Авторское решение умещается в 3 строки.\\\n",
    "**Пример**\\\n",
    "Дано: [1, 2, 3], [1, 1, 1], [2, 2, 2]\\\n",
    "Ответ: [2, 2, 3]"
   ]
  },
  {
   "cell_type": "code",
   "execution_count": 2,
   "metadata": {},
   "outputs": [
    {
     "data": {
      "text/plain": [
       "array([False, False, False])"
      ]
     },
     "execution_count": 2,
     "metadata": {},
     "output_type": "execute_result"
    }
   ],
   "source": [
    "def task1(list_of_arrays):\n",
    "    # TODO\n",
    "    pass\n",
    "\n",
    "task1([np.array([1, 2, 3]), np.array([1, 1, 1]), np.array([2, 2, 2])]) == np.array([2, 2, 3])"
   ]
  },
  {
   "cell_type": "markdown",
   "metadata": {},
   "source": [
    "#### 2. Найти в матрице самый близкий элемент к заданному.\n",
    "Авторское решение умещается в 1 строку.\\\n",
    "**Пример**\\\n",
    "Матрица:\\\n",
    "1 2 3 4 5\\\n",
    "6 7 8 9 9\\\n",
    "Число: 3.3\\\n",
    "Наиболее близкое число 3.  \n",
    "Число: -0.5  \n",
    "Наиболее близкое число 1."
   ]
  },
  {
   "cell_type": "code",
   "execution_count": 3,
   "metadata": {},
   "outputs": [
    {
     "data": {
      "text/plain": [
       "False"
      ]
     },
     "execution_count": 3,
     "metadata": {},
     "output_type": "execute_result"
    }
   ],
   "source": [
    "def task2(matrix, number):\n",
    "    # TODO\n",
    "    pass\n",
    "\n",
    "task2(np.array([1, 2, 3, 4, 5, 6, 7, 8, 9, 9]).reshape(2, 5), 3.3) == 3"
   ]
  },
  {
   "cell_type": "markdown",
   "metadata": {},
   "source": [
    "#### 3. Создайте квадратную матрицу размера NxN следующего вида.\n",
    "Авторское решение умещается в 1 строку.\\\n",
    "**Пример**\\\n",
    "0 1 2 3\\\n",
    "1 2 3 4\\\n",
    "2 3 4 5\\\n",
    "3 4 5 6"
   ]
  },
  {
   "cell_type": "code",
   "execution_count": 4,
   "metadata": {},
   "outputs": [
    {
     "data": {
      "text/plain": [
       "array([[False, False],\n",
       "       [False, False]])"
      ]
     },
     "execution_count": 4,
     "metadata": {},
     "output_type": "execute_result"
    }
   ],
   "source": [
    "def task3(size):\n",
    "    # TODO\n",
    "    pass\n",
    "\n",
    "task3(2) == np.array([[0, 1], [1, 2]])"
   ]
  },
  {
   "cell_type": "markdown",
   "metadata": {},
   "source": [
    "#### 4. Сделайте полный разворот матрицы.\n",
    "Авторское решение умещается в 1 строку.\\\n",
    "**Пример**\\\n",
    "На вход подается матрица:\\\n",
    "1 2 3\\\n",
    "4 5 6\\\n",
    "7 8 9\n",
    "\n",
    "А функция возвращает:\\\n",
    "9 8 7\\\n",
    "6 5 4\\\n",
    "3 2 1"
   ]
  },
  {
   "cell_type": "code",
   "execution_count": 5,
   "metadata": {},
   "outputs": [
    {
     "data": {
      "text/plain": [
       "array([[False],\n",
       "       [False]])"
      ]
     },
     "execution_count": 5,
     "metadata": {},
     "output_type": "execute_result"
    }
   ],
   "source": [
    "def task4(a):\n",
    "    # TODO\n",
    "    pass\n",
    "\n",
    "matrix = np.arange(2 * 1).reshape(2, 1)\n",
    "task4(matrix) == np.array([[1], [0]])"
   ]
  },
  {
   "cell_type": "markdown",
   "metadata": {},
   "source": [
    "## Pandas"
   ]
  },
  {
   "cell_type": "markdown",
   "metadata": {},
   "source": [
    "Данные содержат вызовы службы 311, которая отвечает за неэкстренные службы. Более подробно про службу 311 можно почитать на википедии: https://en.wikipedia.org/wiki/3-1-1 \\\n",
    "Ниже дано описание 6 колонок, которые вам понадобятся при выполнении этого задания. \\\n",
    "Данные представлены в обрезанном виде, чтобы не было проблем при работе с ними. Полный датасет можно найти, например, тут: https://data.cityofnewyork.us/Social-Services/311-Service-Requests-from-2010-to-Present/erm2-nwe9"
   ]
  },
  {
   "cell_type": "markdown",
   "metadata": {},
   "source": [
    "`Agency` \\\n",
    "Acronym of responding City Government Agency\n",
    "\n",
    "`City` \\\n",
    "City of the incident location provided by geovalidation.\n",
    "\n",
    "`Complaint Type` \\\n",
    "This is the first level of a hierarchy identifying the topic of the incident or condition. Complaint Type may have a corresponding Descriptor (below) or may stand alone.\n",
    "\n",
    "`Created Date` \\\n",
    "Date SR (Service Request) was created.\n",
    "\n",
    "`Descriptor` \\\n",
    "This is  associated to the Complaint Type, and provides further detail on the incident or condition. Descriptor values are dependent on the Complaint Type, and are not always required in SR.\n",
    "\n",
    "`Location Type` \\\n",
    "Describes the type of location used in the address information"
   ]
  },
  {
   "cell_type": "code",
   "execution_count": null,
   "metadata": {},
   "outputs": [],
   "source": [
    "filepath = 'https://raw.githubusercontent.com/jvns/pandas-cookbook/master/data/311-service-requests.csv'\n",
    "cols = ['Agency', 'City', 'Complaint Type', 'Created Date', 'Descriptor', 'Location Type']\n",
    "df = pd.read_csv(filepath, usecols=cols, low_memory=False)"
   ]
  },
  {
   "cell_type": "code",
   "execution_count": null,
   "metadata": {},
   "outputs": [],
   "source": [
    "df.head()"
   ]
  },
  {
   "cell_type": "markdown",
   "metadata": {},
   "source": [
    "#### 1. Какое agency встречается больше 30_000 раз?"
   ]
  },
  {
   "cell_type": "code",
   "execution_count": null,
   "metadata": {},
   "outputs": [],
   "source": [
    "# Ваш код здесь"
   ]
  },
  {
   "cell_type": "markdown",
   "metadata": {},
   "source": [
    "#### 2. Какое количество раз встречается `Complaint Type == Noise` при условии `agency == DEP`?"
   ]
  },
  {
   "cell_type": "code",
   "execution_count": null,
   "metadata": {},
   "outputs": [],
   "source": [
    "# Ваш код здесь"
   ]
  },
  {
   "cell_type": "markdown",
   "metadata": {},
   "source": [
    "#### 3. Найдите дату подачи самой поздней закрытой жалобы."
   ]
  },
  {
   "cell_type": "code",
   "execution_count": null,
   "metadata": {},
   "outputs": [],
   "source": [
    "# Ваш код здесь"
   ]
  },
  {
   "cell_type": "markdown",
   "metadata": {},
   "source": [
    "#### 4. Для самой поздней закрытой жалобы определите `City` и  `Descriptor`."
   ]
  },
  {
   "cell_type": "code",
   "execution_count": null,
   "metadata": {},
   "outputs": [],
   "source": [
    "# Ваш код здесь"
   ]
  },
  {
   "cell_type": "markdown",
   "metadata": {},
   "source": [
    "#### 5. На сколько больше жалоб на громкие разговоры, чем на громкую музыку?\n",
    "Жалобы только этих 2 типов попадают под `Compaint Type == Noise - Street/Sidewalk`."
   ]
  },
  {
   "cell_type": "code",
   "execution_count": null,
   "metadata": {},
   "outputs": [],
   "source": [
    "# Ваш код здесь"
   ]
  },
  {
   "cell_type": "markdown",
   "metadata": {},
   "source": [
    "#### 6. Найдите самую частую локацию в Нью-Йорке, где происходит больше всего нарушений (в сумме) по следующим типам:\n",
    "- Derelict Vehicle\n",
    "- Urinating in Public (LOL)\n",
    "- Drinking\n",
    "\n",
    "Город надо определять по полю `City`. Типы нарушений описаны в колонке `Complaint Type`. Локацию внутри города можно определить по колонке `Location Type`."
   ]
  },
  {
   "cell_type": "code",
   "execution_count": null,
   "metadata": {},
   "outputs": [],
   "source": [
    "# Ваш код здесь"
   ]
  },
  {
   "cell_type": "markdown",
   "metadata": {},
   "source": [
    "## Дополнительное задание"
   ]
  },
  {
   "cell_type": "markdown",
   "metadata": {},
   "source": [
    "**Внимание!** Данное задание требует изучения дополнительных материалов, которые мы не проходили в курсе."
   ]
  },
  {
   "cell_type": "markdown",
   "metadata": {},
   "source": [
    "1. Сделайте случайное выборку из 30 строк. \n",
    "2. Найдите координаты этих точек на карте (поля `Incident Address` и `City`). Прочитать подробнее про геокоддеры можно, например, тут https://towardsdatascience.com/geocode-with-python-161ec1e62b89\n",
    "3. Найдите 5 наиболее похожих между собой точек (любым способом).\n",
    "4. Найдите среднюю координату на основе этих 5 точек.\n",
    "5. Отобразите на карте все 30 точек (или меньше, если геокодер не нашел все адреса) с центром в точке из пункта 4."
   ]
  },
  {
   "cell_type": "code",
   "execution_count": null,
   "metadata": {},
   "outputs": [],
   "source": [
    "from geopy.extra.rate_limiter import RateLimiter\n",
    "from scipy.spatial.distance import cdist\n",
    "from geopy.geocoders import Nominatim\n",
    "import folium"
   ]
  },
  {
   "cell_type": "code",
   "execution_count": null,
   "metadata": {},
   "outputs": [],
   "source": [
    "filepath = 'https://raw.githubusercontent.com/jvns/pandas-cookbook/master/data/311-service-requests.csv'\n",
    "cols = ['City', 'Incident Address']\n",
    "df = pd.read_csv(filepath, usecols=cols, low_memory=False)"
   ]
  },
  {
   "cell_type": "code",
   "execution_count": null,
   "metadata": {},
   "outputs": [],
   "source": [
    "# Ваш код здесь"
   ]
  },
  {
   "cell_type": "code",
   "execution_count": null,
   "metadata": {},
   "outputs": [],
   "source": []
  }
 ],
 "metadata": {
  "kernelspec": {
   "display_name": "Python 3",
   "language": "python",
   "name": "python3"
  },
  "language_info": {
   "codemirror_mode": {
    "name": "ipython",
    "version": 3
   },
   "file_extension": ".py",
   "mimetype": "text/x-python",
   "name": "python",
   "nbconvert_exporter": "python",
   "pygments_lexer": "ipython3",
   "version": "3.7.6"
  }
 },
 "nbformat": 4,
 "nbformat_minor": 2
}
